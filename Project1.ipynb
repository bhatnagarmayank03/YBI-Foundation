{
  "nbformat": 4,
  "nbformat_minor": 0,
  "metadata": {
    "colab": {
      "provenance": [],
      "authorship_tag": "ABX9TyM0eqoBCqUuWXFySVCunuIQ",
      "include_colab_link": true
    },
    "kernelspec": {
      "name": "python3",
      "display_name": "Python 3"
    },
    "language_info": {
      "name": "python"
    }
  },
  "cells": [
    {
      "cell_type": "markdown",
      "metadata": {
        "id": "view-in-github",
        "colab_type": "text"
      },
      "source": [
        "<a href=\"https://colab.research.google.com/github/bhatnagarmayank03/YBI-Foundation/blob/main/Project1.ipynb\" target=\"_parent\"><img src=\"https://colab.research.google.com/assets/colab-badge.svg\" alt=\"Open In Colab\"/></a>"
      ]
    },
    {
      "cell_type": "markdown",
      "source": [
        "#**Import Library**"
      ],
      "metadata": {
        "id": "NVidP7arz6K2"
      }
    },
    {
      "cell_type": "markdown",
      "source": [
        "#**Movie Recommendation System**"
      ],
      "metadata": {
        "id": "K0bFDZLtzsjY"
      }
    },
    {
      "cell_type": "code",
      "source": [
        "import pandas as pd\n",
        "import numpy as np"
      ],
      "metadata": {
        "id": "JhL325Epz3mO"
      },
      "execution_count": 1,
      "outputs": []
    },
    {
      "cell_type": "markdown",
      "source": [
        "#**Import Dataset**"
      ],
      "metadata": {
        "id": "ioDgPI8d0kv1"
      }
    },
    {
      "cell_type": "code",
      "source": [
        "df = pd.read_csv('https://github.com/YBI-Foundation/Dataset/raw/main/Movies%20Recommendation.csv')"
      ],
      "metadata": {
        "id": "-E9UYj9i0pG-"
      },
      "execution_count": 2,
      "outputs": []
    },
    {
      "cell_type": "code",
      "source": [
        "df.head()"
      ],
      "metadata": {
        "colab": {
          "base_uri": "https://localhost:8080/",
          "height": 672
        },
        "id": "Uhay4Evi08SY",
        "outputId": "32a18156-f4f3-41d7-ef96-6c8400775557"
      },
      "execution_count": 3,
      "outputs": [
        {
          "output_type": "execute_result",
          "data": {
            "text/plain": [
              "   Movie_ID      Movie_Title                       Movie_Genre Movie_Language  \\\n",
              "0         1       Four Rooms                      Crime Comedy             en   \n",
              "1         2        Star Wars  Adventure Action Science Fiction             en   \n",
              "2         3     Finding Nemo                  Animation Family             en   \n",
              "3         4     Forrest Gump              Comedy Drama Romance             en   \n",
              "4         5  American Beauty                             Drama             en   \n",
              "\n",
              "   Movie_Budget  Movie_Popularity Movie_Release_Date  Movie_Revenue  \\\n",
              "0       4000000         22.876230         09-12-1995        4300000   \n",
              "1      11000000        126.393695         25-05-1977      775398007   \n",
              "2      94000000         85.688789         30-05-2003      940335536   \n",
              "3      55000000        138.133331         06-07-1994      677945399   \n",
              "4      15000000         80.878605         15-09-1999      356296601   \n",
              "\n",
              "   Movie_Runtime  Movie_Vote  ...  \\\n",
              "0           98.0         6.5  ...   \n",
              "1          121.0         8.1  ...   \n",
              "2          100.0         7.6  ...   \n",
              "3          142.0         8.2  ...   \n",
              "4          122.0         7.9  ...   \n",
              "\n",
              "                                      Movie_Homepage  \\\n",
              "0                                                NaN   \n",
              "1  http://www.starwars.com/films/star-wars-episod...   \n",
              "2              http://movies.disney.com/finding-nemo   \n",
              "3                                                NaN   \n",
              "4                      http://www.dreamworks.com/ab/   \n",
              "\n",
              "                                      Movie_Keywords  \\\n",
              "0          hotel new year's eve witch bet hotel room   \n",
              "1        android galaxy hermit death star lightsaber   \n",
              "2  father son relationship harbor underwater fish...   \n",
              "3  vietnam veteran hippie mentally disabled runni...   \n",
              "4  male nudity female nudity adultery midlife cri...   \n",
              "\n",
              "                                      Movie_Overview  \\\n",
              "0  It's Ted the Bellhop's first night on the job....   \n",
              "1  Princess Leia is captured and held hostage by ...   \n",
              "2  Nemo, an adventurous young clownfish, is unexp...   \n",
              "3  A man with a low IQ has accomplished great thi...   \n",
              "4  Lester Burnham, a depressed suburban father in...   \n",
              "\n",
              "                              Movie_Production_House  \\\n",
              "0  [{\"name\": \"Miramax Films\", \"id\": 14}, {\"name\":...   \n",
              "1  [{\"name\": \"Lucasfilm\", \"id\": 1}, {\"name\": \"Twe...   \n",
              "2     [{\"name\": \"Pixar Animation Studios\", \"id\": 3}]   \n",
              "3          [{\"name\": \"Paramount Pictures\", \"id\": 4}]   \n",
              "4  [{\"name\": \"DreamWorks SKG\", \"id\": 27}, {\"name\"...   \n",
              "\n",
              "                            Movie_Production_Country  \\\n",
              "0  [{\"iso_3166_1\": \"US\", \"name\": \"United States o...   \n",
              "1  [{\"iso_3166_1\": \"US\", \"name\": \"United States o...   \n",
              "2  [{\"iso_3166_1\": \"US\", \"name\": \"United States o...   \n",
              "3  [{\"iso_3166_1\": \"US\", \"name\": \"United States o...   \n",
              "4  [{\"iso_3166_1\": \"US\", \"name\": \"United States o...   \n",
              "\n",
              "                      Movie_Spoken_Language  \\\n",
              "0  [{\"iso_639_1\": \"en\", \"name\": \"English\"}]   \n",
              "1  [{\"iso_639_1\": \"en\", \"name\": \"English\"}]   \n",
              "2  [{\"iso_639_1\": \"en\", \"name\": \"English\"}]   \n",
              "3  [{\"iso_639_1\": \"en\", \"name\": \"English\"}]   \n",
              "4  [{\"iso_639_1\": \"en\", \"name\": \"English\"}]   \n",
              "\n",
              "                                       Movie_Tagline  \\\n",
              "0  Twelve outrageous guests. Four scandalous requ...   \n",
              "1       A long time ago in a galaxy far, far away...   \n",
              "2  There are 3.7 trillion fish in the ocean, they...   \n",
              "3  The world will never be the same, once you've ...   \n",
              "4                                       Look closer.   \n",
              "\n",
              "                                          Movie_Cast  \\\n",
              "0  Tim Roth Antonio Banderas Jennifer Beals Madon...   \n",
              "1  Mark Hamill Harrison Ford Carrie Fisher Peter ...   \n",
              "2  Albert Brooks Ellen DeGeneres Alexander Gould ...   \n",
              "3  Tom Hanks Robin Wright Gary Sinise Mykelti Wil...   \n",
              "4  Kevin Spacey Annette Bening Thora Birch Wes Be...   \n",
              "\n",
              "                                          Movie_Crew   Movie_Director  \n",
              "0  [{'name': 'Allison Anders', 'gender': 1, 'depa...   Allison Anders  \n",
              "1  [{'name': 'George Lucas', 'gender': 2, 'depart...     George Lucas  \n",
              "2  [{'name': 'Andrew Stanton', 'gender': 2, 'depa...   Andrew Stanton  \n",
              "3  [{'name': 'Alan Silvestri', 'gender': 2, 'depa...  Robert Zemeckis  \n",
              "4  [{'name': 'Thomas Newman', 'gender': 2, 'depar...       Sam Mendes  \n",
              "\n",
              "[5 rows x 21 columns]"
            ],
            "text/html": [
              "\n",
              "  <div id=\"df-dbddd458-7def-4efa-8525-89e88e0abc09\" class=\"colab-df-container\">\n",
              "    <div>\n",
              "<style scoped>\n",
              "    .dataframe tbody tr th:only-of-type {\n",
              "        vertical-align: middle;\n",
              "    }\n",
              "\n",
              "    .dataframe tbody tr th {\n",
              "        vertical-align: top;\n",
              "    }\n",
              "\n",
              "    .dataframe thead th {\n",
              "        text-align: right;\n",
              "    }\n",
              "</style>\n",
              "<table border=\"1\" class=\"dataframe\">\n",
              "  <thead>\n",
              "    <tr style=\"text-align: right;\">\n",
              "      <th></th>\n",
              "      <th>Movie_ID</th>\n",
              "      <th>Movie_Title</th>\n",
              "      <th>Movie_Genre</th>\n",
              "      <th>Movie_Language</th>\n",
              "      <th>Movie_Budget</th>\n",
              "      <th>Movie_Popularity</th>\n",
              "      <th>Movie_Release_Date</th>\n",
              "      <th>Movie_Revenue</th>\n",
              "      <th>Movie_Runtime</th>\n",
              "      <th>Movie_Vote</th>\n",
              "      <th>...</th>\n",
              "      <th>Movie_Homepage</th>\n",
              "      <th>Movie_Keywords</th>\n",
              "      <th>Movie_Overview</th>\n",
              "      <th>Movie_Production_House</th>\n",
              "      <th>Movie_Production_Country</th>\n",
              "      <th>Movie_Spoken_Language</th>\n",
              "      <th>Movie_Tagline</th>\n",
              "      <th>Movie_Cast</th>\n",
              "      <th>Movie_Crew</th>\n",
              "      <th>Movie_Director</th>\n",
              "    </tr>\n",
              "  </thead>\n",
              "  <tbody>\n",
              "    <tr>\n",
              "      <th>0</th>\n",
              "      <td>1</td>\n",
              "      <td>Four Rooms</td>\n",
              "      <td>Crime Comedy</td>\n",
              "      <td>en</td>\n",
              "      <td>4000000</td>\n",
              "      <td>22.876230</td>\n",
              "      <td>09-12-1995</td>\n",
              "      <td>4300000</td>\n",
              "      <td>98.0</td>\n",
              "      <td>6.5</td>\n",
              "      <td>...</td>\n",
              "      <td>NaN</td>\n",
              "      <td>hotel new year's eve witch bet hotel room</td>\n",
              "      <td>It's Ted the Bellhop's first night on the job....</td>\n",
              "      <td>[{\"name\": \"Miramax Films\", \"id\": 14}, {\"name\":...</td>\n",
              "      <td>[{\"iso_3166_1\": \"US\", \"name\": \"United States o...</td>\n",
              "      <td>[{\"iso_639_1\": \"en\", \"name\": \"English\"}]</td>\n",
              "      <td>Twelve outrageous guests. Four scandalous requ...</td>\n",
              "      <td>Tim Roth Antonio Banderas Jennifer Beals Madon...</td>\n",
              "      <td>[{'name': 'Allison Anders', 'gender': 1, 'depa...</td>\n",
              "      <td>Allison Anders</td>\n",
              "    </tr>\n",
              "    <tr>\n",
              "      <th>1</th>\n",
              "      <td>2</td>\n",
              "      <td>Star Wars</td>\n",
              "      <td>Adventure Action Science Fiction</td>\n",
              "      <td>en</td>\n",
              "      <td>11000000</td>\n",
              "      <td>126.393695</td>\n",
              "      <td>25-05-1977</td>\n",
              "      <td>775398007</td>\n",
              "      <td>121.0</td>\n",
              "      <td>8.1</td>\n",
              "      <td>...</td>\n",
              "      <td>http://www.starwars.com/films/star-wars-episod...</td>\n",
              "      <td>android galaxy hermit death star lightsaber</td>\n",
              "      <td>Princess Leia is captured and held hostage by ...</td>\n",
              "      <td>[{\"name\": \"Lucasfilm\", \"id\": 1}, {\"name\": \"Twe...</td>\n",
              "      <td>[{\"iso_3166_1\": \"US\", \"name\": \"United States o...</td>\n",
              "      <td>[{\"iso_639_1\": \"en\", \"name\": \"English\"}]</td>\n",
              "      <td>A long time ago in a galaxy far, far away...</td>\n",
              "      <td>Mark Hamill Harrison Ford Carrie Fisher Peter ...</td>\n",
              "      <td>[{'name': 'George Lucas', 'gender': 2, 'depart...</td>\n",
              "      <td>George Lucas</td>\n",
              "    </tr>\n",
              "    <tr>\n",
              "      <th>2</th>\n",
              "      <td>3</td>\n",
              "      <td>Finding Nemo</td>\n",
              "      <td>Animation Family</td>\n",
              "      <td>en</td>\n",
              "      <td>94000000</td>\n",
              "      <td>85.688789</td>\n",
              "      <td>30-05-2003</td>\n",
              "      <td>940335536</td>\n",
              "      <td>100.0</td>\n",
              "      <td>7.6</td>\n",
              "      <td>...</td>\n",
              "      <td>http://movies.disney.com/finding-nemo</td>\n",
              "      <td>father son relationship harbor underwater fish...</td>\n",
              "      <td>Nemo, an adventurous young clownfish, is unexp...</td>\n",
              "      <td>[{\"name\": \"Pixar Animation Studios\", \"id\": 3}]</td>\n",
              "      <td>[{\"iso_3166_1\": \"US\", \"name\": \"United States o...</td>\n",
              "      <td>[{\"iso_639_1\": \"en\", \"name\": \"English\"}]</td>\n",
              "      <td>There are 3.7 trillion fish in the ocean, they...</td>\n",
              "      <td>Albert Brooks Ellen DeGeneres Alexander Gould ...</td>\n",
              "      <td>[{'name': 'Andrew Stanton', 'gender': 2, 'depa...</td>\n",
              "      <td>Andrew Stanton</td>\n",
              "    </tr>\n",
              "    <tr>\n",
              "      <th>3</th>\n",
              "      <td>4</td>\n",
              "      <td>Forrest Gump</td>\n",
              "      <td>Comedy Drama Romance</td>\n",
              "      <td>en</td>\n",
              "      <td>55000000</td>\n",
              "      <td>138.133331</td>\n",
              "      <td>06-07-1994</td>\n",
              "      <td>677945399</td>\n",
              "      <td>142.0</td>\n",
              "      <td>8.2</td>\n",
              "      <td>...</td>\n",
              "      <td>NaN</td>\n",
              "      <td>vietnam veteran hippie mentally disabled runni...</td>\n",
              "      <td>A man with a low IQ has accomplished great thi...</td>\n",
              "      <td>[{\"name\": \"Paramount Pictures\", \"id\": 4}]</td>\n",
              "      <td>[{\"iso_3166_1\": \"US\", \"name\": \"United States o...</td>\n",
              "      <td>[{\"iso_639_1\": \"en\", \"name\": \"English\"}]</td>\n",
              "      <td>The world will never be the same, once you've ...</td>\n",
              "      <td>Tom Hanks Robin Wright Gary Sinise Mykelti Wil...</td>\n",
              "      <td>[{'name': 'Alan Silvestri', 'gender': 2, 'depa...</td>\n",
              "      <td>Robert Zemeckis</td>\n",
              "    </tr>\n",
              "    <tr>\n",
              "      <th>4</th>\n",
              "      <td>5</td>\n",
              "      <td>American Beauty</td>\n",
              "      <td>Drama</td>\n",
              "      <td>en</td>\n",
              "      <td>15000000</td>\n",
              "      <td>80.878605</td>\n",
              "      <td>15-09-1999</td>\n",
              "      <td>356296601</td>\n",
              "      <td>122.0</td>\n",
              "      <td>7.9</td>\n",
              "      <td>...</td>\n",
              "      <td>http://www.dreamworks.com/ab/</td>\n",
              "      <td>male nudity female nudity adultery midlife cri...</td>\n",
              "      <td>Lester Burnham, a depressed suburban father in...</td>\n",
              "      <td>[{\"name\": \"DreamWorks SKG\", \"id\": 27}, {\"name\"...</td>\n",
              "      <td>[{\"iso_3166_1\": \"US\", \"name\": \"United States o...</td>\n",
              "      <td>[{\"iso_639_1\": \"en\", \"name\": \"English\"}]</td>\n",
              "      <td>Look closer.</td>\n",
              "      <td>Kevin Spacey Annette Bening Thora Birch Wes Be...</td>\n",
              "      <td>[{'name': 'Thomas Newman', 'gender': 2, 'depar...</td>\n",
              "      <td>Sam Mendes</td>\n",
              "    </tr>\n",
              "  </tbody>\n",
              "</table>\n",
              "<p>5 rows × 21 columns</p>\n",
              "</div>\n",
              "    <div class=\"colab-df-buttons\">\n",
              "\n",
              "  <div class=\"colab-df-container\">\n",
              "    <button class=\"colab-df-convert\" onclick=\"convertToInteractive('df-dbddd458-7def-4efa-8525-89e88e0abc09')\"\n",
              "            title=\"Convert this dataframe to an interactive table.\"\n",
              "            style=\"display:none;\">\n",
              "\n",
              "  <svg xmlns=\"http://www.w3.org/2000/svg\" height=\"24px\" viewBox=\"0 -960 960 960\">\n",
              "    <path d=\"M120-120v-720h720v720H120Zm60-500h600v-160H180v160Zm220 220h160v-160H400v160Zm0 220h160v-160H400v160ZM180-400h160v-160H180v160Zm440 0h160v-160H620v160ZM180-180h160v-160H180v160Zm440 0h160v-160H620v160Z\"/>\n",
              "  </svg>\n",
              "    </button>\n",
              "\n",
              "  <style>\n",
              "    .colab-df-container {\n",
              "      display:flex;\n",
              "      gap: 12px;\n",
              "    }\n",
              "\n",
              "    .colab-df-convert {\n",
              "      background-color: #E8F0FE;\n",
              "      border: none;\n",
              "      border-radius: 50%;\n",
              "      cursor: pointer;\n",
              "      display: none;\n",
              "      fill: #1967D2;\n",
              "      height: 32px;\n",
              "      padding: 0 0 0 0;\n",
              "      width: 32px;\n",
              "    }\n",
              "\n",
              "    .colab-df-convert:hover {\n",
              "      background-color: #E2EBFA;\n",
              "      box-shadow: 0px 1px 2px rgba(60, 64, 67, 0.3), 0px 1px 3px 1px rgba(60, 64, 67, 0.15);\n",
              "      fill: #174EA6;\n",
              "    }\n",
              "\n",
              "    .colab-df-buttons div {\n",
              "      margin-bottom: 4px;\n",
              "    }\n",
              "\n",
              "    [theme=dark] .colab-df-convert {\n",
              "      background-color: #3B4455;\n",
              "      fill: #D2E3FC;\n",
              "    }\n",
              "\n",
              "    [theme=dark] .colab-df-convert:hover {\n",
              "      background-color: #434B5C;\n",
              "      box-shadow: 0px 1px 3px 1px rgba(0, 0, 0, 0.15);\n",
              "      filter: drop-shadow(0px 1px 2px rgba(0, 0, 0, 0.3));\n",
              "      fill: #FFFFFF;\n",
              "    }\n",
              "  </style>\n",
              "\n",
              "    <script>\n",
              "      const buttonEl =\n",
              "        document.querySelector('#df-dbddd458-7def-4efa-8525-89e88e0abc09 button.colab-df-convert');\n",
              "      buttonEl.style.display =\n",
              "        google.colab.kernel.accessAllowed ? 'block' : 'none';\n",
              "\n",
              "      async function convertToInteractive(key) {\n",
              "        const element = document.querySelector('#df-dbddd458-7def-4efa-8525-89e88e0abc09');\n",
              "        const dataTable =\n",
              "          await google.colab.kernel.invokeFunction('convertToInteractive',\n",
              "                                                    [key], {});\n",
              "        if (!dataTable) return;\n",
              "\n",
              "        const docLinkHtml = 'Like what you see? Visit the ' +\n",
              "          '<a target=\"_blank\" href=https://colab.research.google.com/notebooks/data_table.ipynb>data table notebook</a>'\n",
              "          + ' to learn more about interactive tables.';\n",
              "        element.innerHTML = '';\n",
              "        dataTable['output_type'] = 'display_data';\n",
              "        await google.colab.output.renderOutput(dataTable, element);\n",
              "        const docLink = document.createElement('div');\n",
              "        docLink.innerHTML = docLinkHtml;\n",
              "        element.appendChild(docLink);\n",
              "      }\n",
              "    </script>\n",
              "  </div>\n",
              "\n",
              "\n",
              "<div id=\"df-55b14c81-a26f-4660-bcc0-3c55e2abdb88\">\n",
              "  <button class=\"colab-df-quickchart\" onclick=\"quickchart('df-55b14c81-a26f-4660-bcc0-3c55e2abdb88')\"\n",
              "            title=\"Suggest charts\"\n",
              "            style=\"display:none;\">\n",
              "\n",
              "<svg xmlns=\"http://www.w3.org/2000/svg\" height=\"24px\"viewBox=\"0 0 24 24\"\n",
              "     width=\"24px\">\n",
              "    <g>\n",
              "        <path d=\"M19 3H5c-1.1 0-2 .9-2 2v14c0 1.1.9 2 2 2h14c1.1 0 2-.9 2-2V5c0-1.1-.9-2-2-2zM9 17H7v-7h2v7zm4 0h-2V7h2v10zm4 0h-2v-4h2v4z\"/>\n",
              "    </g>\n",
              "</svg>\n",
              "  </button>\n",
              "\n",
              "<style>\n",
              "  .colab-df-quickchart {\n",
              "      --bg-color: #E8F0FE;\n",
              "      --fill-color: #1967D2;\n",
              "      --hover-bg-color: #E2EBFA;\n",
              "      --hover-fill-color: #174EA6;\n",
              "      --disabled-fill-color: #AAA;\n",
              "      --disabled-bg-color: #DDD;\n",
              "  }\n",
              "\n",
              "  [theme=dark] .colab-df-quickchart {\n",
              "      --bg-color: #3B4455;\n",
              "      --fill-color: #D2E3FC;\n",
              "      --hover-bg-color: #434B5C;\n",
              "      --hover-fill-color: #FFFFFF;\n",
              "      --disabled-bg-color: #3B4455;\n",
              "      --disabled-fill-color: #666;\n",
              "  }\n",
              "\n",
              "  .colab-df-quickchart {\n",
              "    background-color: var(--bg-color);\n",
              "    border: none;\n",
              "    border-radius: 50%;\n",
              "    cursor: pointer;\n",
              "    display: none;\n",
              "    fill: var(--fill-color);\n",
              "    height: 32px;\n",
              "    padding: 0;\n",
              "    width: 32px;\n",
              "  }\n",
              "\n",
              "  .colab-df-quickchart:hover {\n",
              "    background-color: var(--hover-bg-color);\n",
              "    box-shadow: 0 1px 2px rgba(60, 64, 67, 0.3), 0 1px 3px 1px rgba(60, 64, 67, 0.15);\n",
              "    fill: var(--button-hover-fill-color);\n",
              "  }\n",
              "\n",
              "  .colab-df-quickchart-complete:disabled,\n",
              "  .colab-df-quickchart-complete:disabled:hover {\n",
              "    background-color: var(--disabled-bg-color);\n",
              "    fill: var(--disabled-fill-color);\n",
              "    box-shadow: none;\n",
              "  }\n",
              "\n",
              "  .colab-df-spinner {\n",
              "    border: 2px solid var(--fill-color);\n",
              "    border-color: transparent;\n",
              "    border-bottom-color: var(--fill-color);\n",
              "    animation:\n",
              "      spin 1s steps(1) infinite;\n",
              "  }\n",
              "\n",
              "  @keyframes spin {\n",
              "    0% {\n",
              "      border-color: transparent;\n",
              "      border-bottom-color: var(--fill-color);\n",
              "      border-left-color: var(--fill-color);\n",
              "    }\n",
              "    20% {\n",
              "      border-color: transparent;\n",
              "      border-left-color: var(--fill-color);\n",
              "      border-top-color: var(--fill-color);\n",
              "    }\n",
              "    30% {\n",
              "      border-color: transparent;\n",
              "      border-left-color: var(--fill-color);\n",
              "      border-top-color: var(--fill-color);\n",
              "      border-right-color: var(--fill-color);\n",
              "    }\n",
              "    40% {\n",
              "      border-color: transparent;\n",
              "      border-right-color: var(--fill-color);\n",
              "      border-top-color: var(--fill-color);\n",
              "    }\n",
              "    60% {\n",
              "      border-color: transparent;\n",
              "      border-right-color: var(--fill-color);\n",
              "    }\n",
              "    80% {\n",
              "      border-color: transparent;\n",
              "      border-right-color: var(--fill-color);\n",
              "      border-bottom-color: var(--fill-color);\n",
              "    }\n",
              "    90% {\n",
              "      border-color: transparent;\n",
              "      border-bottom-color: var(--fill-color);\n",
              "    }\n",
              "  }\n",
              "</style>\n",
              "\n",
              "  <script>\n",
              "    async function quickchart(key) {\n",
              "      const quickchartButtonEl =\n",
              "        document.querySelector('#' + key + ' button');\n",
              "      quickchartButtonEl.disabled = true;  // To prevent multiple clicks.\n",
              "      quickchartButtonEl.classList.add('colab-df-spinner');\n",
              "      try {\n",
              "        const charts = await google.colab.kernel.invokeFunction(\n",
              "            'suggestCharts', [key], {});\n",
              "      } catch (error) {\n",
              "        console.error('Error during call to suggestCharts:', error);\n",
              "      }\n",
              "      quickchartButtonEl.classList.remove('colab-df-spinner');\n",
              "      quickchartButtonEl.classList.add('colab-df-quickchart-complete');\n",
              "    }\n",
              "    (() => {\n",
              "      let quickchartButtonEl =\n",
              "        document.querySelector('#df-55b14c81-a26f-4660-bcc0-3c55e2abdb88 button');\n",
              "      quickchartButtonEl.style.display =\n",
              "        google.colab.kernel.accessAllowed ? 'block' : 'none';\n",
              "    })();\n",
              "  </script>\n",
              "</div>\n",
              "\n",
              "    </div>\n",
              "  </div>\n"
            ],
            "application/vnd.google.colaboratory.intrinsic+json": {
              "type": "dataframe",
              "variable_name": "df"
            }
          },
          "metadata": {},
          "execution_count": 3
        }
      ]
    },
    {
      "cell_type": "code",
      "source": [
        "df.info()"
      ],
      "metadata": {
        "colab": {
          "base_uri": "https://localhost:8080/"
        },
        "id": "b_lVEgXS1d-u",
        "outputId": "8e60a92d-157d-4f96-eebd-c339c2449df0"
      },
      "execution_count": 4,
      "outputs": [
        {
          "output_type": "stream",
          "name": "stdout",
          "text": [
            "<class 'pandas.core.frame.DataFrame'>\n",
            "RangeIndex: 4760 entries, 0 to 4759\n",
            "Data columns (total 21 columns):\n",
            " #   Column                    Non-Null Count  Dtype  \n",
            "---  ------                    --------------  -----  \n",
            " 0   Movie_ID                  4760 non-null   int64  \n",
            " 1   Movie_Title               4760 non-null   object \n",
            " 2   Movie_Genre               4760 non-null   object \n",
            " 3   Movie_Language            4760 non-null   object \n",
            " 4   Movie_Budget              4760 non-null   int64  \n",
            " 5   Movie_Popularity          4760 non-null   float64\n",
            " 6   Movie_Release_Date        4760 non-null   object \n",
            " 7   Movie_Revenue             4760 non-null   int64  \n",
            " 8   Movie_Runtime             4758 non-null   float64\n",
            " 9   Movie_Vote                4760 non-null   float64\n",
            " 10  Movie_Vote_Count          4760 non-null   int64  \n",
            " 11  Movie_Homepage            1699 non-null   object \n",
            " 12  Movie_Keywords            4373 non-null   object \n",
            " 13  Movie_Overview            4757 non-null   object \n",
            " 14  Movie_Production_House    4760 non-null   object \n",
            " 15  Movie_Production_Country  4760 non-null   object \n",
            " 16  Movie_Spoken_Language     4760 non-null   object \n",
            " 17  Movie_Tagline             3942 non-null   object \n",
            " 18  Movie_Cast                4733 non-null   object \n",
            " 19  Movie_Crew                4760 non-null   object \n",
            " 20  Movie_Director            4738 non-null   object \n",
            "dtypes: float64(3), int64(4), object(14)\n",
            "memory usage: 781.1+ KB\n"
          ]
        }
      ]
    },
    {
      "cell_type": "code",
      "source": [
        "df.shape"
      ],
      "metadata": {
        "colab": {
          "base_uri": "https://localhost:8080/"
        },
        "id": "ntMgiYvB1o3t",
        "outputId": "e1bc6130-2cfc-4c9f-bb51-3e7c219cb54c"
      },
      "execution_count": 5,
      "outputs": [
        {
          "output_type": "execute_result",
          "data": {
            "text/plain": [
              "(4760, 21)"
            ]
          },
          "metadata": {},
          "execution_count": 5
        }
      ]
    },
    {
      "cell_type": "code",
      "source": [
        "df.columns"
      ],
      "metadata": {
        "colab": {
          "base_uri": "https://localhost:8080/"
        },
        "id": "iP2lBHJr1snp",
        "outputId": "64595b5a-5f5f-4522-c20f-cb5a49008566"
      },
      "execution_count": 6,
      "outputs": [
        {
          "output_type": "execute_result",
          "data": {
            "text/plain": [
              "Index(['Movie_ID', 'Movie_Title', 'Movie_Genre', 'Movie_Language',\n",
              "       'Movie_Budget', 'Movie_Popularity', 'Movie_Release_Date',\n",
              "       'Movie_Revenue', 'Movie_Runtime', 'Movie_Vote', 'Movie_Vote_Count',\n",
              "       'Movie_Homepage', 'Movie_Keywords', 'Movie_Overview',\n",
              "       'Movie_Production_House', 'Movie_Production_Country',\n",
              "       'Movie_Spoken_Language', 'Movie_Tagline', 'Movie_Cast', 'Movie_Crew',\n",
              "       'Movie_Director'],\n",
              "      dtype='object')"
            ]
          },
          "metadata": {},
          "execution_count": 6
        }
      ]
    },
    {
      "cell_type": "markdown",
      "source": [
        "#**Get Feature Selection**"
      ],
      "metadata": {
        "id": "Zlad-TNQ1_Uj"
      }
    },
    {
      "cell_type": "code",
      "source": [
        "df_features = df[['Movie_Genre','Movie_Budget','Movie_Keywords','Movie_Tagline','Movie_Overview']].fillna('')"
      ],
      "metadata": {
        "id": "EbKsVyn22Gfa"
      },
      "execution_count": 7,
      "outputs": []
    },
    {
      "cell_type": "code",
      "source": [
        "df_features.shape"
      ],
      "metadata": {
        "colab": {
          "base_uri": "https://localhost:8080/"
        },
        "id": "wr80Spdj3Siw",
        "outputId": "f9280e4c-ee6a-4422-824a-9c012c7a0455"
      },
      "execution_count": 8,
      "outputs": [
        {
          "output_type": "execute_result",
          "data": {
            "text/plain": [
              "(4760, 5)"
            ]
          },
          "metadata": {},
          "execution_count": 8
        }
      ]
    },
    {
      "cell_type": "code",
      "source": [
        "df_features"
      ],
      "metadata": {
        "colab": {
          "base_uri": "https://localhost:8080/",
          "height": 597
        },
        "id": "dyzUfd_W3YkL",
        "outputId": "9569b84c-f14c-414a-c329-9413468731e3"
      },
      "execution_count": 9,
      "outputs": [
        {
          "output_type": "execute_result",
          "data": {
            "text/plain": [
              "                           Movie_Genre  Movie_Budget  \\\n",
              "0                         Crime Comedy       4000000   \n",
              "1     Adventure Action Science Fiction      11000000   \n",
              "2                     Animation Family      94000000   \n",
              "3                 Comedy Drama Romance      55000000   \n",
              "4                                Drama      15000000   \n",
              "...                                ...           ...   \n",
              "4755                            Horror             0   \n",
              "4756               Comedy Family Drama             0   \n",
              "4757                    Thriller Drama             0   \n",
              "4758                            Family             0   \n",
              "4759                       Documentary             2   \n",
              "\n",
              "                                         Movie_Keywords  \\\n",
              "0             hotel new year's eve witch bet hotel room   \n",
              "1           android galaxy hermit death star lightsaber   \n",
              "2     father son relationship harbor underwater fish...   \n",
              "3     vietnam veteran hippie mentally disabled runni...   \n",
              "4     male nudity female nudity adultery midlife cri...   \n",
              "...                                                 ...   \n",
              "4755                                                      \n",
              "4756                                                      \n",
              "4757                     christian film sex trafficking   \n",
              "4758                                                      \n",
              "4759  music actors legendary perfomer classic hollyw...   \n",
              "\n",
              "                                          Movie_Tagline  \\\n",
              "0     Twelve outrageous guests. Four scandalous requ...   \n",
              "1          A long time ago in a galaxy far, far away...   \n",
              "2     There are 3.7 trillion fish in the ocean, they...   \n",
              "3     The world will never be the same, once you've ...   \n",
              "4                                          Look closer.   \n",
              "...                                                 ...   \n",
              "4755                The hot spot where Satan's waitin'.   \n",
              "4756           It’s better to stand out than to fit in.   \n",
              "4757           She never knew it could happen to her...   \n",
              "4758                                                      \n",
              "4759                                                      \n",
              "\n",
              "                                         Movie_Overview  \n",
              "0     It's Ted the Bellhop's first night on the job....  \n",
              "1     Princess Leia is captured and held hostage by ...  \n",
              "2     Nemo, an adventurous young clownfish, is unexp...  \n",
              "3     A man with a low IQ has accomplished great thi...  \n",
              "4     Lester Burnham, a depressed suburban father in...  \n",
              "...                                                 ...  \n",
              "4755  A Broadway producer puts on a play with a Devi...  \n",
              "4756  In 1979, an Indian family moves to America wit...  \n",
              "4757  After sneaking to a party with her friends, 16...  \n",
              "4758  After being estranged since her mother's death...  \n",
              "4759                                                     \n",
              "\n",
              "[4760 rows x 5 columns]"
            ],
            "text/html": [
              "\n",
              "  <div id=\"df-54c2d6cb-7a04-4318-8673-92b400052094\" class=\"colab-df-container\">\n",
              "    <div>\n",
              "<style scoped>\n",
              "    .dataframe tbody tr th:only-of-type {\n",
              "        vertical-align: middle;\n",
              "    }\n",
              "\n",
              "    .dataframe tbody tr th {\n",
              "        vertical-align: top;\n",
              "    }\n",
              "\n",
              "    .dataframe thead th {\n",
              "        text-align: right;\n",
              "    }\n",
              "</style>\n",
              "<table border=\"1\" class=\"dataframe\">\n",
              "  <thead>\n",
              "    <tr style=\"text-align: right;\">\n",
              "      <th></th>\n",
              "      <th>Movie_Genre</th>\n",
              "      <th>Movie_Budget</th>\n",
              "      <th>Movie_Keywords</th>\n",
              "      <th>Movie_Tagline</th>\n",
              "      <th>Movie_Overview</th>\n",
              "    </tr>\n",
              "  </thead>\n",
              "  <tbody>\n",
              "    <tr>\n",
              "      <th>0</th>\n",
              "      <td>Crime Comedy</td>\n",
              "      <td>4000000</td>\n",
              "      <td>hotel new year's eve witch bet hotel room</td>\n",
              "      <td>Twelve outrageous guests. Four scandalous requ...</td>\n",
              "      <td>It's Ted the Bellhop's first night on the job....</td>\n",
              "    </tr>\n",
              "    <tr>\n",
              "      <th>1</th>\n",
              "      <td>Adventure Action Science Fiction</td>\n",
              "      <td>11000000</td>\n",
              "      <td>android galaxy hermit death star lightsaber</td>\n",
              "      <td>A long time ago in a galaxy far, far away...</td>\n",
              "      <td>Princess Leia is captured and held hostage by ...</td>\n",
              "    </tr>\n",
              "    <tr>\n",
              "      <th>2</th>\n",
              "      <td>Animation Family</td>\n",
              "      <td>94000000</td>\n",
              "      <td>father son relationship harbor underwater fish...</td>\n",
              "      <td>There are 3.7 trillion fish in the ocean, they...</td>\n",
              "      <td>Nemo, an adventurous young clownfish, is unexp...</td>\n",
              "    </tr>\n",
              "    <tr>\n",
              "      <th>3</th>\n",
              "      <td>Comedy Drama Romance</td>\n",
              "      <td>55000000</td>\n",
              "      <td>vietnam veteran hippie mentally disabled runni...</td>\n",
              "      <td>The world will never be the same, once you've ...</td>\n",
              "      <td>A man with a low IQ has accomplished great thi...</td>\n",
              "    </tr>\n",
              "    <tr>\n",
              "      <th>4</th>\n",
              "      <td>Drama</td>\n",
              "      <td>15000000</td>\n",
              "      <td>male nudity female nudity adultery midlife cri...</td>\n",
              "      <td>Look closer.</td>\n",
              "      <td>Lester Burnham, a depressed suburban father in...</td>\n",
              "    </tr>\n",
              "    <tr>\n",
              "      <th>...</th>\n",
              "      <td>...</td>\n",
              "      <td>...</td>\n",
              "      <td>...</td>\n",
              "      <td>...</td>\n",
              "      <td>...</td>\n",
              "    </tr>\n",
              "    <tr>\n",
              "      <th>4755</th>\n",
              "      <td>Horror</td>\n",
              "      <td>0</td>\n",
              "      <td></td>\n",
              "      <td>The hot spot where Satan's waitin'.</td>\n",
              "      <td>A Broadway producer puts on a play with a Devi...</td>\n",
              "    </tr>\n",
              "    <tr>\n",
              "      <th>4756</th>\n",
              "      <td>Comedy Family Drama</td>\n",
              "      <td>0</td>\n",
              "      <td></td>\n",
              "      <td>It’s better to stand out than to fit in.</td>\n",
              "      <td>In 1979, an Indian family moves to America wit...</td>\n",
              "    </tr>\n",
              "    <tr>\n",
              "      <th>4757</th>\n",
              "      <td>Thriller Drama</td>\n",
              "      <td>0</td>\n",
              "      <td>christian film sex trafficking</td>\n",
              "      <td>She never knew it could happen to her...</td>\n",
              "      <td>After sneaking to a party with her friends, 16...</td>\n",
              "    </tr>\n",
              "    <tr>\n",
              "      <th>4758</th>\n",
              "      <td>Family</td>\n",
              "      <td>0</td>\n",
              "      <td></td>\n",
              "      <td></td>\n",
              "      <td>After being estranged since her mother's death...</td>\n",
              "    </tr>\n",
              "    <tr>\n",
              "      <th>4759</th>\n",
              "      <td>Documentary</td>\n",
              "      <td>2</td>\n",
              "      <td>music actors legendary perfomer classic hollyw...</td>\n",
              "      <td></td>\n",
              "      <td></td>\n",
              "    </tr>\n",
              "  </tbody>\n",
              "</table>\n",
              "<p>4760 rows × 5 columns</p>\n",
              "</div>\n",
              "    <div class=\"colab-df-buttons\">\n",
              "\n",
              "  <div class=\"colab-df-container\">\n",
              "    <button class=\"colab-df-convert\" onclick=\"convertToInteractive('df-54c2d6cb-7a04-4318-8673-92b400052094')\"\n",
              "            title=\"Convert this dataframe to an interactive table.\"\n",
              "            style=\"display:none;\">\n",
              "\n",
              "  <svg xmlns=\"http://www.w3.org/2000/svg\" height=\"24px\" viewBox=\"0 -960 960 960\">\n",
              "    <path d=\"M120-120v-720h720v720H120Zm60-500h600v-160H180v160Zm220 220h160v-160H400v160Zm0 220h160v-160H400v160ZM180-400h160v-160H180v160Zm440 0h160v-160H620v160ZM180-180h160v-160H180v160Zm440 0h160v-160H620v160Z\"/>\n",
              "  </svg>\n",
              "    </button>\n",
              "\n",
              "  <style>\n",
              "    .colab-df-container {\n",
              "      display:flex;\n",
              "      gap: 12px;\n",
              "    }\n",
              "\n",
              "    .colab-df-convert {\n",
              "      background-color: #E8F0FE;\n",
              "      border: none;\n",
              "      border-radius: 50%;\n",
              "      cursor: pointer;\n",
              "      display: none;\n",
              "      fill: #1967D2;\n",
              "      height: 32px;\n",
              "      padding: 0 0 0 0;\n",
              "      width: 32px;\n",
              "    }\n",
              "\n",
              "    .colab-df-convert:hover {\n",
              "      background-color: #E2EBFA;\n",
              "      box-shadow: 0px 1px 2px rgba(60, 64, 67, 0.3), 0px 1px 3px 1px rgba(60, 64, 67, 0.15);\n",
              "      fill: #174EA6;\n",
              "    }\n",
              "\n",
              "    .colab-df-buttons div {\n",
              "      margin-bottom: 4px;\n",
              "    }\n",
              "\n",
              "    [theme=dark] .colab-df-convert {\n",
              "      background-color: #3B4455;\n",
              "      fill: #D2E3FC;\n",
              "    }\n",
              "\n",
              "    [theme=dark] .colab-df-convert:hover {\n",
              "      background-color: #434B5C;\n",
              "      box-shadow: 0px 1px 3px 1px rgba(0, 0, 0, 0.15);\n",
              "      filter: drop-shadow(0px 1px 2px rgba(0, 0, 0, 0.3));\n",
              "      fill: #FFFFFF;\n",
              "    }\n",
              "  </style>\n",
              "\n",
              "    <script>\n",
              "      const buttonEl =\n",
              "        document.querySelector('#df-54c2d6cb-7a04-4318-8673-92b400052094 button.colab-df-convert');\n",
              "      buttonEl.style.display =\n",
              "        google.colab.kernel.accessAllowed ? 'block' : 'none';\n",
              "\n",
              "      async function convertToInteractive(key) {\n",
              "        const element = document.querySelector('#df-54c2d6cb-7a04-4318-8673-92b400052094');\n",
              "        const dataTable =\n",
              "          await google.colab.kernel.invokeFunction('convertToInteractive',\n",
              "                                                    [key], {});\n",
              "        if (!dataTable) return;\n",
              "\n",
              "        const docLinkHtml = 'Like what you see? Visit the ' +\n",
              "          '<a target=\"_blank\" href=https://colab.research.google.com/notebooks/data_table.ipynb>data table notebook</a>'\n",
              "          + ' to learn more about interactive tables.';\n",
              "        element.innerHTML = '';\n",
              "        dataTable['output_type'] = 'display_data';\n",
              "        await google.colab.output.renderOutput(dataTable, element);\n",
              "        const docLink = document.createElement('div');\n",
              "        docLink.innerHTML = docLinkHtml;\n",
              "        element.appendChild(docLink);\n",
              "      }\n",
              "    </script>\n",
              "  </div>\n",
              "\n",
              "\n",
              "<div id=\"df-e8f5bc41-a29f-4914-aeaf-8a1d7daf7d0d\">\n",
              "  <button class=\"colab-df-quickchart\" onclick=\"quickchart('df-e8f5bc41-a29f-4914-aeaf-8a1d7daf7d0d')\"\n",
              "            title=\"Suggest charts\"\n",
              "            style=\"display:none;\">\n",
              "\n",
              "<svg xmlns=\"http://www.w3.org/2000/svg\" height=\"24px\"viewBox=\"0 0 24 24\"\n",
              "     width=\"24px\">\n",
              "    <g>\n",
              "        <path d=\"M19 3H5c-1.1 0-2 .9-2 2v14c0 1.1.9 2 2 2h14c1.1 0 2-.9 2-2V5c0-1.1-.9-2-2-2zM9 17H7v-7h2v7zm4 0h-2V7h2v10zm4 0h-2v-4h2v4z\"/>\n",
              "    </g>\n",
              "</svg>\n",
              "  </button>\n",
              "\n",
              "<style>\n",
              "  .colab-df-quickchart {\n",
              "      --bg-color: #E8F0FE;\n",
              "      --fill-color: #1967D2;\n",
              "      --hover-bg-color: #E2EBFA;\n",
              "      --hover-fill-color: #174EA6;\n",
              "      --disabled-fill-color: #AAA;\n",
              "      --disabled-bg-color: #DDD;\n",
              "  }\n",
              "\n",
              "  [theme=dark] .colab-df-quickchart {\n",
              "      --bg-color: #3B4455;\n",
              "      --fill-color: #D2E3FC;\n",
              "      --hover-bg-color: #434B5C;\n",
              "      --hover-fill-color: #FFFFFF;\n",
              "      --disabled-bg-color: #3B4455;\n",
              "      --disabled-fill-color: #666;\n",
              "  }\n",
              "\n",
              "  .colab-df-quickchart {\n",
              "    background-color: var(--bg-color);\n",
              "    border: none;\n",
              "    border-radius: 50%;\n",
              "    cursor: pointer;\n",
              "    display: none;\n",
              "    fill: var(--fill-color);\n",
              "    height: 32px;\n",
              "    padding: 0;\n",
              "    width: 32px;\n",
              "  }\n",
              "\n",
              "  .colab-df-quickchart:hover {\n",
              "    background-color: var(--hover-bg-color);\n",
              "    box-shadow: 0 1px 2px rgba(60, 64, 67, 0.3), 0 1px 3px 1px rgba(60, 64, 67, 0.15);\n",
              "    fill: var(--button-hover-fill-color);\n",
              "  }\n",
              "\n",
              "  .colab-df-quickchart-complete:disabled,\n",
              "  .colab-df-quickchart-complete:disabled:hover {\n",
              "    background-color: var(--disabled-bg-color);\n",
              "    fill: var(--disabled-fill-color);\n",
              "    box-shadow: none;\n",
              "  }\n",
              "\n",
              "  .colab-df-spinner {\n",
              "    border: 2px solid var(--fill-color);\n",
              "    border-color: transparent;\n",
              "    border-bottom-color: var(--fill-color);\n",
              "    animation:\n",
              "      spin 1s steps(1) infinite;\n",
              "  }\n",
              "\n",
              "  @keyframes spin {\n",
              "    0% {\n",
              "      border-color: transparent;\n",
              "      border-bottom-color: var(--fill-color);\n",
              "      border-left-color: var(--fill-color);\n",
              "    }\n",
              "    20% {\n",
              "      border-color: transparent;\n",
              "      border-left-color: var(--fill-color);\n",
              "      border-top-color: var(--fill-color);\n",
              "    }\n",
              "    30% {\n",
              "      border-color: transparent;\n",
              "      border-left-color: var(--fill-color);\n",
              "      border-top-color: var(--fill-color);\n",
              "      border-right-color: var(--fill-color);\n",
              "    }\n",
              "    40% {\n",
              "      border-color: transparent;\n",
              "      border-right-color: var(--fill-color);\n",
              "      border-top-color: var(--fill-color);\n",
              "    }\n",
              "    60% {\n",
              "      border-color: transparent;\n",
              "      border-right-color: var(--fill-color);\n",
              "    }\n",
              "    80% {\n",
              "      border-color: transparent;\n",
              "      border-right-color: var(--fill-color);\n",
              "      border-bottom-color: var(--fill-color);\n",
              "    }\n",
              "    90% {\n",
              "      border-color: transparent;\n",
              "      border-bottom-color: var(--fill-color);\n",
              "    }\n",
              "  }\n",
              "</style>\n",
              "\n",
              "  <script>\n",
              "    async function quickchart(key) {\n",
              "      const quickchartButtonEl =\n",
              "        document.querySelector('#' + key + ' button');\n",
              "      quickchartButtonEl.disabled = true;  // To prevent multiple clicks.\n",
              "      quickchartButtonEl.classList.add('colab-df-spinner');\n",
              "      try {\n",
              "        const charts = await google.colab.kernel.invokeFunction(\n",
              "            'suggestCharts', [key], {});\n",
              "      } catch (error) {\n",
              "        console.error('Error during call to suggestCharts:', error);\n",
              "      }\n",
              "      quickchartButtonEl.classList.remove('colab-df-spinner');\n",
              "      quickchartButtonEl.classList.add('colab-df-quickchart-complete');\n",
              "    }\n",
              "    (() => {\n",
              "      let quickchartButtonEl =\n",
              "        document.querySelector('#df-e8f5bc41-a29f-4914-aeaf-8a1d7daf7d0d button');\n",
              "      quickchartButtonEl.style.display =\n",
              "        google.colab.kernel.accessAllowed ? 'block' : 'none';\n",
              "    })();\n",
              "  </script>\n",
              "</div>\n",
              "\n",
              "  <div id=\"id_590331b8-62f6-4b44-aab7-5838c7f99382\">\n",
              "    <style>\n",
              "      .colab-df-generate {\n",
              "        background-color: #E8F0FE;\n",
              "        border: none;\n",
              "        border-radius: 50%;\n",
              "        cursor: pointer;\n",
              "        display: none;\n",
              "        fill: #1967D2;\n",
              "        height: 32px;\n",
              "        padding: 0 0 0 0;\n",
              "        width: 32px;\n",
              "      }\n",
              "\n",
              "      .colab-df-generate:hover {\n",
              "        background-color: #E2EBFA;\n",
              "        box-shadow: 0px 1px 2px rgba(60, 64, 67, 0.3), 0px 1px 3px 1px rgba(60, 64, 67, 0.15);\n",
              "        fill: #174EA6;\n",
              "      }\n",
              "\n",
              "      [theme=dark] .colab-df-generate {\n",
              "        background-color: #3B4455;\n",
              "        fill: #D2E3FC;\n",
              "      }\n",
              "\n",
              "      [theme=dark] .colab-df-generate:hover {\n",
              "        background-color: #434B5C;\n",
              "        box-shadow: 0px 1px 3px 1px rgba(0, 0, 0, 0.15);\n",
              "        filter: drop-shadow(0px 1px 2px rgba(0, 0, 0, 0.3));\n",
              "        fill: #FFFFFF;\n",
              "      }\n",
              "    </style>\n",
              "    <button class=\"colab-df-generate\" onclick=\"generateWithVariable('df_features')\"\n",
              "            title=\"Generate code using this dataframe.\"\n",
              "            style=\"display:none;\">\n",
              "\n",
              "  <svg xmlns=\"http://www.w3.org/2000/svg\" height=\"24px\"viewBox=\"0 0 24 24\"\n",
              "       width=\"24px\">\n",
              "    <path d=\"M7,19H8.4L18.45,9,17,7.55,7,17.6ZM5,21V16.75L18.45,3.32a2,2,0,0,1,2.83,0l1.4,1.43a1.91,1.91,0,0,1,.58,1.4,1.91,1.91,0,0,1-.58,1.4L9.25,21ZM18.45,9,17,7.55Zm-12,3A5.31,5.31,0,0,0,4.9,8.1,5.31,5.31,0,0,0,1,6.5,5.31,5.31,0,0,0,4.9,4.9,5.31,5.31,0,0,0,6.5,1,5.31,5.31,0,0,0,8.1,4.9,5.31,5.31,0,0,0,12,6.5,5.46,5.46,0,0,0,6.5,12Z\"/>\n",
              "  </svg>\n",
              "    </button>\n",
              "    <script>\n",
              "      (() => {\n",
              "      const buttonEl =\n",
              "        document.querySelector('#id_590331b8-62f6-4b44-aab7-5838c7f99382 button.colab-df-generate');\n",
              "      buttonEl.style.display =\n",
              "        google.colab.kernel.accessAllowed ? 'block' : 'none';\n",
              "\n",
              "      buttonEl.onclick = () => {\n",
              "        google.colab.notebook.generateWithVariable('df_features');\n",
              "      }\n",
              "      })();\n",
              "    </script>\n",
              "  </div>\n",
              "\n",
              "    </div>\n",
              "  </div>\n"
            ],
            "application/vnd.google.colaboratory.intrinsic+json": {
              "type": "dataframe",
              "variable_name": "df_features",
              "summary": "{\n  \"name\": \"df_features\",\n  \"rows\": 4760,\n  \"fields\": [\n    {\n      \"column\": \"Movie_Genre\",\n      \"properties\": {\n        \"dtype\": \"category\",\n        \"num_unique_values\": 1164,\n        \"samples\": [\n          \"Family Animation Adventure\",\n          \"Adventure Science Fiction Action\",\n          \"Action Crime Drama Romance Thriller\"\n        ],\n        \"semantic_type\": \"\",\n        \"description\": \"\"\n      }\n    },\n    {\n      \"column\": \"Movie_Budget\",\n      \"properties\": {\n        \"dtype\": \"number\",\n        \"std\": 40756203,\n        \"min\": 0,\n        \"max\": 380000000,\n        \"num_unique_values\": 436,\n        \"samples\": [\n          13300000,\n          300000000,\n          35866397\n        ],\n        \"semantic_type\": \"\",\n        \"description\": \"\"\n      }\n    },\n    {\n      \"column\": \"Movie_Keywords\",\n      \"properties\": {\n        \"dtype\": \"string\",\n        \"num_unique_values\": 4203,\n        \"samples\": [\n          \"canada nazis sequel spin off ancient evil\",\n          \"sex professor wedding woman director columbia university\",\n          \"prophecy sea beach gold small town\"\n        ],\n        \"semantic_type\": \"\",\n        \"description\": \"\"\n      }\n    },\n    {\n      \"column\": \"Movie_Tagline\",\n      \"properties\": {\n        \"dtype\": \"string\",\n        \"num_unique_values\": 3928,\n        \"samples\": [\n          \"The messenger must be silenced.\",\n          \"It's not the house that's haunted.\",\n          \"The final hunt begins.\"\n        ],\n        \"semantic_type\": \"\",\n        \"description\": \"\"\n      }\n    },\n    {\n      \"column\": \"Movie_Overview\",\n      \"properties\": {\n        \"dtype\": \"string\",\n        \"num_unique_values\": 4758,\n        \"samples\": [\n          \"Raise Your Voice is a coming-of-age story centered around a small-town singer, brokenhearted by the death of her brother in a car crash, who had secretly submitted her for a summer session at a performing arts academy in Los Angeles. In the performing arts academy, she experiences a whole new way of life in the big city, far from the small town lifestyle she's used to.\",\n          \"A British spy ship has sunk and on board was a hi-tech encryption device. James Bond is sent to find the device that holds British launching instructions before the enemy Soviets get to it first.\",\n          \"Pro Beach Volleyball star, Kelly Reyes, faces challenges everyday, fierce competitors, the press, but nothing could prepare her for him.\"\n        ],\n        \"semantic_type\": \"\",\n        \"description\": \"\"\n      }\n    }\n  ]\n}"
            }
          },
          "metadata": {},
          "execution_count": 9
        }
      ]
    },
    {
      "cell_type": "code",
      "source": [
        "# Convert 'Movie_Budget' to string type before concatenation\n",
        "X = df_features['Movie_Genre'] + ' ' + df_features['Movie_Budget'].astype(str) + ' ' + \\\n",
        "    df_features['Movie_Keywords'] + ' ' + df_features['Movie_Tagline'] + ' ' + \\\n",
        "    df_features['Movie_Overview']"
      ],
      "metadata": {
        "id": "hjXepl7r5Av3"
      },
      "execution_count": 10,
      "outputs": []
    },
    {
      "cell_type": "code",
      "source": [
        "X"
      ],
      "metadata": {
        "colab": {
          "base_uri": "https://localhost:8080/",
          "height": 458
        },
        "id": "1Wgmg5KR5NJd",
        "outputId": "3d7ed579-d564-40e2-a3d0-dcd2c72cc78d"
      },
      "execution_count": 11,
      "outputs": [
        {
          "output_type": "execute_result",
          "data": {
            "text/plain": [
              "0       Crime Comedy 4000000 hotel new year's eve witc...\n",
              "1       Adventure Action Science Fiction 11000000 andr...\n",
              "2       Animation Family 94000000 father son relations...\n",
              "3       Comedy Drama Romance 55000000 vietnam veteran ...\n",
              "4       Drama 15000000 male nudity female nudity adult...\n",
              "                              ...                        \n",
              "4755    Horror 0  The hot spot where Satan's waitin'. ...\n",
              "4756    Comedy Family Drama 0  It’s better to stand ou...\n",
              "4757    Thriller Drama 0 christian film sex traffickin...\n",
              "4758    Family 0   After being estranged since her mot...\n",
              "4759    Documentary 2 music actors legendary perfomer ...\n",
              "Length: 4760, dtype: object"
            ],
            "text/html": [
              "<div>\n",
              "<style scoped>\n",
              "    .dataframe tbody tr th:only-of-type {\n",
              "        vertical-align: middle;\n",
              "    }\n",
              "\n",
              "    .dataframe tbody tr th {\n",
              "        vertical-align: top;\n",
              "    }\n",
              "\n",
              "    .dataframe thead th {\n",
              "        text-align: right;\n",
              "    }\n",
              "</style>\n",
              "<table border=\"1\" class=\"dataframe\">\n",
              "  <thead>\n",
              "    <tr style=\"text-align: right;\">\n",
              "      <th></th>\n",
              "      <th>0</th>\n",
              "    </tr>\n",
              "  </thead>\n",
              "  <tbody>\n",
              "    <tr>\n",
              "      <th>0</th>\n",
              "      <td>Crime Comedy 4000000 hotel new year's eve witc...</td>\n",
              "    </tr>\n",
              "    <tr>\n",
              "      <th>1</th>\n",
              "      <td>Adventure Action Science Fiction 11000000 andr...</td>\n",
              "    </tr>\n",
              "    <tr>\n",
              "      <th>2</th>\n",
              "      <td>Animation Family 94000000 father son relations...</td>\n",
              "    </tr>\n",
              "    <tr>\n",
              "      <th>3</th>\n",
              "      <td>Comedy Drama Romance 55000000 vietnam veteran ...</td>\n",
              "    </tr>\n",
              "    <tr>\n",
              "      <th>4</th>\n",
              "      <td>Drama 15000000 male nudity female nudity adult...</td>\n",
              "    </tr>\n",
              "    <tr>\n",
              "      <th>...</th>\n",
              "      <td>...</td>\n",
              "    </tr>\n",
              "    <tr>\n",
              "      <th>4755</th>\n",
              "      <td>Horror 0  The hot spot where Satan's waitin'. ...</td>\n",
              "    </tr>\n",
              "    <tr>\n",
              "      <th>4756</th>\n",
              "      <td>Comedy Family Drama 0  It’s better to stand ou...</td>\n",
              "    </tr>\n",
              "    <tr>\n",
              "      <th>4757</th>\n",
              "      <td>Thriller Drama 0 christian film sex traffickin...</td>\n",
              "    </tr>\n",
              "    <tr>\n",
              "      <th>4758</th>\n",
              "      <td>Family 0   After being estranged since her mot...</td>\n",
              "    </tr>\n",
              "    <tr>\n",
              "      <th>4759</th>\n",
              "      <td>Documentary 2 music actors legendary perfomer ...</td>\n",
              "    </tr>\n",
              "  </tbody>\n",
              "</table>\n",
              "<p>4760 rows × 1 columns</p>\n",
              "</div><br><label><b>dtype:</b> object</label>"
            ]
          },
          "metadata": {},
          "execution_count": 11
        }
      ]
    },
    {
      "cell_type": "code",
      "source": [
        "X.shape"
      ],
      "metadata": {
        "colab": {
          "base_uri": "https://localhost:8080/"
        },
        "id": "VJJ7dIsq5Pu6",
        "outputId": "580b25c1-bf8a-43da-a84e-2219b72e6e37"
      },
      "execution_count": 12,
      "outputs": [
        {
          "output_type": "execute_result",
          "data": {
            "text/plain": [
              "(4760,)"
            ]
          },
          "metadata": {},
          "execution_count": 12
        }
      ]
    },
    {
      "cell_type": "markdown",
      "source": [
        "#**Get Features Text Conversion To Tokens**"
      ],
      "metadata": {
        "id": "IlG7xOdz5VQz"
      }
    },
    {
      "cell_type": "code",
      "source": [
        "from sklearn.feature_extraction.text import TfidfVectorizer"
      ],
      "metadata": {
        "id": "FfIEbniN5eft"
      },
      "execution_count": 13,
      "outputs": []
    },
    {
      "cell_type": "code",
      "source": [
        "tfidf = TfidfVectorizer()"
      ],
      "metadata": {
        "id": "2qYR37uu5wiU"
      },
      "execution_count": 14,
      "outputs": []
    },
    {
      "cell_type": "code",
      "source": [
        "X = tfidf.fit_transform(X)"
      ],
      "metadata": {
        "id": "u3undhNt8_SG"
      },
      "execution_count": 15,
      "outputs": []
    },
    {
      "cell_type": "code",
      "source": [
        "X.shape"
      ],
      "metadata": {
        "colab": {
          "base_uri": "https://localhost:8080/"
        },
        "id": "X_tD-Fy_9iq9",
        "outputId": "a2104066-8d41-4540-c7e7-171491e985a4"
      },
      "execution_count": 16,
      "outputs": [
        {
          "output_type": "execute_result",
          "data": {
            "text/plain": [
              "(4760, 22913)"
            ]
          },
          "metadata": {},
          "execution_count": 16
        }
      ]
    },
    {
      "cell_type": "code",
      "source": [
        "print(X)"
      ],
      "metadata": {
        "colab": {
          "base_uri": "https://localhost:8080/"
        },
        "id": "3n5t_ni09lxo",
        "outputId": "86b051a9-d09c-4da8-c97d-049c6eb60c7e"
      },
      "execution_count": 17,
      "outputs": [
        {
          "output_type": "stream",
          "name": "stdout",
          "text": [
            "  (0, 1527)\t0.08889490111868635\n",
            "  (0, 1105)\t0.057417172641140476\n",
            "  (0, 9533)\t0.13338398857269304\n",
            "  (0, 21324)\t0.1434630297285479\n",
            "  (0, 21619)\t0.058216796903828465\n",
            "  (0, 18297)\t0.13474527892075935\n",
            "  (0, 11054)\t0.03285559911215285\n",
            "  (0, 18293)\t0.10962854076279602\n",
            "  (0, 7482)\t0.13474527892075935\n",
            "  (0, 20560)\t0.061302091474795484\n",
            "  (0, 20489)\t0.04383896468847653\n",
            "  (0, 18176)\t0.09717299052549346\n",
            "  (0, 15911)\t0.16513962141981808\n",
            "  (0, 19040)\t0.07892655244982572\n",
            "  (0, 9906)\t0.05686522380986499\n",
            "  (0, 15562)\t0.09108136653279293\n",
            "  (0, 20714)\t0.02441439305485587\n",
            "  (0, 825)\t0.06550149803639672\n",
            "  (0, 1697)\t0.05279725273767252\n",
            "  (0, 21604)\t0.12495014027529801\n",
            "  (0, 21857)\t0.09186756153448226\n",
            "  (0, 14221)\t0.08349658387145127\n",
            "  (0, 20330)\t0.14138417360992103\n",
            "  (0, 11086)\t0.09945454475027954\n",
            "  (0, 12188)\t0.05149066161244866\n",
            "  :\t:\n",
            "  (4758, 16926)\t0.08549835083580479\n",
            "  (4758, 7899)\t0.0871644364648778\n",
            "  (4758, 7823)\t0.12820901122708292\n",
            "  (4758, 2435)\t0.11412827242584386\n",
            "  (4758, 22567)\t0.09418736440647467\n",
            "  (4758, 20731)\t0.09956152843181623\n",
            "  (4758, 20503)\t0.11985438965188953\n",
            "  (4758, 5648)\t0.09369453369812304\n",
            "  (4758, 1105)\t0.07242862242107259\n",
            "  (4758, 11054)\t0.04144554099494542\n",
            "  (4758, 20489)\t0.05530045585137909\n",
            "  (4758, 20714)\t0.09239226392747135\n",
            "  (4758, 14496)\t0.03165378580981051\n",
            "  (4758, 20494)\t0.11032405252557172\n",
            "  (4758, 10538)\t0.0362521102137021\n",
            "  (4758, 1442)\t0.12700006725668123\n",
            "  (4759, 15286)\t0.46690547618264516\n",
            "  (4759, 18675)\t0.4453314067598352\n",
            "  (4759, 947)\t0.36336709567402997\n",
            "  (4759, 6434)\t0.24645672627102214\n",
            "  (4759, 4271)\t0.29780694564505955\n",
            "  (4759, 8490)\t0.3012409243219523\n",
            "  (4759, 10007)\t0.29354801707733214\n",
            "  (4759, 12073)\t0.28333784154971603\n",
            "  (4759, 13881)\t0.21217164790868068\n"
          ]
        }
      ]
    },
    {
      "cell_type": "markdown",
      "source": [
        "#**Get Similarity Score using Cosine Similarity**"
      ],
      "metadata": {
        "id": "0JjYnBVX90tl"
      }
    },
    {
      "cell_type": "code",
      "source": [
        "from sklearn.metrics.pairwise import cosine_similarity"
      ],
      "metadata": {
        "id": "XcofYTrK-E4b"
      },
      "execution_count": 18,
      "outputs": []
    },
    {
      "cell_type": "code",
      "source": [
        "similarity_score = cosine_similarity(X)"
      ],
      "metadata": {
        "id": "Fb4k4oxU-XHd"
      },
      "execution_count": 19,
      "outputs": []
    },
    {
      "cell_type": "code",
      "source": [
        "similarity_score"
      ],
      "metadata": {
        "colab": {
          "base_uri": "https://localhost:8080/"
        },
        "id": "VRMi8Y9K-gZc",
        "outputId": "730eb9f4-cd30-45a1-cc5b-285fba591b93"
      },
      "execution_count": 20,
      "outputs": [
        {
          "output_type": "execute_result",
          "data": {
            "text/plain": [
              "array([[1.        , 0.02934075, 0.03238529, ..., 0.03740558, 0.03257421,\n",
              "        0.        ],\n",
              "       [0.02934075, 1.        , 0.01717905, ..., 0.0199455 , 0.0748372 ,\n",
              "        0.        ],\n",
              "       [0.03238529, 0.01717905, 1.        , ..., 0.0170169 , 0.05624718,\n",
              "        0.        ],\n",
              "       ...,\n",
              "       [0.03740558, 0.0199455 , 0.0170169 , ..., 1.        , 0.09153024,\n",
              "        0.        ],\n",
              "       [0.03257421, 0.0748372 , 0.05624718, ..., 0.09153024, 1.        ,\n",
              "        0.        ],\n",
              "       [0.        , 0.        , 0.        , ..., 0.        , 0.        ,\n",
              "        1.        ]])"
            ]
          },
          "metadata": {},
          "execution_count": 20
        }
      ]
    },
    {
      "cell_type": "code",
      "source": [
        "similarity_score.shape"
      ],
      "metadata": {
        "colab": {
          "base_uri": "https://localhost:8080/"
        },
        "id": "hQ85mZQu-pv8",
        "outputId": "58769e5c-a0fe-4624-f0bf-0db189f9ed80"
      },
      "execution_count": 21,
      "outputs": [
        {
          "output_type": "execute_result",
          "data": {
            "text/plain": [
              "(4760, 4760)"
            ]
          },
          "metadata": {},
          "execution_count": 21
        }
      ]
    },
    {
      "cell_type": "markdown",
      "source": [
        "#**Get Movie Name as Input from User and Validate for Closet Spelling**"
      ],
      "metadata": {
        "id": "MTSKo_F2-vED"
      }
    },
    {
      "cell_type": "code",
      "source": [
        "Favourite_Movie_Name = input('Enter your favourite movie name:')"
      ],
      "metadata": {
        "colab": {
          "base_uri": "https://localhost:8080/"
        },
        "id": "wL2a5jzj-sqY",
        "outputId": "1cfbc4ca-ec41-47ca-a97b-700bc39ab253"
      },
      "execution_count": 22,
      "outputs": [
        {
          "name": "stdout",
          "output_type": "stream",
          "text": [
            "Enter your favourite movie name:avatar\n"
          ]
        }
      ]
    },
    {
      "cell_type": "code",
      "source": [
        "All_Movies_Title_List = df['Movie_Title'].tolist()"
      ],
      "metadata": {
        "id": "07YltFxV_bP3"
      },
      "execution_count": 23,
      "outputs": []
    },
    {
      "cell_type": "code",
      "source": [
        "import difflib"
      ],
      "metadata": {
        "id": "xDLR_NxI_u5Y"
      },
      "execution_count": 24,
      "outputs": []
    },
    {
      "cell_type": "code",
      "source": [
        "Movie_Recommendation = difflib.get_close_matches(Favourite_Movie_Name,All_Movies_Title_List)\n",
        "print(Movie_Recommendation)"
      ],
      "metadata": {
        "colab": {
          "base_uri": "https://localhost:8080/"
        },
        "id": "kKXVit8t_2X9",
        "outputId": "e5fdda6c-52fd-42cb-dac5-a64c3af3db0c"
      },
      "execution_count": 25,
      "outputs": [
        {
          "output_type": "stream",
          "name": "stdout",
          "text": [
            "['Avatar']\n"
          ]
        }
      ]
    },
    {
      "cell_type": "code",
      "source": [
        "close_Match = Movie_Recommendation[0]\n",
        "print(close_Match)"
      ],
      "metadata": {
        "colab": {
          "base_uri": "https://localhost:8080/"
        },
        "id": "_BllAyEYAQft",
        "outputId": "5b413f96-28c6-43ef-f47d-06b06779499a"
      },
      "execution_count": 26,
      "outputs": [
        {
          "output_type": "stream",
          "name": "stdout",
          "text": [
            "Avatar\n"
          ]
        }
      ]
    },
    {
      "cell_type": "code",
      "source": [
        "Index_of_close_Match_Movie = df[df.Movie_Title == close_Match]['Movie_ID'].values[0]\n",
        "print(Index_of_close_Match_Movie)"
      ],
      "metadata": {
        "colab": {
          "base_uri": "https://localhost:8080/"
        },
        "id": "77QGeiu1A-OW",
        "outputId": "28fabcea-c73f-45fd-8f08-1aa1ae2e9def"
      },
      "execution_count": 27,
      "outputs": [
        {
          "output_type": "stream",
          "name": "stdout",
          "text": [
            "2692\n"
          ]
        }
      ]
    },
    {
      "cell_type": "code",
      "source": [
        "Recommendation_score = list(enumerate(similarity_score[Index_of_close_Match_Movie]))\n",
        "print(Recommendation_score)"
      ],
      "metadata": {
        "colab": {
          "base_uri": "https://localhost:8080/"
        },
        "id": "OuIwwi3aChw3",
        "outputId": "b050d753-d4a4-4ed9-b8dc-5458137531bc"
      },
      "execution_count": 28,
      "outputs": [
        {
          "output_type": "stream",
          "name": "stdout",
          "text": [
            "[(0, 0.03822828635355583), (1, 0.03347805964630518), (2, 0.015374620423425679), (3, 0.09959031167047008), (4, 0.015097041570565769), (5, 0.04026053883224313), (6, 0.03126054476153863), (7, 0.06462039469171951), (8, 0.04423742720538776), (9, 0.02116794904117334), (10, 0.04353670194111648), (11, 0.0328519761564314), (12, 0.022786930645305663), (13, 0.01789146102975088), (14, 0.02149953972089501), (15, 0.04298024843834733), (16, 0.028126560190545477), (17, 0.00681350424443742), (18, 0.05369344360584156), (19, 0.02136630068554443), (20, 0.03715604100461256), (21, 0.038440885799139776), (22, 0.03231343877703138), (23, 0.011208328374434126), (24, 0.02489282840259057), (25, 0.027802370521060674), (26, 0.026863548608447956), (27, 0.07169752182583454), (28, 0.030028081578489324), (29, 0.023813619275816555), (30, 0.03337715861142461), (31, 0.02338500149769841), (32, 0.025397591253393914), (33, 0.026957047266028173), (34, 0.019126755478173958), (35, 0.023450189777943466), (36, 0.013998607489751356), (37, 0.03159881660516767), (38, 0.0325055961984845), (39, 0.03630491446914989), (40, 0.044341538815324995), (41, 0.04510569009833912), (42, 0.015886354947972962), (43, 0.020427504887827283), (44, 0.027565260006486708), (45, 0.05091177219644392), (46, 0.05049551737419319), (47, 0.024650704037724062), (48, 0.028997704721560446), (49, 0.026704045810625986), (50, 0.022133537077929626), (51, 0.059745410195663), (52, 0.026711502271989214), (53, 0.013458439863954227), (54, 0.02423448832706583), (55, 0.05327890703622803), (56, 0.037368074622966374), (57, 0.02926377336940359), (58, 0.027424366529254212), (59, 0.015316480107638697), (60, 0.020505243627075294), (61, 0.01739861909119741), (62, 0.04825048101617299), (63, 0.03853109252886852), (64, 0.02708188963386389), (65, 0.02759082201742637), (66, 0.017613653832936713), (67, 0.03601789249150389), (68, 0.03729678056650053), (69, 0.012981707934690579), (70, 0.020152000535607856), (71, 0.005868338318043028), (72, 0.02783594534912974), (73, 0.03705924224658208), (74, 0.02218730003126717), (75, 0.04302992246377013), (76, 0.02745852491725368), (77, 0.021908706960342243), (78, 0.024088470401293853), (79, 0.009853453885520318), (80, 0.024620124042774368), (81, 0.012930848858422706), (82, 0.017787745333824476), (83, 0.018416714503239305), (84, 0.039130369737084975), (85, 0.06911952514811918), (86, 0.05058202799563198), (87, 0.03722814719022363), (88, 0.055699391836455676), (89, 0.013304939261142429), (90, 0.043065794770579265), (91, 0.03392366866908348), (92, 0.029148377543280108), (93, 0.02628746745191021), (94, 0.03878648613570567), (95, 0.03667454590042342), (96, 0.0237674166092084), (97, 0.038099931864011), (98, 0.019035111937222446), (99, 0.0376162981310397), (100, 0.0362649502084934), (101, 0.030904853228823262), (102, 0.0206000352773313), (103, 0.041665582856910355), (104, 0.04356327403365718), (105, 0.020007913682921544), (106, 0.044319986111555326), (107, 0.022730292351599873), (108, 0.039783620539204166), (109, 0.03728876320400433), (110, 0.024502868873877096), (111, 0.027869581529047983), (112, 0.030936184214124723), (113, 0.014933543275291684), (114, 0.04560503424719291), (115, 0.06339292420282641), (116, 0.04175596966287578), (117, 0.011532691137160081), (118, 0.018901157549627727), (119, 0.018332288197581974), (120, 0.020766801977423716), (121, 0.03630398059004344), (122, 0.047091692307312576), (123, 0.02509552348408125), (124, 0.03782753075001388), (125, 0.028252645073996784), (126, 0.047125590990056594), (127, 0.013815333196738831), (128, 0.02044451408753564), (129, 0.015838732314216012), (130, 0.03888345401028629), (131, 0.032402726937652476), (132, 0.009185602198779504), (133, 0.0148953215572263), (134, 0.009070477817176337), (135, 0.025488872108115943), (136, 0.045768903173806656), (137, 0.041643495371246654), (138, 0.058781206597407994), (139, 0.033554027887710336), (140, 0.0161727665378921), (141, 0.02186079455398005), (142, 0.026432182516486387), (143, 0.0430134567014437), (144, 0.03266394380750764), (145, 0.024128897836317463), (146, 0.033486095618985426), (147, 0.025824793441092883), (148, 0.0194452187363215), (149, 0.0274481397926225), (150, 0.01870884736985792), (151, 0.019967135337587733), (152, 0.030967404167366472), (153, 0.026015706747740973), (154, 0.0314954764089477), (155, 0.06260478844559347), (156, 0.04526296996593019), (157, 0.04659443024526553), (158, 0.026108548615143504), (159, 0.024518420207060635), (160, 0.025370938061867968), (161, 0.04795241030307823), (162, 0.028063877864776536), (163, 0.03258445483772755), (164, 0.011297739929927077), (165, 0.03141659105816755), (166, 0.03018245250418252), (167, 0.06279937124195108), (168, 0.033712413546130554), (169, 0.030081869374222435), (170, 0.0516004449925473), (171, 0.03829983154040391), (172, 0.03595472533385213), (173, 0.029164924358385243), (174, 0.016367621459281934), (175, 0.04201670481314266), (176, 0.014424348470826059), (177, 0.0372122364706754), (178, 0.03800512049332996), (179, 0.028574361325439283), (180, 0.0696659122185029), (181, 0.03571152683349146), (182, 0.023830151724039537), (183, 0.0173795037655115), (184, 0.015143454543509674), (185, 0.017126405380016252), (186, 0.03936590159302722), (187, 0.017587422682206595), (188, 0.043027050132980534), (189, 0.03241634496890861), (190, 0.017378347230643354), (191, 0.039270332194189725), (192, 0.026450180689216805), (193, 0.03884444837314393), (194, 0.026360046986831885), (195, 0.054399708084824513), (196, 0.047924445361074645), (197, 0.011885025363793602), (198, 0.03381084807780726), (199, 0.035013489637896834), (200, 0.037257582354463734), (201, 0.01722086977842848), (202, 0.02229328482344479), (203, 0.023001813141976125), (204, 0.04236943753690299), (205, 0.010630047127655385), (206, 0.015463447491068823), (207, 0.021380202613469537), (208, 0.017224457358469364), (209, 0.022593688087957278), (210, 0.04216714219805262), (211, 0.027791105690677293), (212, 0.048872317772378104), (213, 0.026044213639924055), (214, 0.027141598920315195), (215, 0.017708098912927076), (216, 0.03614049426899492), (217, 0.03239698534829092), (218, 0.022020899329413347), (219, 0.03617329605386082), (220, 0.02542931344961443), (221, 0.033269481271676886), (222, 0.02763944203826929), (223, 0.03804530030961114), (224, 0.05088001168672619), (225, 0.023641519111876008), (226, 0.044166230558028964), (227, 0.03209415263261891), (228, 0.029758962772355027), (229, 0.02576583354500952), (230, 0.004020930843631222), (231, 0.024652556528739288), (232, 0.02874659819560364), (233, 0.025387863595447237), (234, 0.03661652420556724), (235, 0.021319535353819932), (236, 0.03823114486509342), (237, 0.021017402157207453), (238, 0.05133179823639579), (239, 0.016466477581086228), (240, 0.02404085694340486), (241, 0.03742129851071983), (242, 0.022122798625131685), (243, 0.020777821812058273), (244, 0.014213965599143273), (245, 0.05533068194335462), (246, 0.018877610937353486), (247, 0.0275452042785709), (248, 0.14747418777464744), (249, 0.04321907282572045), (250, 0.022539819493175822), (251, 0.04213656994851835), (252, 0.030949765982899887), (253, 0.03455192119797619), (254, 0.06061683380717797), (255, 0.11388134327681136), (256, 0.03702609442191278), (257, 0.03998011048956136), (258, 0.024083669955377814), (259, 0.03136234648145632), (260, 0.04260194396505384), (261, 0.043604944488159214), (262, 0.023190235136826467), (263, 0.03983749974889775), (264, 0.04401370506466863), (265, 0.033381838436310714), (266, 0.03010625781739148), (267, 0.057404753973411674), (268, 0.03663749088136996), (269, 0.044496790265879896), (270, 0.01875785419088455), (271, 0.05537480895678831), (272, 0.02043919805691129), (273, 0.015432671929066557), (274, 0.027772791788377313), (275, 0.02286949404320785), (276, 0.02606186860490852), (277, 0.05633904139660464), (278, 0.01907297651273552), (279, 0.051970923186594624), (280, 0.02001403817915372), (281, 0.045292493197340744), (282, 0.0353695039156328), (283, 0.03254637709830534), (284, 0.027046963275764696), (285, 0.03335369124959226), (286, 0.03872587752807645), (287, 0.04201004950589986), (288, 0.02931819386368104), (289, 0.019593068065139094), (290, 0.025038945596952786), (291, 0.03642875745445452), (292, 0.059111217020779525), (293, 0.014827508257994802), (294, 0.03502585901442006), (295, 0.026377547804159598), (296, 0.014843815729558393), (297, 0.027741274595325133), (298, 0.015196445334570086), (299, 0.03204851614541332), (300, 0.03557901452766586), (301, 0.027409897200239224), (302, 0.04352873191002325), (303, 0.040407552442496456), (304, 0.03294563864569068), (305, 0.02564598618040101), (306, 0.030481482049625107), (307, 0.03312958444855143), (308, 0.024897510918148427), (309, 0.02682053371165555), (310, 0.02165608730781027), (311, 0.03417129707090063), (312, 0.023100635189119173), (313, 0.023643029762644034), (314, 0.02619877433008454), (315, 0.016337191036077333), (316, 0.016888506395127297), (317, 0.04619976392322595), (318, 0.025130866640995366), (319, 0.05426744702232755), (320, 0.046025890659788585), (321, 0.04930814525059663), (322, 0.022901104629899725), (323, 0.013555550048605196), (324, 0.024002967240466605), (325, 0.03468605019798861), (326, 0.05037469692873766), (327, 0.03505587388101166), (328, 0.021518925298558075), (329, 0.02965799011829559), (330, 0.03413294156871052), (331, 0.013301712931740726), (332, 0.024576347068236866), (333, 0.030175502100909468), (334, 0.05076932456906526), (335, 0.02495025745360209), (336, 0.02546861649997161), (337, 0.053791776703766066), (338, 0.03549013810557278), (339, 0.027057870768413282), (340, 0.04935998493660629), (341, 0.028277611659676002), (342, 0.03032038669124057), (343, 0.03193268706512017), (344, 0.010501621061877698), (345, 0.020121713924488388), (346, 0.021485791844052513), (347, 0.028052379684340968), (348, 0.018740741757504113), (349, 0.01805566535442963), (350, 0.02779144714637989), (351, 0.026998040862419952), (352, 0.032915766371389245), (353, 0.030380639949927034), (354, 0.02470796810020824), (355, 0.035580151168703895), (356, 0.021970961521850976), (357, 0.025498106336402412), (358, 0.03149140817926861), (359, 0.04667447114518832), (360, 0.05371979517887615), (361, 0.004452350278434974), (362, 0.03870626574154344), (363, 0.04307342401881482), (364, 0.048048621112835456), (365, 0.03681892630890597), (366, 0.01908135166159597), (367, 0.022178259008324656), (368, 0.02088040134941183), (369, 0.021761218804058416), (370, 0.019416782224975945), (371, 0.015490098257522709), (372, 0.03276960422286085), (373, 0.0384751151179609), (374, 0.026265509426790148), (375, 0.03799087766437329), (376, 0.029473041343250468), (377, 0.02896522576609784), (378, 0.04898665639099857), (379, 0.04558748603564528), (380, 0.025382596880451424), (381, 0.04980715800088378), (382, 0.010536183633707535), (383, 0.023279263831250813), (384, 0.045278538038361925), (385, 0.019449663688641948), (386, 0.02430256484230968), (387, 0.035057069342843306), (388, 0.04077680330746217), (389, 0.03230267805856261), (390, 0.02507630317494726), (391, 0.012043094679882922), (392, 0.020079135259502445), (393, 0.010564470341421849), (394, 0.021346517005595134), (395, 0.03942366865700988), (396, 0.04074014417905805), (397, 0.007033173875617846), (398, 0.04845253116103164), (399, 0.04208383313688436), (400, 0.025803349530403308), (401, 0.029695819115297204), (402, 0.016764962844030475), (403, 0.048939240396780194), (404, 0.024296127381506924), (405, 0.03191890715079528), (406, 0.0396590600397978), (407, 0.030200844222137688), (408, 0.020630557792704503), (409, 0.02300337584226409), (410, 0.02537917738139752), (411, 0.02244386380642464), (412, 0.04165727950374119), (413, 0.03449601027983947), (414, 0.017856406303173856), (415, 0.05117938051051456), (416, 0.031218243639847407), (417, 0.02534726071379324), (418, 0.029725318128305454), (419, 0.013351243581072106), (420, 0.03175874400821854), (421, 0.022513317787364484), (422, 0.026469328935859637), (423, 0.02017120299577055), (424, 0.051660788420888996), (425, 0.016212908452210517), (426, 0.03536719835807204), (427, 0.03669962768324396), (428, 0.025407405302435345), (429, 0.06442172530035341), (430, 0.012387434397535261), (431, 0.005482417845069077), (432, 0.016172421673154257), (433, 0.02096473767609456), (434, 0.029901900614227307), (435, 0.025829754704178892), (436, 0.026401293426488625), (437, 0.03104439889675137), (438, 0.03650557993910367), (439, 0.03750239373549903), (440, 0.03761822920319122), (441, 0.02352971153185323), (442, 0.02986897179207356), (443, 0.027474389570243), (444, 0.014680160950651533), (445, 0.019601330761322783), (446, 0.046456834973633475), (447, 0.028461658341063886), (448, 0.03922998443667891), (449, 0.017787168202956533), (450, 0.01926640839308261), (451, 0.02101990650252189), (452, 0.03607369100458269), (453, 0.039593981615398136), (454, 0.028892365514283633), (455, 0.06082533383771886), (456, 0.02559016960860895), (457, 0.034661917865997066), (458, 0.03228442633168562), (459, 0.021559065092422246), (460, 0.023818854266141998), (461, 0.024995605908004887), (462, 0.015690254236831937), (463, 0.014606906339675783), (464, 0.0489120644144577), (465, 0.036673362462736885), (466, 0.012595830591698845), (467, 0.016561288295546227), (468, 0.014843239320127707), (469, 0.01539774341438823), (470, 0.014884179001529402), (471, 0.02433439193379604), (472, 0.02932366020580027), (473, 0.04013582944605219), (474, 0.034053136008266364), (475, 0.018351001820943177), (476, 0.027804671069804273), (477, 0.052187714567057474), (478, 0.026461678557739204), (479, 0.07229004412242104), (480, 0.03292880344083927), (481, 0.038110548137038854), (482, 0.028669573215066205), (483, 0.036023219231627525), (484, 0.010827476126867758), (485, 0.03325548429709617), (486, 0.04684992894770573), (487, 0.007577282602992295), (488, 0.04913414957550756), (489, 0.02234230948693384), (490, 0.014036357805338575), (491, 0.03018101242927112), (492, 0.025450805594625557), (493, 0.02279384537157167), (494, 0.029704536378818782), (495, 0.03282182717862125), (496, 0.022888063130481598), (497, 0.022511601755854), (498, 0.03147662989404126), (499, 0.013107342535558751), (500, 0.03742606880668669), (501, 0.02910465872257609), (502, 0.020870062183964713), (503, 0.008703276344594118), (504, 0.05644708283919895), (505, 0.008433573592938566), (506, 0.07500203817214884), (507, 0.02052984321114791), (508, 0.05965869833802581), (509, 0.020202089102345534), (510, 0.020384967095037974), (511, 0.03983847179427184), (512, 0.036540672201215034), (513, 0.021506579766479537), (514, 0.018366287983566106), (515, 0.03019594766151814), (516, 0.023858801334509558), (517, 0.018393456399105543), (518, 0.04634894784168303), (519, 0.039321904797180444), (520, 0.027621020319156232), (521, 0.030337305158464556), (522, 0.13333605089900388), (523, 0.022911330698209876), (524, 0.02047952666094087), (525, 0.032938866718365704), (526, 0.058335132452564886), (527, 0.04284557546084604), (528, 0.021036959211657373), (529, 0.023903348106509632), (530, 0.03271632381660604), (531, 0.027860864653865346), (532, 0.031190955492859232), (533, 0.031699953007732554), (534, 0.016936500439996234), (535, 0.005920935027815542), (536, 0.018790663471688167), (537, 0.02804994967892623), (538, 0.028226220591340632), (539, 0.017396254614585133), (540, 0.028368928814813385), (541, 0.020065167349811234), (542, 0.08807062495785377), (543, 0.019307368425103243), (544, 0.023626660200724035), (545, 0.0431522206078337), (546, 0.04271089868137862), (547, 0.017014186061003352), (548, 0.04793707022728446), (549, 0.016449185460351918), (550, 0.035601911978674974), (551, 0.06963936204906819), (552, 0.04876216210063545), (553, 0.04476768055828514), (554, 0.024269170112010355), (555, 0.027951759035221124), (556, 0.015841432882365804), (557, 0.024128877638700585), (558, 0.029534612292661525), (559, 0.03897850776187676), (560, 0.03402587352584375), (561, 0.028642652536728798), (562, 0.029206844094294963), (563, 0.02240555784797348), (564, 0.021301633283857743), (565, 0.015033714465813112), (566, 0.042746200660634864), (567, 0.022190086843489273), (568, 0.027359868797055605), (569, 0.024752463764725174), (570, 0.018350248211413456), (571, 0.013746409280800273), (572, 0.024854930234950126), (573, 0.013773390089162616), (574, 0.015123813363604566), (575, 0.005228791587516685), (576, 0.020770691926652176), (577, 0.04166370412929917), (578, 0.038815611130577), (579, 0.03407074237033876), (580, 0.010993381046390131), (581, 0.02328555369795356), (582, 0.021290442713817692), (583, 0.03402338192356385), (584, 0.058791864541237714), (585, 0.036462399335823875), (586, 0.045633134908096215), (587, 0.03229229048856899), (588, 0.026886205049497673), (589, 0.019177208894042248), (590, 0.054023091658926346), (591, 0.03462260106473681), (592, 0.024689476266804355), (593, 0.007119541208382296), (594, 0.019673922336972717), (595, 0.031155609996702353), (596, 0.013554805210948238), (597, 0.037935502632995555), (598, 0.03328608093610168), (599, 0.024629804324821578), (600, 0.03577579414182788), (601, 0.006846381298194164), (602, 0.03376867458658821), (603, 0.04946709360537891), (604, 0.045148344156389804), (605, 0.027386035627345002), (606, 0.061557526382968984), (607, 0.023041828933831623), (608, 0.029232171474651306), (609, 0.04133339955021081), (610, 0.0148704080295661), (611, 0.026101050352428948), (612, 0.060017002936219366), (613, 0.0314949410590435), (614, 0.03650660833386323), (615, 0.037613896799989874), (616, 0.03123958770951453), (617, 0.06938333497258486), (618, 0.031743388690195634), (619, 0.011348062146930498), (620, 0.03191391254077653), (621, 0.014735577222288075), (622, 0.05078424396575521), (623, 0.017229435053361303), (624, 0.04522728060279884), (625, 0.025580023710515886), (626, 0.022337785440784776), (627, 0.020137935429790497), (628, 0.09307192524981339), (629, 0.052374615979570646), (630, 0.016740191111211146), (631, 0.012909775518392484), (632, 0.019158875160449403), (633, 0.022253557984004437), (634, 0.02599492072744341), (635, 0.03739440994474687), (636, 0.015502878676422683), (637, 0.033482431218354404), (638, 0.037972191220108455), (639, 0.03158881155173687), (640, 0.017117069957423847), (641, 0.016568640147509417), (642, 0.06947451727543433), (643, 0.016967546950653955), (644, 0.06968767420495792), (645, 0.03331819041136875), (646, 0.025424982183914004), (647, 0.025324303215498927), (648, 0.04388168023936336), (649, 0.015933851215351336), (650, 0.02268075579310347), (651, 0.04335436116488502), (652, 0.02559653136082037), (653, 0.022446649768968815), (654, 0.036047272268242316), (655, 0.013595234750164149), (656, 0.034958579226857564), (657, 0.016731623365026788), (658, 0.05080558574241753), (659, 0.024231145335575886), (660, 0.027402336042774783), (661, 0.05499045240934601), (662, 0.02637754730235542), (663, 0.024513452916511545), (664, 0.03425989819479492), (665, 0.01693621769963638), (666, 0.015626159878262366), (667, 0.01032159439818425), (668, 0.02287150092528656), (669, 0.02719685641773261), (670, 0.01931630823789371), (671, 0.014841622130343967), (672, 0.02413367374479201), (673, 0.0332871385663909), (674, 0.024239016564131542), (675, 0.044892169424620085), (676, 0.05434429052850864), (677, 0.023971690118596692), (678, 0.021406381031408094), (679, 0.02365889104847664), (680, 0.03380265773343658), (681, 0.009786017862250983), (682, 0.018055302619379952), (683, 0.05391506348532417), (684, 0.03354249931368185), (685, 0.018608883192289576), (686, 0.026105683561730667), (687, 0.03279773588054946), (688, 0.0169028647899767), (689, 0.040317557462390526), (690, 0.015926087641338623), (691, 0.03422076136147347), (692, 0.03720216285637037), (693, 0.03784693164057928), (694, 0.04637398889643168), (695, 0.0294204643414896), (696, 0.026957104142194127), (697, 0.04064766320228179), (698, 0.04818313048140211), (699, 0.0289927246067837), (700, 0.034172663582759596), (701, 0.04005019715281498), (702, 0.027902130679887158), (703, 0.029388011338093153), (704, 0.023920236565528483), (705, 0.02018659057824298), (706, 0.028734906237605724), (707, 0.020532541460320297), (708, 0.03634513599568679), (709, 0.0061754750226071685), (710, 0.034800275720609404), (711, 0.011099123994101123), (712, 0.01173501727422811), (713, 0.02082824063637192), (714, 0.007205267716720959), (715, 0.035309567239076335), (716, 0.041003821012804934), (717, 0.036526891570183226), (718, 0.025708387423916457), (719, 0.0210493312831906), (720, 0.019268513043671553), (721, 0.004513542357324992), (722, 0.032510975800311454), (723, 0.03082234981611439), (724, 0.02642946229688492), (725, 0.025409475310462837), (726, 0.023797946905801292), (727, 0.030699790270338784), (728, 0.029349081193281765), (729, 0.03394934786350588), (730, 0.04196426346767461), (731, 0.018181489401806993), (732, 0.030850741567106724), (733, 0.026394263375479083), (734, 0.018449911961526157), (735, 0.1289506598015144), (736, 0.021386086952054094), (737, 0.017231079117142598), (738, 0.05674641314727571), (739, 0.024289147619051068), (740, 0.017563667183582057), (741, 0.09539735578340454), (742, 0.02910992306378281), (743, 0.021621074489528283), (744, 0.07134774130717533), (745, 0.021276465473877508), (746, 0.010740585066344819), (747, 0.021347495231530303), (748, 0.02096008264126313), (749, 0.019304512249751143), (750, 0.020038822610403035), (751, 0.013567760233993972), (752, 0.020803384100116732), (753, 0.029118617600673774), (754, 0.05198298053571648), (755, 0.038585785368083624), (756, 0.02656384489082997), (757, 0.017013998331553568), (758, 0.038941644330858984), (759, 0.013719756334962129), (760, 0.030408619800091616), (761, 0.012436693687871744), (762, 0.06731345385859117), (763, 0.041153467439568235), (764, 0.05582794254528129), (765, 0.05826127183714777), (766, 0.06099057481735104), (767, 0.02381151154950518), (768, 0.023398985994424464), (769, 0.05594807254794535), (770, 0.02746528014024936), (771, 0.020550781546503034), (772, 0.01332285262306673), (773, 0.024445022123561762), (774, 0.032133816794192555), (775, 0.030755310808097066), (776, 0.01399536956508079), (777, 0.031686875037089654), (778, 0.020295111838601623), (779, 0.06992412225899515), (780, 0.025103656631942053), (781, 0.020792237169246563), (782, 0.028739471622045598), (783, 0.02706199071887401), (784, 0.013367598445702105), (785, 0.05146195453505088), (786, 0.019161703408285068), (787, 0.019605521615432567), (788, 0.028926912944643904), (789, 0.014225533935014155), (790, 0.033269516399575545), (791, 0.015548759080951036), (792, 0.03730861761167149), (793, 0.010450512353608358), (794, 0.015931984686373756), (795, 0.021277726919892125), (796, 0.030416301923682356), (797, 0.005566973521696178), (798, 0.012707921378218653), (799, 0.03905676653615211), (800, 0.038385995054479816), (801, 0.014700173523724606), (802, 0.024818437130331834), (803, 0.019139912660028804), (804, 0.042113333436409287), (805, 0.057840235166426474), (806, 0.05348995108319878), (807, 0.028519816631305244), (808, 0.049369843848717065), (809, 0.027672844290359412), (810, 0.027175592372865993), (811, 0.06253628607691644), (812, 0.01708873954011887), (813, 0.01818374826061299), (814, 0.0456031660699897), (815, 0.02542269743466824), (816, 0.027526569387735515), (817, 0.041714089600813714), (818, 0.02368846119822126), (819, 0.0271272603041052), (820, 0.023927422391882888), (821, 0.04335260820056238), (822, 0.032221767901657525), (823, 0.01729525913627803), (824, 0.07693018238582039), (825, 0.04331903718256966), (826, 0.009929607865650277), (827, 0.04212996712027647), (828, 0.13325316781435198), (829, 0.028976811489222404), (830, 0.04257238706106668), (831, 0.019060820400856066), (832, 0.03218511602991067), (833, 0.037885948356816544), (834, 0.03236825216265862), (835, 0.025528974902189402), (836, 0.049199644831087394), (837, 0.013629987757419146), (838, 0.027137278674680666), (839, 0.025060152795169616), (840, 0.04342152378605347), (841, 0.020115729386457025), (842, 0.04079972365112022), (843, 0.03458396228558857), (844, 0.022586332409472342), (845, 0.024713932843302096), (846, 0.04757367115071709), (847, 0.021974533823428066), (848, 0.015071090778908319), (849, 0.02263691006961665), (850, 0.012926632436372622), (851, 0.019288441003342597), (852, 0.05988297164398937), (853, 0.05550543715199104), (854, 0.02013534009325429), (855, 0.05083344469105163), (856, 0.020609013655516824), (857, 0.03400290582179704), (858, 0.035035802135313106), (859, 0.0522343147173088), (860, 0.032909159007420134), (861, 0.05599113835129195), (862, 0.016631172180081578), (863, 0.025820791240404074), (864, 0.03266160462258997), (865, 0.02622200713014406), (866, 0.03203543754053416), (867, 0.04742898833454865), (868, 0.03198542933916448), (869, 0.03740946493532214), (870, 0.044762849790392356), (871, 0.03361040903125132), (872, 0.024895356033489587), (873, 0.03402960328459979), (874, 0.023540385161648834), (875, 0.024345870467628213), (876, 0.03154394992591703), (877, 0.0584212290144227), (878, 0.023731281387812754), (879, 0.029759909961730894), (880, 0.02287519882699184), (881, 0.02293712972264377), (882, 0.031167068628627014), (883, 0.020033351589319334), (884, 0.040656984279203626), (885, 0.03559998094735175), (886, 0.016030504817036773), (887, 0.012236656710491857), (888, 0.050113133562645), (889, 0.021102953359495642), (890, 0.014191486963446973), (891, 0.02676058916878732), (892, 0.04281369909241875), (893, 0.06539038889167156), (894, 0.03333745325975409), (895, 0.057053613487062296), (896, 0.020684552607205416), (897, 0.021485665114941585), (898, 0.040001459957332085), (899, 0.01679700685552199), (900, 0.032028962684052864), (901, 0.007697556674769447), (902, 0.1467012651623442), (903, 0.02809488296095883), (904, 0.02546706909118607), (905, 0.05093763023450539), (906, 0.0348452249669782), (907, 0.03512458790334877), (908, 0.02441503141196232), (909, 0.03137498233934393), (910, 0.03460788258294331), (911, 0.030798520649606215), (912, 0.043435374652550464), (913, 0.03361143134668843), (914, 0.008295451229465248), (915, 0.040007176874085455), (916, 0.019946715504667634), (917, 0.014477522160739094), (918, 0.043360724162466106), (919, 0.026168946715263968), (920, 0.014471394828514832), (921, 0.04744427424209728), (922, 0.030703616257421504), (923, 0.03393102798473266), (924, 0.033611711565641016), (925, 0.05997462365830949), (926, 0.023421013950681593), (927, 0.016916176135725408), (928, 0.04069703916356703), (929, 0.027123509541638287), (930, 0.03090308327788663), (931, 0.03138839496852214), (932, 0.02483323622949339), (933, 0.019179393758291658), (934, 0.03223698729513926), (935, 0.03448886227767187), (936, 0.025518808762084434), (937, 0.01718521903083078), (938, 0.09068870791673576), (939, 0.027505367360999095), (940, 0.031067159863285475), (941, 0.030111677041946696), (942, 0.019974461126782226), (943, 0.025241969951813593), (944, 0.04326401852272254), (945, 0.04196956773996993), (946, 0.02708130623850847), (947, 0.04286318634924168), (948, 0.027407545810533455), (949, 0.016107448902216357), (950, 0.014548763789407816), (951, 0.018558081092263697), (952, 0.04100075820410116), (953, 0.06852118200351058), (954, 0.018617571915574026), (955, 0.036901229051448915), (956, 0.02705786545458624), (957, 0.021212186414365307), (958, 0.024161791274214604), (959, 0.011492529432296079), (960, 0.009067128346702747), (961, 0.006988944961276824), (962, 0.030310030847133053), (963, 0.04344843592428698), (964, 0.025753986542569954), (965, 0.01987251831405148), (966, 0.06163991296013883), (967, 0.05301794699250284), (968, 0.031153026126696307), (969, 0.015696307089945388), (970, 0.023997779199691812), (971, 0.0309207713225355), (972, 0.0044096636062412806), (973, 0.033052029038120656), (974, 0.028405391468810347), (975, 0.036474636192382816), (976, 0.041035642378335034), (977, 0.03579155109020579), (978, 0.04077375272785731), (979, 0.020531879293701042), (980, 0.02218996666739614), (981, 0.029823560274822303), (982, 0.014298234547719252), (983, 0.04652038248281177), (984, 0.03634268049522416), (985, 0.035525676198219905), (986, 0.027918482822793224), (987, 0.01909426989140505), (988, 0.02353281932329144), (989, 0.02769806478148194), (990, 0.03337352587955783), (991, 0.038037759240523605), (992, 0.024061385474757304), (993, 0.016770310431336623), (994, 0.027258406642875148), (995, 0.029504961918685072), (996, 0.030615353865891027), (997, 0.050730134362435425), (998, 0.010729389303193903), (999, 0.040815559794742086), (1000, 0.03853662018188508), (1001, 0.03248286226827475), (1002, 0.028892468081642697), (1003, 0.06032537213108101), (1004, 0.046367552824144995), (1005, 0.02149935890791302), (1006, 0.055665038018584655), (1007, 0.011659986248073653), (1008, 0.02647011086601163), (1009, 0.034876119036573526), (1010, 0.03048161514733498), (1011, 0.04530417673767772), (1012, 0.02233085906539006), (1013, 0.013212890963999517), (1014, 0.029750409838716074), (1015, 0.024039207775679798), (1016, 0.01430084490568438), (1017, 0.03711928926720368), (1018, 0.011783965590165996), (1019, 0.07282442060479194), (1020, 0.042546869992583475), (1021, 0.024359865890586852), (1022, 0.02983025087263138), (1023, 0.045134373224404015), (1024, 0.029790279796932665), (1025, 0.024396985623742547), (1026, 0.049030766211149386), (1027, 0.016674382581540484), (1028, 0.0531611465035139), (1029, 0.019749831846312096), (1030, 0.03665404089653419), (1031, 0.020953126044572213), (1032, 0.03843898139408282), (1033, 0.0200261250556159), (1034, 0.02720130487587108), (1035, 0.039922132208491376), (1036, 0.010240194925641287), (1037, 0.036402559097959294), (1038, 0.008980802608955478), (1039, 0.023469522407383876), (1040, 0.024252729380360043), (1041, 0.01960344110256763), (1042, 0.019627465820567458), (1043, 0.04890215258844178), (1044, 0.027261504188247708), (1045, 0.020775304179364688), (1046, 0.030688008169939104), (1047, 0.024863396407465217), (1048, 0.025497667423527076), (1049, 0.013412346071569674), (1050, 0.028915892469666596), (1051, 0.0), (1052, 0.05375674222246473), (1053, 0.026963221277644566), (1054, 0.01874270919630628), (1055, 0.02301681687726079), (1056, 0.023599501646240237), (1057, 0.022686785280823074), (1058, 0.04274255352631996), (1059, 0.03570859181510924), (1060, 0.03363071926263053), (1061, 0.03528916874378152), (1062, 0.01668648341473139), (1063, 0.03264961610082047), (1064, 0.014129878723137106), (1065, 0.03716880144013983), (1066, 0.023070056650480064), (1067, 0.011408886652248432), (1068, 0.03799093003061709), (1069, 0.02915253726784115), (1070, 0.07648528185810458), (1071, 0.05314979214705166), (1072, 0.011214803880419011), (1073, 0.026538129330799264), (1074, 0.029670102331145358), (1075, 0.011716508752726982), (1076, 0.028057125444647547), (1077, 0.02792941975442766), (1078, 0.06180085540932149), (1079, 0.038822289731088686), (1080, 0.04062125854192723), (1081, 0.04437808744826849), (1082, 0.046281260224597054), (1083, 0.018556976979017363), (1084, 0.058420434764237375), (1085, 0.01893951635773128), (1086, 0.06951167633126502), (1087, 0.03805670358943197), (1088, 0.05585886353030051), (1089, 0.02939268000337295), (1090, 0.024610146773044787), (1091, 0.01943059853570225), (1092, 0.01710437509063916), (1093, 0.04029976003336364), (1094, 0.031138811812102665), (1095, 0.05826259498811914), (1096, 0.02615950081480693), (1097, 0.05018863205819481), (1098, 0.015334098559836543), (1099, 0.03242567982433588), (1100, 0.0340514847454448), (1101, 0.0316633157711611), (1102, 0.01866590003429732), (1103, 0.008513245719719509), (1104, 0.07846153983047158), (1105, 0.03188755864470282), (1106, 0.01215865763589484), (1107, 0.03339030889465244), (1108, 0.014250769201437852), (1109, 0.016132863543565093), (1110, 0.03570234677954949), (1111, 0.0443072299119099), (1112, 0.0551562142847132), (1113, 0.026849484478223325), (1114, 0.027229283553668066), (1115, 0.02102631874166045), (1116, 0.04526103933140049), (1117, 0.038409770105704885), (1118, 0.03564341966817848), (1119, 0.08430895577969384), (1120, 0.035977584179661154), (1121, 0.03793039276578807), (1122, 0.027827169346464814), (1123, 0.013139203793994244), (1124, 0.03284847627986332), (1125, 0.022321275822793543), (1126, 0.027262212829406704), (1127, 0.08193006554819673), (1128, 0.05064217399076558), (1129, 0.016533671069838645), (1130, 0.025710605799656106), (1131, 0.05866173011948855), (1132, 0.03994369429502431), (1133, 0.02997998903039384), (1134, 0.03561478164589131), (1135, 0.025377550432265854), (1136, 0.02546839138746166), (1137, 0.022399071213812127), (1138, 0.017400157564110293), (1139, 0.02525283322534468), (1140, 0.026676748432192227), (1141, 0.01417017138834982), (1142, 0.0574409902678497), (1143, 0.02969796233113601), (1144, 0.012779721476484865), (1145, 0.01760546359146677), (1146, 0.012682814288598307), (1147, 0.021317009981604126), (1148, 0.0453658108149517), (1149, 0.03652178889144609), (1150, 0.024408405502290332), (1151, 0.018985304834505116), (1152, 0.025416420773856762), (1153, 0.02039177462779208), (1154, 0.005642240598323668), (1155, 0.020331950869231015), (1156, 0.02305541642442703), (1157, 0.034629516594200514), (1158, 0.02719059893548955), (1159, 0.028178504427859418), (1160, 0.03220530384964994), (1161, 0.023882492956460222), (1162, 0.018044468083904468), (1163, 0.02843354272106724), (1164, 0.023793628692370134), (1165, 0.012369995435123366), (1166, 0.015084160193805016), (1167, 0.012861161004689592), (1168, 0.05582546099024495), (1169, 0.01929762999215151), (1170, 0.01906827945380127), (1171, 0.015754233924591413), (1172, 0.02004896172437541), (1173, 0.03483145835028257), (1174, 0.004463334281586533), (1175, 0.03914273873337194), (1176, 0.033774018016960096), (1177, 0.01607098008459136), (1178, 0.03739595558521142), (1179, 0.026702233378088868), (1180, 0.026576694821161703), (1181, 0.01586193769514115), (1182, 0.03416656522612005), (1183, 0.07789512277066685), (1184, 0.020280991558685752), (1185, 0.024526855651387847), (1186, 0.01718902529496083), (1187, 0.04454474994504199), (1188, 0.03813608511140969), (1189, 0.02805443250497966), (1190, 0.045988262843665195), (1191, 0.014894470637501635), (1192, 0.05918338920184267), (1193, 0.0390746480288588), (1194, 0.01971457153616754), (1195, 0.03315582447713642), (1196, 0.016485562199666976), (1197, 0.043962528212025426), (1198, 0.00998302222870287), (1199, 0.021431047135325156), (1200, 0.026960639302018606), (1201, 0.03458458799276341), (1202, 0.05058925345622356), (1203, 0.026235159444796687), (1204, 0.04978978270033896), (1205, 0.008573008204339566), (1206, 0.026429670914526682), (1207, 0.03839676428646996), (1208, 0.03689773989252844), (1209, 0.05020649611790152), (1210, 0.024237440073757083), (1211, 0.017919524788390033), (1212, 0.008996669424547351), (1213, 0.04773929161692338), (1214, 0.0497808661608658), (1215, 0.021686251399142806), (1216, 0.03280587127393918), (1217, 0.05161850437148137), (1218, 0.04424241799502464), (1219, 0.025688155749741502), (1220, 0.023009301157832857), (1221, 0.0426552258545604), (1222, 0.016538860860898688), (1223, 0.025279445896064037), (1224, 0.09238740089676052), (1225, 0.019638576185443634), (1226, 0.025059990659821656), (1227, 0.0006680491085438076), (1228, 0.039863275272336796), (1229, 0.031245471898576512), (1230, 0.02474145476383105), (1231, 0.019421252991840623), (1232, 0.02460364188779464), (1233, 0.06655006871606453), (1234, 0.03482507244675921), (1235, 0.023928599830528606), (1236, 0.04137054731276588), (1237, 0.03767842102695895), (1238, 0.01250951112151061), (1239, 0.022361123149094626), (1240, 0.017406904754845166), (1241, 0.03153026133160046), (1242, 0.026760725381168887), (1243, 0.05194369205696097), (1244, 0.023539482270676065), (1245, 0.049931457619179075), (1246, 0.025588159464600062), (1247, 0.04079327007683457), (1248, 0.032361682155336205), (1249, 0.017823266796578016), (1250, 0.028902957659646025), (1251, 0.03218799132440833), (1252, 0.030705641128781085), (1253, 0.016807638879252507), (1254, 0.026164641854008), (1255, 0.04028118585833635), (1256, 0.01337138851802822), (1257, 0.016603392136285283), (1258, 0.023187102783120132), (1259, 0.05658725728647911), (1260, 0.04068755030652334), (1261, 0.021048270134950465), (1262, 0.02031370665956296), (1263, 0.014830208324532782), (1264, 0.03616048231052943), (1265, 0.019203461424719962), (1266, 0.03467244992168917), (1267, 0.02108993010789081), (1268, 0.01651780802466687), (1269, 0.018617790192846404), (1270, 0.022954677765955448), (1271, 0.02572081079701721), (1272, 0.024876132866641244), (1273, 0.053903364332338034), (1274, 0.02013471524156833), (1275, 0.02449758532094682), (1276, 0.03753789070586844), (1277, 0.020486814757895166), (1278, 0.022554222184426865), (1279, 0.03933148133029614), (1280, 0.0216812937996537), (1281, 0.035888585472285225), (1282, 0.01664354762922446), (1283, 0.03247579826433589), (1284, 0.08431419735744072), (1285, 0.031992597440465176), (1286, 0.008846393838327644), (1287, 0.018912415078145072), (1288, 0.013919087051759496), (1289, 0.029044633353702904), (1290, 0.07787547684809684), (1291, 0.043482133333742026), (1292, 0.03901231924924045), (1293, 0.008906198408418463), (1294, 0.02959211810002378), (1295, 0.03411617537437765), (1296, 0.024832799332654684), (1297, 0.009797321141505647), (1298, 0.005271761910034593), (1299, 0.022447943439694532), (1300, 0.026713307095952436), (1301, 0.024374651521336416), (1302, 0.03737407952160308), (1303, 0.02140929096360934), (1304, 0.05726613608661851), (1305, 0.03617802472449832), (1306, 0.03468617849137289), (1307, 0.029929126660235825), (1308, 0.017096874490535256), (1309, 0.04664328979124045), (1310, 0.037973730581963225), (1311, 0.024111200781136505), (1312, 0.020388281573951304), (1313, 0.01930880111828792), (1314, 0.029407263305108493), (1315, 0.01337465569354121), (1316, 0.03378508001502257), (1317, 0.04035367879417463), (1318, 0.05612734852356256), (1319, 0.019690773183795432), (1320, 0.03497303282033857), (1321, 0.04205256023402881), (1322, 0.018015450276989416), (1323, 0.01847723449782448), (1324, 0.016753490197461748), (1325, 0.01605063419464264), (1326, 0.0152607968736392), (1327, 0.006445856334167185), (1328, 0.02383865784194785), (1329, 0.02944750635925174), (1330, 0.014976403824425695), (1331, 0.04165201044423874), (1332, 0.017894257367682735), (1333, 0.02087337639558716), (1334, 0.01806981008283978), (1335, 0.04112845142548516), (1336, 0.017032333037771876), (1337, 0.032294546304089136), (1338, 0.020214529468743195), (1339, 0.019658776041429266), (1340, 0.013496260588806132), (1341, 0.042954147667270785), (1342, 0.014413530995849962), (1343, 0.02170828129601124), (1344, 0.04191536869279235), (1345, 0.02556937978719155), (1346, 0.032552268402952625), (1347, 0.016571962186938315), (1348, 0.03522178638522108), (1349, 0.026754397379454897), (1350, 0.03382376812009865), (1351, 0.08303640724197578), (1352, 0.011697226560976957), (1353, 0.00086586125352075), (1354, 0.018159826422435035), (1355, 0.039769280963464396), (1356, 0.0240381472672984), (1357, 0.05001367103977877), (1358, 0.03244224431015236), (1359, 0.017256190512649365), (1360, 0.016434061051782183), (1361, 0.02228865094792846), (1362, 0.05661723909957858), (1363, 0.056561932732939066), (1364, 0.019798941307600473), (1365, 0.058773397697760625), (1366, 0.025792136259730678), (1367, 0.03008148223231832), (1368, 0.018787365288747374), (1369, 0.03378346774800334), (1370, 0.03829741317617577), (1371, 0.031199410967534903), (1372, 0.04199881092245497), (1373, 0.01300738781617046), (1374, 0.042975489878394946), (1375, 0.021276167579369537), (1376, 0.015296428145573306), (1377, 0.022589750282930046), (1378, 0.016381945199723295), (1379, 0.08062372154657181), (1380, 0.029837607390861765), (1381, 0.03130224530904631), (1382, 0.022954854146910807), (1383, 0.05938820956072132), (1384, 0.02405108426055259), (1385, 0.038323194442530385), (1386, 0.03642864548142806), (1387, 0.038509482593054284), (1388, 0.022644364684693004), (1389, 0.029327139560526863), (1390, 0.021562338317020067), (1391, 0.01928499510433608), (1392, 0.03754845695369208), (1393, 0.04651575426503725), (1394, 0.043050012816874914), (1395, 0.02553506215472425), (1396, 0.01690583412137759), (1397, 0.02768068701707508), (1398, 0.019764648574029754), (1399, 0.008241243201628855), (1400, 0.0293088768201191), (1401, 0.02567194648726693), (1402, 0.017676178899747833), (1403, 0.021663607310609782), (1404, 0.026114804732945474), (1405, 0.01960753038709547), (1406, 0.01292806920057367), (1407, 0.01754650269742718), (1408, 0.05813121706942141), (1409, 0.018423614153890114), (1410, 0.03071075006778483), (1411, 0.03145476678174856), (1412, 0.04512028572623985), (1413, 0.03263984156344835), (1414, 0.0628553131373523), (1415, 0.019939179003647042), (1416, 0.028196064650884773), (1417, 0.032966147531757216), (1418, 0.012439298854247514), (1419, 0.019788937802174347), (1420, 0.01690152955782818), (1421, 0.0313275597158376), (1422, 0.019494750927795776), (1423, 0.03564466945277811), (1424, 0.02967012655237991), (1425, 0.028122416892571347), (1426, 0.0449434210944), (1427, 0.018752014178881747), (1428, 0.029395851115358446), (1429, 0.01223864341136827), (1430, 0.025709672214000376), (1431, 0.04223825076414907), (1432, 0.03400979007099131), (1433, 0.03736764484177192), (1434, 0.021343704237475915), (1435, 0.026199805205668326), (1436, 0.056500926181211907), (1437, 0.018133777875989982), (1438, 0.04584126600247603), (1439, 0.03769617519013488), (1440, 0.0260649066635475), (1441, 0.02596353608908943), (1442, 0.02780507537468281), (1443, 0.036875905072135715), (1444, 0.010751122995355397), (1445, 0.031952749188730735), (1446, 0.03426437331464381), (1447, 0.02453275999026533), (1448, 0.02580373089136458), (1449, 0.05701820392332081), (1450, 0.018446539198626093), (1451, 0.04233290656269994), (1452, 0.014544195794338447), (1453, 0.024597775220322714), (1454, 0.018496982335812037), (1455, 0.02452063990082025), (1456, 0.035114034700954214), (1457, 0.030402138096209085), (1458, 0.027124461922718796), (1459, 0.029224523215696734), (1460, 0.012448991618112606), (1461, 0.022894849479677126), (1462, 0.0461030008041189), (1463, 0.019185850326566264), (1464, 0.02919699808281702), (1465, 0.06501409172473839), (1466, 0.0361179985893994), (1467, 0.030469042878949776), (1468, 0.018061256950914196), (1469, 0.02324156254784057), (1470, 0.013806012545642428), (1471, 0.023182857404428443), (1472, 0.10498385025952099), (1473, 0.025177749947883177), (1474, 0.038944318847923015), (1475, 0.04730538107751553), (1476, 0.015300742943785094), (1477, 0.01351217013292155), (1478, 0.016023407370354972), (1479, 0.016806740778879857), (1480, 0.028461727981253748), (1481, 0.056568771683853214), (1482, 0.05509363315428107), (1483, 0.028835448094234988), (1484, 0.022394841374414654), (1485, 0.0323373162512519), (1486, 0.013102838832116236), (1487, 0.02602367532283186), (1488, 0.045650559893656094), (1489, 0.02772368707883617), (1490, 0.026451482772150932), (1491, 0.0144550298796302), (1492, 0.028488807829985762), (1493, 0.04796995403765939), (1494, 0.01835018673119499), (1495, 0.02193369976847661), (1496, 0.03272096002757007), (1497, 0.013215222458114075), (1498, 0.028042478829314987), (1499, 0.03398202359775068), (1500, 0.02353900463538782), (1501, 0.06266973871608043), (1502, 0.039876958882694456), (1503, 0.036337801821853935), (1504, 0.014931866797915486), (1505, 0.030177631745835883), (1506, 0.04391007153668068), (1507, 0.02571617942395273), (1508, 0.04080248982143606), (1509, 0.01963693927071377), (1510, 0.02661613527957685), (1511, 0.036597761691265066), (1512, 0.023249132436689433), (1513, 0.020395166219720873), (1514, 0.006144990384955782), (1515, 0.040856084102559906), (1516, 0.009249575658897058), (1517, 0.016126292465154), (1518, 0.030777849284915268), (1519, 0.05987404092832416), (1520, 0.01814259524614865), (1521, 0.06340151839696027), (1522, 0.03290526918137461), (1523, 0.026215599036531166), (1524, 0.026673647874061707), (1525, 0.03739364782625294), (1526, 0.020273710930874177), (1527, 0.025770648931758608), (1528, 0.034510008020789774), (1529, 0.03821513934932732), (1530, 0.03073250442826298), (1531, 0.025380130338984765), (1532, 0.010471580948016923), (1533, 0.02895859255277792), (1534, 0.035923604319187244), (1535, 0.03424839192255559), (1536, 0.03802411562163932), (1537, 0.015176970700512004), (1538, 0.04759722080754904), (1539, 0.040566134893877004), (1540, 0.044071192820594705), (1541, 0.057170218890145064), (1542, 0.03868654592181272), (1543, 0.044429155550322084), (1544, 0.022743086206539684), (1545, 0.027366842861812887), (1546, 0.021635303349310617), (1547, 0.047694230921497105), (1548, 0.018773323931591843), (1549, 0.025729444264281618), (1550, 0.019812188825319807), (1551, 0.04162446641223895), (1552, 0.027686348263724316), (1553, 0.022336199864004553), (1554, 0.02539938342011782), (1555, 0.017507761837176762), (1556, 0.028526369035732774), (1557, 0.026422236555932118), (1558, 0.027558336760495503), (1559, 0.048882087470645985), (1560, 0.015378128282437821), (1561, 0.014310419039860533), (1562, 0.02261335464729447), (1563, 0.01983980367388355), (1564, 0.02976677310621344), (1565, 0.0474222719727595), (1566, 0.022375956322914295), (1567, 0.02354279412747466), (1568, 0.036316328805316184), (1569, 0.02581771392465875), (1570, 0.0074784727904429645), (1571, 0.027957938980007785), (1572, 0.018208639085702572), (1573, 0.0469963655998503), (1574, 0.013098182683612748), (1575, 0.023817830675026245), (1576, 0.021388540384861224), (1577, 0.01628844677729031), (1578, 0.019128664820738876), (1579, 0.03282186789973604), (1580, 0.028241484786935812), (1581, 0.012276080946506325), (1582, 0.020108588977175764), (1583, 0.021924900815656213), (1584, 0.04200231528447369), (1585, 0.020748646984870278), (1586, 0.03691283905856252), (1587, 0.030709348984262377), (1588, 0.03688563003471816), (1589, 0.007717750521471448), (1590, 0.013513588721494269), (1591, 0.0327756138332198), (1592, 0.03163180507519294), (1593, 0.10577802837699095), (1594, 0.023765395091817385), (1595, 0.04614693840348187), (1596, 0.01645996847264468), (1597, 0.031769213988908834), (1598, 0.019830241204942974), (1599, 0.024568595195194033), (1600, 0.016883754294702825), (1601, 0.022053979377990945), (1602, 0.018658470169678334), (1603, 0.01380483907286434), (1604, 0.019409505081809938), (1605, 0.0264303151433936), (1606, 0.03837005648104036), (1607, 0.016174009493960383), (1608, 0.025433955881703704), (1609, 0.016497938042198602), (1610, 0.0315131872289236), (1611, 0.01890498087593215), (1612, 0.03060579791936207), (1613, 0.03300973444504446), (1614, 0.023796697210794075), (1615, 0.016795509622456982), (1616, 0.03142756958932581), (1617, 0.027906618948818976), (1618, 0.027577670679094148), (1619, 0.019186643749081567), (1620, 0.017992144115364556), (1621, 0.04297879557859749), (1622, 0.03696179471487029), (1623, 0.04251125797168982), (1624, 0.047807096991060526), (1625, 0.0577428801359861), (1626, 0.01005640448601142), (1627, 0.018562947383044662), (1628, 0.002953364923317826), (1629, 0.043486446475330114), (1630, 0.026375935168716204), (1631, 0.041991734566919105), (1632, 0.024147886248979115), (1633, 0.024625449692847023), (1634, 0.03290784796596975), (1635, 0.047188768087503), (1636, 0.05148963426853115), (1637, 0.02022253556523859), (1638, 0.02034842239555297), (1639, 0.016777058598265997), (1640, 0.010753677388688048), (1641, 0.006435052899240243), (1642, 0.012645399936644874), (1643, 0.015711055206890902), (1644, 0.03709370650449747), (1645, 0.03461701795012493), (1646, 0.07397217121455618), (1647, 0.024513855525089563), (1648, 0.05173822247757358), (1649, 0.015476165271829448), (1650, 0.0358530329241464), (1651, 0.03046618927436046), (1652, 0.0349438824011731), (1653, 0.025515104836051572), (1654, 0.014296865083112021), (1655, 0.018400879861053505), (1656, 0.023395394241290078), (1657, 0.03084402720411772), (1658, 0.0151540076455026), (1659, 0.02063182049039416), (1660, 0.023273033156594746), (1661, 0.04469517972286237), (1662, 0.03559121166071465), (1663, 0.008761243971726656), (1664, 0.01615348417576409), (1665, 0.020710846957762947), (1666, 0.044419406310823806), (1667, 0.04130323634945834), (1668, 0.028719956699885148), (1669, 0.013484994285530863), (1670, 0.031895916985764584), (1671, 0.057447084069676926), (1672, 0.01660223226071632), (1673, 0.03503015067317872), (1674, 0.027664395513550225), (1675, 0.024127347533445406), (1676, 0.017559494390534346), (1677, 0.07071503798639626), (1678, 0.024472191941804014), (1679, 0.024356876155146027), (1680, 0.026234760039203997), (1681, 0.038800137616609914), (1682, 0.05684978213816546), (1683, 0.014591988725782871), (1684, 0.0231310182813207), (1685, 0.008069646919495872), (1686, 0.03149303100902054), (1687, 0.020604548618392532), (1688, 0.050536778280057336), (1689, 0.018316561432439597), (1690, 0.03412059157213423), (1691, 0.00789902013278484), (1692, 0.014260385803047837), (1693, 0.029162594672753665), (1694, 0.04392212748458422), (1695, 0.02959763224189769), (1696, 0.02595831869838994), (1697, 0.018928905169047133), (1698, 0.05321365852848526), (1699, 0.012694735630194784), (1700, 0.02401377246320065), (1701, 0.04650888102636368), (1702, 0.015119097657563627), (1703, 0.08321513973934258), (1704, 0.021520636411313437), (1705, 0.017259757099581566), (1706, 0.04942968009511347), (1707, 0.052015357721950393), (1708, 0.007218955329023459), (1709, 0.02747777977009115), (1710, 0.024395161834390798), (1711, 0.02821641702735142), (1712, 0.014524432840053121), (1713, 0.02921015660987221), (1714, 0.017899305110573294), (1715, 0.058218203173747284), (1716, 0.030471050683811125), (1717, 0.02958014082314217), (1718, 0.027300128456534855), (1719, 0.061192996772547546), (1720, 0.0007278956239826543), (1721, 0.019445871104513148), (1722, 0.0399602704151708), (1723, 0.021111255650813857), (1724, 0.02583186037860374), (1725, 0.016926371346874015), (1726, 0.044760738244599335), (1727, 0.05215184597493512), (1728, 0.021354594489222316), (1729, 0.026018167886269816), (1730, 0.028592187740332176), (1731, 0.12635431192938473), (1732, 0.009054960404903667), (1733, 0.03483794050114813), (1734, 0.019241922987907143), (1735, 0.028820135753218776), (1736, 0.023045341562578814), (1737, 0.07036606134376283), (1738, 0.03680197434551424), (1739, 0.03360338728436864), (1740, 0.028440482776548082), (1741, 0.05245533959168716), (1742, 0.026277972057089365), (1743, 0.029937239042733127), (1744, 0.043474693731319486), (1745, 0.006925587348075548), (1746, 0.029909645658097228), (1747, 0.02470350752473601), (1748, 0.018450653414073204), (1749, 0.02482163121043276), (1750, 0.01810791640710687), (1751, 0.010166002999913475), (1752, 0.01523695222144695), (1753, 0.032433488580022714), (1754, 0.020483090639551293), (1755, 0.028462459575102565), (1756, 0.02518348574241353), (1757, 0.029731104566641752), (1758, 0.03483766080814371), (1759, 0.022297276187800603), (1760, 0.03650868227822074), (1761, 0.02709318992194884), (1762, 0.029769662887101696), (1763, 0.04149295508469822), (1764, 0.01872046949446418), (1765, 0.02557019171000716), (1766, 0.02165074662766717), (1767, 0.008582212929679188), (1768, 0.028350861736234606), (1769, 0.02074197789661476), (1770, 0.030065463484576303), (1771, 0.022846267805550532), (1772, 0.02031624054935018), (1773, 0.039515457313421286), (1774, 0.04294530241941292), (1775, 0.03114380962520422), (1776, 0.01901815012316965), (1777, 0.04578852049053014), (1778, 0.040347372361036096), (1779, 0.0815534843520454), (1780, 0.027647723140954192), (1781, 0.025145462909698754), (1782, 0.020479411562934837), (1783, 0.02364526238941341), (1784, 0.029449709407249672), (1785, 0.03622396209138758), (1786, 0.013832868549593268), (1787, 0.045755133132798005), (1788, 0.03383575521278232), (1789, 0.029492195318951857), (1790, 0.021104129984374068), (1791, 0.021873530482661874), (1792, 0.010918166197006555), (1793, 0.013281423188853893), (1794, 0.024259350842790725), (1795, 0.036231328776935634), (1796, 0.017877165417485765), (1797, 0.02022389284004696), (1798, 0.03023745525364084), (1799, 0.025398298234773648), (1800, 0.015608102733089584), (1801, 0.023337043248579645), (1802, 0.01831532353192314), (1803, 0.011698740724831073), (1804, 0.021744749921131554), (1805, 0.02794898995259598), (1806, 0.041633224832655844), (1807, 0.029539118336872276), (1808, 0.03772461328327207), (1809, 0.03833623581186708), (1810, 0.01832805192002894), (1811, 0.008187555816622269), (1812, 0.013239958006200935), (1813, 0.0056367656927482565), (1814, 0.014797916169712008), (1815, 0.024583186249186907), (1816, 0.04021441454984265), (1817, 0.04706262922360933), (1818, 0.02400449024196443), (1819, 0.034146875244979315), (1820, 0.015237244848744658), (1821, 0.05191108583176917), (1822, 0.07035983648360468), (1823, 0.01444825652218087), (1824, 0.01752474376054191), (1825, 0.03461709832121827), (1826, 0.02317228922280405), (1827, 0.05347859472935955), (1828, 0.03603843500839915), (1829, 0.06197402155907718), (1830, 0.03236138853531541), (1831, 0.040355416224074986), (1832, 0.04209437740879496), (1833, 0.022262516877860267), (1834, 0.018210824931843887), (1835, 0.011709995004478882), (1836, 0.037228227765800016), (1837, 0.0464300494171249), (1838, 0.024631874724845647), (1839, 0.015056092190872818), (1840, 0.036959290366527835), (1841, 0.03774862732081585), (1842, 0.03820681688020394), (1843, 0.021856276044119362), (1844, 0.052401630149113226), (1845, 0.049905076972916886), (1846, 0.030077040429144497), (1847, 0.03391317260088079), (1848, 0.027601442875007397), (1849, 0.02605813289001766), (1850, 0.025054341459010414), (1851, 0.004066523385349506), (1852, 0.033424848581436704), (1853, 0.02435782634338039), (1854, 0.03708377662873755), (1855, 0.03169294378051355), (1856, 0.03651908468030077), (1857, 0.02545927925257903), (1858, 0.046523668595072336), (1859, 0.023084016093440095), (1860, 0.04849809089469843), (1861, 0.049396863226847526), (1862, 0.027423794600894412), (1863, 0.02037192445054283), (1864, 0.03464888769554789), (1865, 0.027541004691994123), (1866, 0.026705843166083487), (1867, 0.02984245714477195), (1868, 0.03339198524325815), (1869, 0.016760551441237368), (1870, 0.03585013593747773), (1871, 0.03534529386509259), (1872, 0.03307662989496272), (1873, 0.03016851822032388), (1874, 0.03197037419521404), (1875, 0.03519708596002698), (1876, 0.02097295742262968), (1877, 0.02909951373711913), (1878, 0.07145055278308955), (1879, 0.05375051149078191), (1880, 0.04097932038716063), (1881, 0.010654872085730387), (1882, 0.030399750993120905), (1883, 0.019018312373240406), (1884, 0.04110299639477446), (1885, 0.007813883887283452), (1886, 0.01857910958903118), (1887, 0.09691633608561821), (1888, 0.015194396737471548), (1889, 0.011995015145063573), (1890, 0.021981099967207263), (1891, 0.01793618335056968), (1892, 0.01575314204829901), (1893, 0.02233500100020902), (1894, 0.02124887342350903), (1895, 0.019978037999094082), (1896, 0.05364712716125636), (1897, 0.05188845195090233), (1898, 0.02090923254625262), (1899, 0.015551905320584248), (1900, 0.07108538894150242), (1901, 0.04235392902693147), (1902, 0.04478833066158193), (1903, 0.025185216131702035), (1904, 0.03407057848695399), (1905, 0.018423897367946494), (1906, 0.06217102159643296), (1907, 0.024612774921284566), (1908, 0.04527050099917741), (1909, 0.06811852918279841), (1910, 0.03545552118234082), (1911, 0.01649078591136988), (1912, 0.035840605382948934), (1913, 0.020528084487565528), (1914, 0.01273654267148588), (1915, 0.0182603150235099), (1916, 0.008555948840377784), (1917, 0.01511703058118016), (1918, 0.03567124134238075), (1919, 0.03774479186053696), (1920, 0.020618841714260344), (1921, 0.005698580729680089), (1922, 0.0230884701651943), (1923, 0.02447839228067785), (1924, 0.02093795967639801), (1925, 0.028913163036638406), (1926, 0.027830069405333155), (1927, 0.02005826378310029), (1928, 0.020390275985911394), (1929, 0.050066468354255926), (1930, 0.050836342026797286), (1931, 0.022626487880276838), (1932, 0.02027818092412547), (1933, 0.044920395247567545), (1934, 0.023742497080284634), (1935, 0.030247993010593957), (1936, 0.02192450774670876), (1937, 0.02687140798620685), (1938, 0.0006486325885867113), (1939, 0.028148938922159264), (1940, 0.01866516463865081), (1941, 0.033631622454063544), (1942, 0.025711333734871795), (1943, 0.024608210658595017), (1944, 0.020337129025714006), (1945, 0.02592579067047555), (1946, 0.03877456941799015), (1947, 0.02164440387192939), (1948, 0.04373715860540694), (1949, 0.06198993547080898), (1950, 0.029563818227320574), (1951, 0.03904907888803823), (1952, 0.032242687263554524), (1953, 0.04130066466498802), (1954, 0.01184266093332981), (1955, 0.008900579412291719), (1956, 0.02509812037543446), (1957, 0.01939624935933458), (1958, 0.01951639113887087), (1959, 0.018727576997279144), (1960, 0.011293982176697684), (1961, 0.04620470500380321), (1962, 0.04677361053126543), (1963, 0.04842040502592869), (1964, 0.04239774822540539), (1965, 0.009251632849370988), (1966, 0.029988603341171052), (1967, 0.048880087001133055), (1968, 0.04888370180964895), (1969, 0.025896029080989577), (1970, 0.03130630714524371), (1971, 0.028875265936083278), (1972, 0.03709543277019978), (1973, 0.007339108094478383), (1974, 0.030508357545802802), (1975, 0.01999578284715539), (1976, 0.033558917246934356), (1977, 0.01811229267119811), (1978, 0.020807234780069492), (1979, 0.03373988508115663), (1980, 0.05883729774270751), (1981, 0.033076811238955464), (1982, 0.046469662973960775), (1983, 0.055978721610966516), (1984, 0.011797965430246264), (1985, 0.043938410901503445), (1986, 0.010372973051955357), (1987, 0.026147312827280396), (1988, 0.011175684721389452), (1989, 0.012643395867031355), (1990, 0.03664070983630291), (1991, 0.04691120914598274), (1992, 0.04365451669575255), (1993, 0.03144923635172227), (1994, 0.026745759454295318), (1995, 0.02241045852647252), (1996, 0.04503789877484881), (1997, 0.04332129684974459), (1998, 0.05138517199349058), (1999, 0.015225722958434919), (2000, 0.03320328194702587), (2001, 0.0181368805875362), (2002, 0.0018491506245232852), (2003, 0.033728267650274445), (2004, 0.0342903848577869), (2005, 0.008001835056929881), (2006, 0.0468303704935996), (2007, 0.033647240486459375), (2008, 0.042923932408299614), (2009, 0.03636627813339405), (2010, 0.03159778984492985), (2011, 0.03210550987839558), (2012, 0.04138334800581343), (2013, 0.020124725002285244), (2014, 0.06470280893785912), (2015, 0.027503491304956825), (2016, 0.06638151107764961), (2017, 0.028905222320459237), (2018, 0.022152328186982588), (2019, 0.022361542677859208), (2020, 0.02436991246387483), (2021, 0.030420744804963436), (2022, 0.018111426456503762), (2023, 0.02467809693550411), (2024, 0.03961312499539523), (2025, 0.002038575261409046), (2026, 0.03615639390864997), (2027, 0.03574762918745521), (2028, 0.027360685002682912), (2029, 0.022460737986820817), (2030, 0.02693793916039051), (2031, 0.011081724353594162), (2032, 0.05475468061392719), (2033, 0.016123868010222062), (2034, 0.027099927412058942), (2035, 0.03588819796616132), (2036, 0.016130622758289827), (2037, 0.02875097731527819), (2038, 0.018909587072335685), (2039, 0.03480202372151726), (2040, 0.03503437942827545), (2041, 0.016739019503598705), (2042, 0.028790886521786636), (2043, 0.02865402511932984), (2044, 0.04094610741869247), (2045, 0.0383963064396875), (2046, 0.017049235698471627), (2047, 0.019558943742429967), (2048, 0.03546640188322694), (2049, 0.03363351830064719), (2050, 0.02829092356114377), (2051, 0.0530660042469862), (2052, 0.020970752764681036), (2053, 0.040231382546315385), (2054, 0.02037961739105298), (2055, 0.026278835645079962), (2056, 0.016072119334193873), (2057, 0.020609901565939805), (2058, 0.01303438159917199), (2059, 0.008374002615702189), (2060, 0.007935393844738414), (2061, 0.03825441672691597), (2062, 0.02818135069398944), (2063, 0.04615766199685175), (2064, 0.007033776895330385), (2065, 0.01960336297896434), (2066, 0.03050691182102932), (2067, 0.02798671897025766), (2068, 0.025166912595771952), (2069, 0.02050505092425998), (2070, 0.02225485360023325), (2071, 0.029023052440565144), (2072, 0.019730522931993007), (2073, 0.04123246499397587), (2074, 0.03330438396104489), (2075, 0.035240308178827395), (2076, 0.021301411452678977), (2077, 0.02383496423505162), (2078, 0.04987401004029306), (2079, 0.026289949945585055), (2080, 0.056647863859671854), (2081, 0.018851479345542314), (2082, 0.029412317509315247), (2083, 0.007567325571520519), (2084, 0.029289362591925914), (2085, 0.014708349882552624), (2086, 0.039408105329181084), (2087, 0.015604056258966123), (2088, 0.0380152324960692), (2089, 0.05713085276037311), (2090, 0.05663579577078811), (2091, 0.029240464002634366), (2092, 0.026720735519494374), (2093, 0.019649022211200563), (2094, 0.037394812046751325), (2095, 0.02743445836778171), (2096, 0.024664073154854173), (2097, 0.03528071225619784), (2098, 0.02025930675937906), (2099, 0.02765601760146869), (2100, 0.059928615610946784), (2101, 0.030522316804725103), (2102, 0.029388536230188167), (2103, 0.028489103451413835), (2104, 0.030156385761037525), (2105, 0.024122127796635487), (2106, 0.041603189864283886), (2107, 0.01981431494375832), (2108, 0.014929867491503634), (2109, 0.02459230160108314), (2110, 0.023488241807079285), (2111, 0.058397937950965026), (2112, 0.03182054986106412), (2113, 0.028982243552781336), (2114, 0.04925006949893158), (2115, 0.05063183277671829), (2116, 0.04307969788957927), (2117, 0.04179929734358136), (2118, 0.04872500157024071), (2119, 0.0226071591422912), (2120, 0.024972405619799586), (2121, 0.03249528878105816), (2122, 0.05331389766970972), (2123, 0.04219478506644847), (2124, 0.03333569326519105), (2125, 0.01276741436724263), (2126, 0.030928850029436808), (2127, 0.031150407414084764), (2128, 0.02998370559713167), (2129, 0.03195261475407745), (2130, 0.04733553182643879), (2131, 0.009636092045092793), (2132, 0.02205643204343807), (2133, 0.027556664086708378), (2134, 0.022241422892145216), (2135, 0.043750311034730455), (2136, 0.030650493935822518), (2137, 0.03049051863151264), (2138, 0.04487401301268604), (2139, 0.030230713157858788), (2140, 0.05167836042298311), (2141, 0.03508130354328417), (2142, 0.03490314128832089), (2143, 0.03219722115294062), (2144, 0.05455240056942427), (2145, 0.013886638730627074), (2146, 0.026792059635228044), (2147, 0.03305892800128349), (2148, 0.052532467454524195), (2149, 0.05188394868648806), (2150, 0.027160884880559056), (2151, 0.015085520765617096), (2152, 0.02217500212603278), (2153, 0.00830326100546165), (2154, 0.09111096287276214), (2155, 0.08604988559399991), (2156, 0.02999293143959977), (2157, 0.021303734250321914), (2158, 0.014745555827633858), (2159, 0.027702619321872082), (2160, 0.017414035775843575), (2161, 0.08502577601876891), (2162, 0.022370265489829698), (2163, 0.01728521703944154), (2164, 0.030816005074657565), (2165, 0.017705984733920318), (2166, 0.0336893824301376), (2167, 0.021155169781567885), (2168, 0.015643768400805412), (2169, 0.022846093773084605), (2170, 0.03452538959591992), (2171, 0.03527654076279062), (2172, 0.053654764435206816), (2173, 0.03244204245330813), (2174, 0.03539866682164031), (2175, 0.028031315489646477), (2176, 0.03204029807251841), (2177, 0.019256290719598345), (2178, 0.034041292766838656), (2179, 0.010621837283104101), (2180, 0.03126342123689189), (2181, 0.03787504337157049), (2182, 0.03996159113215453), (2183, 0.03497433577408921), (2184, 0.025446555031105843), (2185, 0.03991777771210647), (2186, 0.029354286637269134), (2187, 0.0458877605749531), (2188, 0.0174948196376329), (2189, 0.038152073414036806), (2190, 0.024109973657073677), (2191, 0.044259153510588796), (2192, 0.037248055699551176), (2193, 0.021103150893052362), (2194, 0.12714990847432167), (2195, 0.032687688767891306), (2196, 0.08228853402846609), (2197, 0.017516709468123254), (2198, 0.02596626561591944), (2199, 0.016957133153289856), (2200, 0.019087367554217256), (2201, 0.039676694683469224), (2202, 0.02656662086792985), (2203, 0.031458559293361485), (2204, 0.007657095011820698), (2205, 0.030377696357972075), (2206, 0.028926024876977194), (2207, 0.030540201993823936), (2208, 0.030915143560912225), (2209, 0.042206812194794455), (2210, 0.029115504464231674), (2211, 0.026963283989204275), (2212, 0.025258274763758613), (2213, 0.030583977315241435), (2214, 0.038831129453930184), (2215, 0.04655177291919849), (2216, 0.036236797123217514), (2217, 0.017510166615142476), (2218, 0.022289355425262627), (2219, 0.04119239002065142), (2220, 0.022643571701624416), (2221, 0.02366222934350724), (2222, 0.023232214991712297), (2223, 0.03916791537284696), (2224, 0.03675931791131197), (2225, 0.029108843574183578), (2226, 0.06687649962092729), (2227, 0.02516398416445827), (2228, 0.022049787972705806), (2229, 0.02000154625571584), (2230, 0.03879920381833663), (2231, 0.016040995639182667), (2232, 0.025581800830343296), (2233, 0.0459138849044748), (2234, 0.033386168860726685), (2235, 0.03040779649826815), (2236, 0.03737974765283292), (2237, 0.027836918856643276), (2238, 0.03661750749629765), (2239, 0.03854058986728359), (2240, 0.03795083776380639), (2241, 0.028077846834203068), (2242, 0.05982570165233503), (2243, 0.023115191812121235), (2244, 0.01092887718866287), (2245, 0.0391484333596411), (2246, 0.03327352220001101), (2247, 0.03459215033993714), (2248, 0.040144483051943285), (2249, 0.0008404622943278919), (2250, 0.05615862918827157), (2251, 0.03113073970370228), (2252, 0.05043515903647129), (2253, 0.0036941686972659475), (2254, 0.017816616129336042), (2255, 0.018118949612689176), (2256, 0.012584116272996111), (2257, 0.029379115310449483), (2258, 0.055633072015317586), (2259, 0.03475468158544996), (2260, 0.035412811500363406), (2261, 0.018167117308813128), (2262, 0.03181532180391262), (2263, 0.03503246945307787), (2264, 0.015581264421091347), (2265, 0.01671398249828219), (2266, 0.020558530210115486), (2267, 0.02631305101989661), (2268, 0.05964600631456536), (2269, 0.03293925846973803), (2270, 0.032153886380302366), (2271, 0.030315825503800665), (2272, 0.04335938728656242), (2273, 0.03535285097153113), (2274, 0.022287206978202627), (2275, 0.052152273863325146), (2276, 0.02687832706281901), (2277, 0.0565075654288077), (2278, 0.025492287325321397), (2279, 0.03837556832586067), (2280, 0.027233937079233637), (2281, 0.0420384956704388), (2282, 0.002263865655689309), (2283, 0.014078991282455058), (2284, 0.020788859482280528), (2285, 0.02562902751802881), (2286, 0.021350075547220137), (2287, 0.027756383728469003), (2288, 0.019718574055920493), (2289, 0.012833311150843284), (2290, 0.02953252608965888), (2291, 0.0515499084038506), (2292, 0.05431909839824692), (2293, 0.016999316423104028), (2294, 0.01803289663371927), (2295, 0.04404948156072761), (2296, 0.02975811498492163), (2297, 0.02227069820716994), (2298, 0.03955182277864899), (2299, 0.017555877008115343), (2300, 0.007851178028506284), (2301, 0.03435415569554096), (2302, 0.0328689472212525), (2303, 0.016417692052996664), (2304, 0.028623084164717198), (2305, 0.026264805915064752), (2306, 0.048625738171009104), (2307, 0.009955413919741368), (2308, 0.0403335333171358), (2309, 0.022547116337146293), (2310, 0.04947554116450706), (2311, 0.014391393673134033), (2312, 0.039681603413279455), (2313, 0.03918493728341096), (2314, 0.07861304245463978), (2315, 0.018457721673082777), (2316, 0.024201920003594352), (2317, 0.026734444254905693), (2318, 0.02458079021901193), (2319, 0.03638410489086434), (2320, 0.041632123733912584), (2321, 0.033514515281115244), (2322, 0.023083284216146256), (2323, 0.02294701757169315), (2324, 0.03268342307003122), (2325, 0.004558808166328766), (2326, 0.02647466667528042), (2327, 0.017079518344303664), (2328, 0.01330298604293309), (2329, 0.020847027579563644), (2330, 0.018872562622316916), (2331, 0.03846229492921144), (2332, 0.012035671738522645), (2333, 0.014856100562617013), (2334, 0.012564954138120595), (2335, 0.028749017270576358), (2336, 0.02602564943279971), (2337, 0.0255221867656876), (2338, 0.03439773600479559), (2339, 0.012254083300389337), (2340, 0.049058963348691795), (2341, 0.019336367231823207), (2342, 0.013679445459864662), (2343, 0.013754542402219813), (2344, 0.02738500221604543), (2345, 0.007860768548128567), (2346, 0.010833501353239301), (2347, 0.06999226293533384), (2348, 0.027340689882739477), (2349, 0.017779336259799234), (2350, 0.026700151390456645), (2351, 0.0322246699408897), (2352, 0.03830739893479907), (2353, 0.0414627216429869), (2354, 0.015476595498539827), (2355, 0.029807310827785188), (2356, 0.03509007722129367), (2357, 0.025959146672414647), (2358, 0.022341414531670056), (2359, 0.025607732082316377), (2360, 0.018376748423726393), (2361, 0.021920069146010912), (2362, 0.05104643836933613), (2363, 0.031504473787855154), (2364, 0.0351017121969009), (2365, 0.043003408677812785), (2366, 0.041816551670021476), (2367, 0.04032846438280088), (2368, 0.034757303016099), (2369, 0.017311967138913954), (2370, 0.023413710038844505), (2371, 0.042685400563256065), (2372, 0.02871515106862714), (2373, 0.009877967298759407), (2374, 0.03540890126003222), (2375, 0.07092330568391952), (2376, 0.02458452888867833), (2377, 0.0771575768458368), (2378, 0.025269569754748478), (2379, 0.015071719540553382), (2380, 0.023070390130560305), (2381, 0.021723001417920194), (2382, 0.017337264161996113), (2383, 0.021209161871227112), (2384, 0.029860488785006366), (2385, 0.02606394604086284), (2386, 0.02252428331137113), (2387, 0.02461723687724955), (2388, 0.044151554693268986), (2389, 0.03596225667124306), (2390, 0.017481449726176407), (2391, 0.06057310090641622), (2392, 0.047971690879375806), (2393, 0.02346895512205754), (2394, 0.02675790536379001), (2395, 0.0180965466746904), (2396, 0.019504806923840802), (2397, 0.020700154693916926), (2398, 0.02129372189256379), (2399, 0.05112533460322567), (2400, 0.077873375169568), (2401, 0.0511016558761693), (2402, 0.034749866978781394), (2403, 0.05125994403568872), (2404, 0.029655064175945628), (2405, 0.026577241695919445), (2406, 0.03516630061841382), (2407, 0.06313644388303763), (2408, 0.05382757295169106), (2409, 0.04492730233852128), (2410, 0.0418848232638189), (2411, 0.1485368626018458), (2412, 0.03294604143934053), (2413, 0.041815593185686395), (2414, 0.024085590117772452), (2415, 0.022957623654430027), (2416, 0.0178609062613386), (2417, 0.03151794540567969), (2418, 0.0294131934939052), (2419, 0.023479659416065835), (2420, 0.0119250808107161), (2421, 0.035045331032646516), (2422, 0.02943430957897853), (2423, 0.013748182964829051), (2424, 0.054738003659172474), (2425, 0.018842395344586014), (2426, 0.03760895418362392), (2427, 0.02914888934818178), (2428, 0.01994984607821818), (2429, 0.017507608607771178), (2430, 0.016318619288847286), (2431, 0.05561526802996783), (2432, 0.03677782357320912), (2433, 0.03443445298444781), (2434, 0.015690049077999525), (2435, 0.036535384928673836), (2436, 0.024348316938870483), (2437, 0.020863748438947706), (2438, 0.020051933540926093), (2439, 0.01582599320327566), (2440, 0.04780068809576483), (2441, 0.010480138301411871), (2442, 0.03645592866353943), (2443, 0.053354109717729435), (2444, 0.07914403224479202), (2445, 0.003395069582683558), (2446, 0.013165829973637263), (2447, 0.030860444375839374), (2448, 0.010779150620209213), (2449, 0.016971355830312482), (2450, 0.02762449964225997), (2451, 0.03402924767611054), (2452, 0.01041259902504824), (2453, 0.025227946897990756), (2454, 0.07667548208779688), (2455, 0.012641313595881198), (2456, 0.020593902894627123), (2457, 0.029190562087633203), (2458, 0.00991487779881547), (2459, 0.03072790734942078), (2460, 0.02214422778126473), (2461, 0.0536772358282846), (2462, 0.008902122514652626), (2463, 0.0546576487647001), (2464, 0.026029735126118766), (2465, 0.025578487815429846), (2466, 0.036508906461584896), (2467, 0.025241838207083474), (2468, 0.018335187525724043), (2469, 0.09859527846423849), (2470, 0.03430802978297628), (2471, 0.00726914365828953), (2472, 0.005684077594137202), (2473, 0.02208805846880997), (2474, 0.05297460481338506), (2475, 0.04810639982637428), (2476, 0.025842303673016598), (2477, 0.05881716752235242), (2478, 0.02215691221619863), (2479, 0.030470483624916337), (2480, 0.04969281730247681), (2481, 0.07170210059208915), (2482, 0.01822817513903222), (2483, 0.032109410751328234), (2484, 0.03744773148023386), (2485, 0.027089574491305023), (2486, 0.024995830334996225), (2487, 0.04979274430050514), (2488, 0.0331704928206152), (2489, 0.027938811992458328), (2490, 0.021638775505353213), (2491, 0.0404374027667615), (2492, 0.04443660239671362), (2493, 0.030322127494505868), (2494, 0.03919333022224938), (2495, 0.02116731031756504), (2496, 0.009672573349398623), (2497, 0.06626912319890789), (2498, 0.04855661485890044), (2499, 0.03868206974183423), (2500, 0.005358839871109071), (2501, 0.043144013141771714), (2502, 0.16875474657360645), (2503, 0.011398547572582837), (2504, 0.035585413163712644), (2505, 0.020930287424966717), (2506, 0.03122806423051641), (2507, 0.025450860866854084), (2508, 0.013157336458137577), (2509, 0.02589021614018527), (2510, 0.016244831795034158), (2511, 0.01729766279363159), (2512, 0.03963651082561526), (2513, 0.05517740840307027), (2514, 0.022490319671263137), (2515, 0.018189140585600852), (2516, 0.0286120583035656), (2517, 0.015099468683623175), (2518, 0.032823432715777014), (2519, 0.014060615719201764), (2520, 0.043146981146209365), (2521, 0.029329857316353486), (2522, 0.03817893817090054), (2523, 0.012631430324229065), (2524, 0.02050183757576458), (2525, 0.047301091915580185), (2526, 0.008246599808722044), (2527, 0.06532404021467478), (2528, 0.03497671935327192), (2529, 0.04898637911870438), (2530, 0.03978264792751489), (2531, 0.028360262992337404), (2532, 0.022101032517441905), (2533, 0.011547279361916183), (2534, 0.04078127824809371), (2535, 0.03612722336220846), (2536, 0.06595201400853756), (2537, 0.014544791200388367), (2538, 0.0390422570672698), (2539, 0.019774568355343018), (2540, 0.0359665180869155), (2541, 0.06975838497455891), (2542, 0.021851461624227523), (2543, 0.021321298875309393), (2544, 0.02464046922222873), (2545, 0.06752934667628627), (2546, 0.01910984509659777), (2547, 0.03825445777474325), (2548, 0.02421401639488397), (2549, 0.03636079626702432), (2550, 0.03663093680549231), (2551, 0.023407871698826358), (2552, 0.17081553932574892), (2553, 0.05660185103676555), (2554, 0.07639826551340786), (2555, 0.027358111015313075), (2556, 0.016229741081478795), (2557, 0.0367708216695961), (2558, 0.054860968773399396), (2559, 0.034755785103456435), (2560, 0.03549394943804279), (2561, 0.0591894982649838), (2562, 0.03399482035305691), (2563, 0.029695130984264326), (2564, 0.02009546842579467), (2565, 0.01233365009380306), (2566, 0.02479041212479688), (2567, 0.027278274155165528), (2568, 0.03665419038204967), (2569, 0.03866870757347175), (2570, 0.05337259290244679), (2571, 0.024891724096808364), (2572, 0.025335075480173424), (2573, 0.016665975583967825), (2574, 0.023199651049048704), (2575, 0.024587601605227466), (2576, 0.025332038107776487), (2577, 0.03220427840412077), (2578, 0.02364914745528377), (2579, 0.028650843134104056), (2580, 0.04283546109577317), (2581, 0.02520995173709882), (2582, 0.048194218967883146), (2583, 0.023898197145614298), (2584, 0.020390214723535548), (2585, 0.02286073663636474), (2586, 0.016476415784112828), (2587, 0.023424529869335124), (2588, 0.054318044579104836), (2589, 0.012992939721436818), (2590, 0.03136688722908977), (2591, 0.06692295433973473), (2592, 0.020531415398324433), (2593, 0.01660755059167634), (2594, 0.00960323186335653), (2595, 0.021591655156728347), (2596, 0.018091790592575447), (2597, 0.02514600579094276), (2598, 0.06230785137703917), (2599, 0.057265548523117354), (2600, 0.02889360113914511), (2601, 0.022962414230107673), (2602, 0.023740164430558548), (2603, 0.03808072665880274), (2604, 0.017762737871943397), (2605, 0.015745312372939028), (2606, 0.020900679317275416), (2607, 0.062325939206815124), (2608, 0.01753055235655748), (2609, 0.054332015195556665), (2610, 0.037681149120036166), (2611, 0.018721963616981897), (2612, 0.016072221880207033), (2613, 0.020658204893087694), (2614, 0.032406919185579), (2615, 0.023316857891881326), (2616, 0.01818819250350472), (2617, 0.028911203909335142), (2618, 0.1049254867370794), (2619, 0.05032215122716148), (2620, 0.00807650017479564), (2621, 0.02262335008566884), (2622, 0.03604451789958218), (2623, 0.03169768128831402), (2624, 0.0609786356635385), (2625, 0.029215439611481937), (2626, 0.03518769480992778), (2627, 0.018183684883984218), (2628, 0.018513921843395523), (2629, 0.05834960171505537), (2630, 0.03487285556149494), (2631, 0.038802167658340526), (2632, 0.023002035541125076), (2633, 0.07398792553307572), (2634, 0.03386462612762736), (2635, 0.039324234742172066), (2636, 0.02859495334737138), (2637, 0.021075873389987367), (2638, 0.06254875604495416), (2639, 0.026858765956759695), (2640, 0.031138809999361125), (2641, 0.01819383792065834), (2642, 0.023736826833296226), (2643, 0.026057131602853653), (2644, 0.021939114998940204), (2645, 0.02701905567877918), (2646, 0.033612537316163524), (2647, 0.02992480388357653), (2648, 0.02256395320556728), (2649, 0.02919285295683402), (2650, 0.04102476819365763), (2651, 0.014652475951367074), (2652, 0.03366364889623829), (2653, 0.06604736316493487), (2654, 0.023636935317421143), (2655, 0.042125025143329414), (2656, 0.05288575212539528), (2657, 0.009551253761610421), (2658, 0.009454122236151297), (2659, 0.004966150645502845), (2660, 0.03828913737822022), (2661, 0.024156692113550135), (2662, 0.04259276675861873), (2663, 0.049834527907887935), (2664, 0.06687107303471874), (2665, 0.061007309066849855), (2666, 0.035587072758001104), (2667, 0.044689461465642885), (2668, 0.03595378036881055), (2669, 0.037583221728035354), (2670, 0.029626581093734658), (2671, 0.032775432466477454), (2672, 0.03015855773974506), (2673, 0.046328207712991135), (2674, 0.014128178692211855), (2675, 0.015445690585381294), (2676, 0.006538329346465494), (2677, 0.026858980272158037), (2678, 0.021411314990979712), (2679, 0.03878547395349146), (2680, 0.033718021294216034), (2681, 0.041990062140879796), (2682, 0.014704240424537704), (2683, 0.0492142059566539), (2684, 0.01829510621733657), (2685, 0.01443628748575546), (2686, 0.01693507607754784), (2687, 0.018913857492396075), (2688, 0.02774237483374106), (2689, 0.03991960724028503), (2690, 0.034319697630449404), (2691, 0.030048819296871313), (2692, 1.0), (2693, 0.04598062996776808), (2694, 0.03712731651715716), (2695, 0.09463187153443584), (2696, 0.05183266940468677), (2697, 0.048854684709301585), (2698, 0.04964449401983419), (2699, 0.02184303638389987), (2700, 0.041382502378661715), (2701, 0.07648715523805039), (2702, 0.03087506736143354), (2703, 0.024338906546499714), (2704, 0.012250559746758757), (2705, 0.04662600264287483), (2706, 0.028547808923380495), (2707, 0.037068513205561614), (2708, 0.034031469098464745), (2709, 0.012310654599864329), (2710, 0.03651862939819999), (2711, 0.021165843207368834), (2712, 0.03524822771990224), (2713, 0.017800899927579304), (2714, 0.014171538820607689), (2715, 0.012129548070497927), (2716, 0.04770869832400823), (2717, 0.05892863358487657), (2718, 0.02676245876164741), (2719, 0.028352942014039626), (2720, 0.01587888288850441), (2721, 0.030456946741358064), (2722, 0.02271581544858474), (2723, 0.03423217120878269), (2724, 0.02459968927321554), (2725, 0.05338813215018873), (2726, 0.04083463545956455), (2727, 0.03802488693022325), (2728, 0.10638201637210712), (2729, 0.03835132058915294), (2730, 0.0280685390961584), (2731, 0.02664922170405317), (2732, 0.027077794120746564), (2733, 0.03048205514774333), (2734, 0.03003379325137508), (2735, 0.025841914941893248), (2736, 0.028094219754781047), (2737, 0.0405377834649938), (2738, 0.03972282686151978), (2739, 0.044194351527237274), (2740, 0.04446347047687521), (2741, 0.03370310727896942), (2742, 0.01899423002634258), (2743, 0.02265481351193066), (2744, 0.04948398677413664), (2745, 0.028830033440115668), (2746, 0.04790107701910902), (2747, 0.027884219496906525), (2748, 0.020671343150810262), (2749, 0.02712691117882011), (2750, 0.01706848224603709), (2751, 0.043619063524744574), (2752, 0.0432119799601631), (2753, 0.01799853749892464), (2754, 0.019188505890695907), (2755, 0.06216109222629383), (2756, 0.03186343787726497), (2757, 0.02722931639579687), (2758, 0.02345403400333522), (2759, 0.02239169288672348), (2760, 0.006766718891197471), (2761, 0.006435613432196966), (2762, 0.026186755980243448), (2763, 0.030125884941645163), (2764, 0.01728561811467951), (2765, 0.02719625251580239), (2766, 0.05242128638176025), (2767, 0.03649407461219762), (2768, 0.018287191198373666), (2769, 0.03630834676938763), (2770, 0.046044047311676675), (2771, 0.033777330102014204), (2772, 0.04523205278034588), (2773, 0.028330727767754114), (2774, 0.034424608409580025), (2775, 0.018548968037184654), (2776, 0.027900838492164882), (2777, 0.03283207531126184), (2778, 0.05672690935100645), (2779, 0.018349468202141114), (2780, 0.043870515638329326), (2781, 0.033803046870972894), (2782, 0.037090028352031), (2783, 0.02034313064803575), (2784, 0.033608993534112896), (2785, 0.021356864551986307), (2786, 0.037229886032075776), (2787, 0.0026681320113745174), (2788, 0.026829529590403814), (2789, 0.0363230377134565), (2790, 0.05061209526462157), (2791, 0.024309630123049823), (2792, 0.027535073021830454), (2793, 0.03854819813972915), (2794, 0.04482258954890108), (2795, 0.03024423132681612), (2796, 0.032083702153400034), (2797, 0.03614843861831441), (2798, 0.05236008771513692), (2799, 0.036887023309229314), (2800, 0.01364128180978975), (2801, 0.0808647002848802), (2802, 0.03031749693989962), (2803, 0.02471525378829504), (2804, 0.018589403379028247), (2805, 0.03549369419010361), (2806, 0.0), (2807, 0.029208577315827162), (2808, 0.03920952632679175), (2809, 0.030320740472297533), (2810, 0.01763630785702371), (2811, 0.02562857880871515), (2812, 0.015262780448007312), (2813, 0.049571376580920555), (2814, 0.020519080913178594), (2815, 0.02593004158378549), (2816, 0.03502212437732253), (2817, 0.032414872561682274), (2818, 0.035836119609726304), (2819, 0.02296314760459918), (2820, 0.017683620184871622), (2821, 0.021549949155716237), (2822, 0.012135564507356658), (2823, 0.034240087625413716), (2824, 0.05293893039938792), (2825, 0.030224332913287213), (2826, 0.01617653019879759), (2827, 0.024559283450925864), (2828, 0.03818637941436641), (2829, 0.017761817297006464), (2830, 0.07272300042923559), (2831, 0.017458824909765133), (2832, 0.033435076313679785), (2833, 0.022871070168982023), (2834, 0.026818121817451197), (2835, 0.020475206906387215), (2836, 0.03353656520798294), (2837, 0.01990973985301503), (2838, 0.024438881835630137), (2839, 0.021993307599041306), (2840, 0.027348560380823173), (2841, 0.030173748798660277), (2842, 0.021180776619691942), (2843, 0.04692946231438138), (2844, 0.03904346647270261), (2845, 0.010296645648213398), (2846, 0.0244110531711369), (2847, 0.02260010163112828), (2848, 0.01375001372843915), (2849, 0.029156881395535114), (2850, 0.02790110096809187), (2851, 0.04065390742889826), (2852, 0.029056257307468216), (2853, 0.018494397401658553), (2854, 0.016443674942058017), (2855, 0.028579949488843945), (2856, 0.007704777006068979), (2857, 0.01232298139906924), (2858, 0.012885650643095816), (2859, 0.037594554678949024), (2860, 0.026830821239806464), (2861, 0.02723246605390763), (2862, 0.034491106071804785), (2863, 0.030987763061034856), (2864, 0.01877948518663161), (2865, 0.04765171095847628), (2866, 0.012750134868241407), (2867, 0.03463564708740543), (2868, 0.027665003462735004), (2869, 0.03660405609461158), (2870, 0.031784962594527406), (2871, 0.012946731666910813), (2872, 0.03251294972324117), (2873, 0.029374658486805916), (2874, 0.03908408576478445), (2875, 0.004689798380312577), (2876, 0.08411063501107233), (2877, 0.04758096017210263), (2878, 0.04288557342854123), (2879, 0.035317674317414394), (2880, 0.018845527525893514), (2881, 0.0191968856685014), (2882, 0.041194703779142736), (2883, 0.06022534289533564), (2884, 0.02663265100462879), (2885, 0.01231108617344548), (2886, 0.012440355604184487), (2887, 0.023161964707849345), (2888, 0.0327051164371885), (2889, 0.04398268905413744), (2890, 0.027793513263707312), (2891, 0.03722431018379846), (2892, 0.037354248493538134), (2893, 0.03317286493454737), (2894, 0.03744400487099239), (2895, 0.013041446113271658), (2896, 0.04159708982779825), (2897, 0.011455557777454242), (2898, 0.024209409076025257), (2899, 0.05782659819863924), (2900, 0.02421705044026178), (2901, 0.04221629597584298), (2902, 0.05275970674906659), (2903, 0.0547739329746858), (2904, 0.01719879776237773), (2905, 0.021045603848679373), (2906, 0.018995913071546612), (2907, 0.019043116349236215), (2908, 0.048805587532384044), (2909, 0.028631387813203055), (2910, 0.04316883228415007), (2911, 0.026623287936957583), (2912, 0.0355366244333836), (2913, 0.027115929251109394), (2914, 0.04784826060794799), (2915, 0.01874861658070013), (2916, 0.03239343342891423), (2917, 0.016220153643375358), (2918, 0.0398731308155473), (2919, 0.04079984312712319), (2920, 0.04490770999848036), (2921, 0.02652089552867806), (2922, 0.02975171391955467), (2923, 0.007295876738004872), (2924, 0.03439562298082203), (2925, 0.04418785352684039), (2926, 0.037260608872257656), (2927, 0.05012131331501322), (2928, 0.04466410478978521), (2929, 0.0357588635608726), (2930, 0.043947484185576396), (2931, 0.03140403980935253), (2932, 0.03298924845826326), (2933, 0.0568006447516735), (2934, 0.020461213902562125), (2935, 0.025892218284320333), (2936, 0.010191240299937218), (2937, 0.022673785811325647), (2938, 0.03348397671240677), (2939, 0.04231031434038685), (2940, 0.025305343491557657), (2941, 0.006853926301635033), (2942, 0.06334324200285443), (2943, 0.024299546447507068), (2944, 0.030113643439767718), (2945, 0.028846090467993565), (2946, 0.016300931328155598), (2947, 0.010153754564120616), (2948, 0.02442982220873178), (2949, 0.09091602724816096), (2950, 0.023677941778205768), (2951, 0.02497306457371758), (2952, 0.028298275048851185), (2953, 0.024432280348406936), (2954, 0.03165294939980373), (2955, 0.01997983722619348), (2956, 0.028113921337253246), (2957, 0.04627370266128362), (2958, 0.022231634122234178), (2959, 0.04013570949728624), (2960, 0.03486754216318391), (2961, 0.018962914135513625), (2962, 0.05463925219804758), (2963, 0.04080959027062979), (2964, 0.033158288727613214), (2965, 0.02182287181528774), (2966, 0.043559370368652824), (2967, 0.010781383624411445), (2968, 0.023131115701044626), (2969, 0.03140946176375179), (2970, 0.018734938020296472), (2971, 0.032129141504395164), (2972, 0.013222188957280851), (2973, 0.029150679499540533), (2974, 0.05865007965063866), (2975, 0.03270279202782501), (2976, 0.03923611581260709), (2977, 0.028100906539578308), (2978, 0.042654433898964124), (2979, 0.022041293657766647), (2980, 0.01638298354563427), (2981, 0.035568396400392166), (2982, 0.015267722814596034), (2983, 0.033637861991088744), (2984, 0.053033212702070294), (2985, 0.07840320015912983), (2986, 0.015999997102653672), (2987, 0.00483160603151998), (2988, 0.02543322407250495), (2989, 0.029625798145781028), (2990, 0.03196103994471421), (2991, 0.022292993548269746), (2992, 0.0210120908766638), (2993, 0.0270920570812665), (2994, 0.05543707642954887), (2995, 0.016602666141654787), (2996, 0.0293645877463774), (2997, 0.0519892360215332), (2998, 0.02253716630306732), (2999, 0.03177139624956303), (3000, 0.06761658966600914), (3001, 0.01277611707544781), (3002, 0.01219315793184239), (3003, 0.0274998313401193), (3004, 0.025187006828764756), (3005, 0.07848809799752617), (3006, 0.022944591729371775), (3007, 0.019998429110319217), (3008, 0.015180774571686494), (3009, 0.016780674885116392), (3010, 0.04375546835327184), (3011, 0.03634248401637044), (3012, 0.03585472196912935), (3013, 0.02409656513367272), (3014, 0.03040678460121527), (3015, 0.05199488984533051), (3016, 0.03360150746200389), (3017, 0.016891311645954817), (3018, 0.018981587722383172), (3019, 0.06209817571498732), (3020, 0.07218645653941762), (3021, 0.0330485486220975), (3022, 0.029829262358009558), (3023, 0.02867872179732766), (3024, 0.017451105492828155), (3025, 0.003200810740864539), (3026, 0.02328154576778303), (3027, 0.04530011199184708), (3028, 0.014324021201456648), (3029, 0.020348326750474433), (3030, 0.02710016603590262), (3031, 0.026048857159294215), (3032, 0.06162546517964604), (3033, 0.03412111630237137), (3034, 0.013543850135166104), (3035, 0.024223345433232294), (3036, 0.020242747538411363), (3037, 0.04300160821671253), (3038, 0.04010004204100053), (3039, 0.014869373074721037), (3040, 0.02565484022729934), (3041, 0.005795848098210554), (3042, 0.01820905651455712), (3043, 0.049716634602412886), (3044, 0.02284966020786104), (3045, 0.039735054343339474), (3046, 0.03368517358955078), (3047, 0.02937674266734), (3048, 0.021439080671211225), (3049, 0.0237233527539762), (3050, 0.019010742577538847), (3051, 0.032510277665450095), (3052, 0.02758760059184525), (3053, 0.040060995034114595), (3054, 0.035663091362031475), (3055, 0.17493047947569895), (3056, 0.008555928153983493), (3057, 0.051499953219504103), (3058, 0.031010744518813006), (3059, 0.0334006449840653), (3060, 0.020437568640578822), (3061, 0.025451468483980808), (3062, 0.012701484521497728), (3063, 0.024422751246077366), (3064, 0.020847592376481955), (3065, 0.04448031180180574), (3066, 0.022353608786207305), (3067, 0.04749086259466273), (3068, 0.019933705835773842), (3069, 0.03705917635299644), (3070, 0.028100130432549827), (3071, 0.04714010032891249), (3072, 0.002704758435061767), (3073, 0.018920549369543016), (3074, 0.03485840492134406), (3075, 0.02025419294498123), (3076, 0.0209302707732138), (3077, 0.01993282823219509), (3078, 0.042276671081185484), (3079, 0.024063822495336725), (3080, 0.016637895430815883), (3081, 0.046565745426106586), (3082, 0.01891323009285973), (3083, 0.04219178248963466), (3084, 0.023567154534135926), (3085, 0.02061610368416105), (3086, 0.04528417056839077), (3087, 0.022636694939090277), (3088, 0.05772581381763912), (3089, 0.009842540463169527), (3090, 0.02662781962037648), (3091, 0.03107325220502674), (3092, 0.03431578087415132), (3093, 0.033082352361343166), (3094, 0.10517839992110864), (3095, 0.028623655009719525), (3096, 0.02398503377754441), (3097, 0.03684426623290363), (3098, 0.04571065957484783), (3099, 0.04089753725872667), (3100, 0.028513245751677872), (3101, 0.05012463412617712), (3102, 0.06005204811162857), (3103, 0.04034932022518511), (3104, 0.036652045288718606), (3105, 0.05120936436764857), (3106, 0.017751623549369145), (3107, 0.023273462827954765), (3108, 0.02423593725723807), (3109, 0.030770418784533987), (3110, 0.029677059355468462), (3111, 0.034509514527683055), (3112, 0.02260888294064423), (3113, 0.019202650523598017), (3114, 0.04630350033822674), (3115, 0.02458442215453726), (3116, 0.04607739180348079), (3117, 0.050039027066570776), (3118, 0.045153521216879954), (3119, 0.00931780907732677), (3120, 0.04100765267057397), (3121, 0.018149845568871524), (3122, 0.049071371339885594), (3123, 0.06377736202879969), (3124, 0.01931340222406446), (3125, 0.025399394987670524), (3126, 0.02322096712634996), (3127, 0.03268456149332421), (3128, 0.018886207895685927), (3129, 0.03820385777433866), (3130, 0.03297434416112113), (3131, 0.03420616711798383), (3132, 0.0143047181799182), (3133, 0.020879170326806116), (3134, 0.02950795867743071), (3135, 0.018471989162057507), (3136, 0.024594897726306915), (3137, 0.03292396519058331), (3138, 0.03694618060347448), (3139, 0.06550238440811554), (3140, 0.041421905758010545), (3141, 0.029050161679939623), (3142, 0.04292870069697697), (3143, 0.02749112139831795), (3144, 0.019089732802272726), (3145, 0.00954344686388696), (3146, 0.029197054177816813), (3147, 0.028817941262499387), (3148, 0.049283075976294555), (3149, 0.024573913175618724), (3150, 0.029131358581642744), (3151, 0.03461574973026288), (3152, 0.04896327666724271), (3153, 0.03590514866420404), (3154, 0.03189632415018259), (3155, 0.038718862755550525), (3156, 0.0455246205291401), (3157, 0.09367716854024873), (3158, 0.05170168693454159), (3159, 0.025430163852470333), (3160, 0.030664533576657306), (3161, 0.019095739734840203), (3162, 0.04061146156004582), (3163, 0.04128441603049744), (3164, 0.043248627057945827), (3165, 0.05129582966686626), (3166, 0.03352158442186754), (3167, 0.04132628245576228), (3168, 0.023155420699056843), (3169, 0.04087411369780515), (3170, 0.04289794953596545), (3171, 0.030609341132136956), (3172, 0.022127077694479032), (3173, 0.035096429652593006), (3174, 0.02825292675145811), (3175, 0.028242370366124262), (3176, 0.04179713816277747), (3177, 0.046052586287231086), (3178, 0.06375838105811768), (3179, 0.026179067877995964), (3180, 0.02153541526828015), (3181, 0.01731414715534426), (3182, 0.04098118745046745), (3183, 0.031983858936692824), (3184, 0.03282778517080658), (3185, 0.027728188153940302), (3186, 0.0697719615146048), (3187, 0.044321295615788646), (3188, 0.04439891936048163), (3189, 0.04782949845324574), (3190, 0.011387219273406093), (3191, 0.02671686958589712), (3192, 0.014092591035697205), (3193, 0.03464707231511155), (3194, 0.0222470227547054), (3195, 0.03549903391178797), (3196, 0.039346947563515706), (3197, 0.005448664975811838), (3198, 0.027443876995990907), (3199, 0.00992119017442366), (3200, 0.01431013683845805), (3201, 0.028576875839354695), (3202, 0.03168222585412299), (3203, 0.02409687902112), (3204, 0.013418086097742922), (3205, 0.029562159165003113), (3206, 0.02758808241541087), (3207, 0.02042115657205263), (3208, 0.07052755127978218), (3209, 0.020375426371202387), (3210, 0.05855164914598794), (3211, 0.03819550417831452), (3212, 0.05078852511123309), (3213, 0.03841343599215197), (3214, 0.06100004337181036), (3215, 0.030832997855783133), (3216, 0.046543197028273364), (3217, 0.04153449384517779), (3218, 0.0703470349078137), (3219, 0.025388644233775286), (3220, 0.04163239680978105), (3221, 0.037013171750402266), (3222, 0.048643700474571415), (3223, 0.012323983072653005), (3224, 0.010646041241709012), (3225, 0.020286081706192095), (3226, 0.03522448021364581), (3227, 0.03281212395721941), (3228, 0.06371713906014143), (3229, 0.04122874258217842), (3230, 0.027619998885641046), (3231, 0.051312291035443484), (3232, 0.017737678234705165), (3233, 0.03205956000972365), (3234, 0.03777958639751443), (3235, 0.05504599344544128), (3236, 0.03513675615120033), (3237, 0.022583926772393938), (3238, 0.02793816538116746), (3239, 0.03198237818075597), (3240, 0.053009916876596896), (3241, 0.007023392098798681), (3242, 0.045760043544350516), (3243, 0.03790865550788181), (3244, 0.04797974265245658), (3245, 0.014484784066315433), (3246, 0.07909120356349854), (3247, 0.02175059775425274), (3248, 0.0005104450867099551), (3249, 0.0745978021418947), (3250, 0.030413952945932573), (3251, 0.022246787920462113), (3252, 0.02703598928629112), (3253, 0.017241403478343898), (3254, 0.06871054623494176), (3255, 0.03783765517983524), (3256, 0.01488892027945293), (3257, 0.020452999826210724), (3258, 0.03553125364714419), (3259, 0.03062141909834636), (3260, 0.014449090801602569), (3261, 0.04577157258523795), (3262, 0.032124096365037394), (3263, 0.025173710990453183), (3264, 0.021612902446313732), (3265, 0.013302006881507929), (3266, 0.017272486310992565), (3267, 0.017849908137165204), (3268, 0.044715076715723265), (3269, 0.041309952308143445), (3270, 0.07077895819758508), (3271, 0.02406676311710078), (3272, 0.025395442099288897), (3273, 0.01833412641950851), (3274, 0.04958513012912968), (3275, 0.02517695053396531), (3276, 0.048067203725183166), (3277, 0.03231107849119134), (3278, 0.02088761118369463), (3279, 0.02170758471846424), (3280, 0.04178401746454435), (3281, 0.04706717526636268), (3282, 0.04267053496390061), (3283, 0.009268350464721905), (3284, 0.03504742989696183), (3285, 0.04335032122264387), (3286, 0.02255054949053979), (3287, 0.025253163066362053), (3288, 0.02412281436898016), (3289, 0.03337861704090447), (3290, 0.025591162169987875), (3291, 0.017394111422216814), (3292, 0.02176154251920586), (3293, 0.03839484818113269), (3294, 0.057334982225022965), (3295, 0.022951692552745807), (3296, 0.025917391000918267), (3297, 0.0621595955582599), (3298, 0.04989688971752439), (3299, 0.02207344517044081), (3300, 0.04958314837746316), (3301, 0.017602207911179817), (3302, 0.015376436769714608), (3303, 0.08642667778135643), (3304, 0.03728743132571991), (3305, 0.02300713575277117), (3306, 0.044352679986902274), (3307, 0.013063038232393829), (3308, 0.03306038280541191), (3309, 0.021267937802781467), (3310, 0.011370822487921916), (3311, 0.03557823826557131), (3312, 0.03128379270141646), (3313, 0.05250068543657508), (3314, 0.023237278493846866), (3315, 0.04039100626944999), (3316, 0.029412461453321034), (3317, 0.029192477785212487), (3318, 0.07765538788685152), (3319, 0.02499842900510094), (3320, 0.0308702906903656), (3321, 0.0370969277069762), (3322, 0.02409887602404456), (3323, 0.0), (3324, 0.03403337968752941), (3325, 0.05448169780055367), (3326, 0.03577997375618877), (3327, 0.018393311618780477), (3328, 0.0322818764185262), (3329, 0.006822071511373771), (3330, 0.0156334824639878), (3331, 0.028738459385468734), (3332, 0.011615851550537744), (3333, 0.018754933440637063), (3334, 0.04414725565201725), (3335, 0.01943913468623001), (3336, 0.052091133731921035), (3337, 0.0253029197572336), (3338, 0.03442623957912142), (3339, 0.020663642144293698), (3340, 0.03274929999022996), (3341, 0.04393482802164485), (3342, 0.02080207571735978), (3343, 0.08040183776477214), (3344, 0.04535800534252723), (3345, 0.026531297016485426), (3346, 0.050078177469378704), (3347, 0.050435239209460726), (3348, 0.02411701359016377), (3349, 0.04797348514702603), (3350, 0.023783707161581933), (3351, 0.060764963734604396), (3352, 0.01519259977664952), (3353, 0.02304638992877614), (3354, 0.03605698499400195), (3355, 0.03685250740595444), (3356, 0.031246690243837152), (3357, 0.017283700444504117), (3358, 0.01842787568776922), (3359, 0.04200576127500208), (3360, 0.07233914039767915), (3361, 0.038307682188709766), (3362, 0.03300148884855776), (3363, 0.05338668363966018), (3364, 0.05500157808516323), (3365, 0.03378563512886202), (3366, 0.015448988291150028), (3367, 0.027873697661521597), (3368, 0.023949214090175665), (3369, 0.02718129629292285), (3370, 0.05522393632589131), (3371, 0.04563353252236983), (3372, 0.04493528426523921), (3373, 0.01973247426383366), (3374, 0.04231801014958838), (3375, 0.016305764292548132), (3376, 0.048731479165670666), (3377, 0.04321005728566075), (3378, 0.026507215490703485), (3379, 0.07704829902236666), (3380, 0.03673047944206312), (3381, 0.017532192245377082), (3382, 0.018229171089088107), (3383, 0.026225056591302927), (3384, 0.030444913630751864), (3385, 0.03943418671819432), (3386, 0.020825672323427698), (3387, 0.03364325676787542), (3388, 0.01831520849076543), (3389, 0.019976432822057355), (3390, 0.036676245739687495), (3391, 0.034207464140497704), (3392, 0.042587040867473835), (3393, 0.024593634045075752), (3394, 0.03305980468140396), (3395, 0.034726735235636894), (3396, 0.05520005121822918), (3397, 0.0316567122599987), (3398, 0.0432979531690658), (3399, 0.048165163950086555), (3400, 0.02307266295340089), (3401, 0.02936243274712689), (3402, 0.031141928377017392), (3403, 0.035729771071461164), (3404, 0.014458755448752), (3405, 0.03233400315442833), (3406, 0.046137986569690925), (3407, 0.03508915092776678), (3408, 0.04613019363344391), (3409, 0.02475020057738893), (3410, 0.016571459566019395), (3411, 0.05010786679854122), (3412, 0.04931177006643424), (3413, 0.0571424849300487), (3414, 0.053978954420129885), (3415, 0.024333442270428808), (3416, 0.03551619108527269), (3417, 0.03587855146350748), (3418, 0.06510814696493507), (3419, 0.025369582018491765), (3420, 0.055500708481061645), (3421, 0.04783178548169635), (3422, 0.010278051185979579), (3423, 0.04440796801652407), (3424, 0.03528249527475676), (3425, 0.04201795415655147), (3426, 0.0259875264028595), (3427, 0.03866422268273424), (3428, 0.029466978614448358), (3429, 0.025384773592465267), (3430, 0.039902567196648045), (3431, 0.03459056985520698), (3432, 0.05025410527744928), (3433, 0.03548625625462212), (3434, 0.0382259251746275), (3435, 0.013710153812970095), (3436, 0.05021296118241226), (3437, 0.034197804185498594), (3438, 0.04644456829108289), (3439, 0.030695941649450144), (3440, 0.01574478395955433), (3441, 0.030422543443617597), (3442, 0.04365538202059566), (3443, 0.03909720426095559), (3444, 0.014476331739325263), (3445, 0.02871248811898802), (3446, 0.0528480257582548), (3447, 0.03077371721018837), (3448, 0.03614088309143884), (3449, 0.05168548237123364), (3450, 0.0347116359040426), (3451, 0.011216220486722503), (3452, 0.02805054508123866), (3453, 0.04282771270036457), (3454, 0.013579312822958014), (3455, 0.042604915062753525), (3456, 0.06410689648031441), (3457, 0.034947896136151804), (3458, 0.025799876171070192), (3459, 0.026805862578234484), (3460, 0.05962329800655101), (3461, 0.02602468937590952), (3462, 0.056259939878511266), (3463, 0.04768241452098715), (3464, 0.03083435782093355), (3465, 0.04218647137074648), (3466, 0.025903496840151904), (3467, 0.04049294802296978), (3468, 0.0350896010378898), (3469, 0.017742619452432704), (3470, 0.05657961836868467), (3471, 0.012127174991641322), (3472, 0.015168203989614035), (3473, 0.012744136218066904), (3474, 0.05591516222969546), (3475, 0.033366101507438434), (3476, 0.048387411786636025), (3477, 0.061242508637664415), (3478, 0.047108707136116534), (3479, 0.08718217504807164), (3480, 0.03555111067245452), (3481, 0.032115569302674556), (3482, 0.015588802586599048), (3483, 0.03238773244724456), (3484, 0.03479250952894743), (3485, 0.01420639359613563), (3486, 0.04200786450398769), (3487, 0.026928719120423307), (3488, 0.02010535250961596), (3489, 0.03760204010618756), (3490, 0.02419840876883526), (3491, 0.04057837866226253), (3492, 0.028789229387085537), (3493, 0.03291459952044887), (3494, 0.00969383248268241), (3495, 0.0058934829881042835), (3496, 0.0198857932142412), (3497, 0.02660372541245533), (3498, 0.043521453662092716), (3499, 0.020739158443890897), (3500, 0.04944079216602692), (3501, 0.0323541050033385), (3502, 0.020738042982129057), (3503, 0.02107128905377617), (3504, 0.046499627094122135), (3505, 0.012749914097470238), (3506, 0.04657302673167713), (3507, 0.01766386527627496), (3508, 0.024516432667666378), (3509, 0.05506426215229135), (3510, 0.017850957945528118), (3511, 0.02933469021376603), (3512, 0.05087638235671101), (3513, 0.04014162367971737), (3514, 0.016608637151398233), (3515, 0.015590635342911866), (3516, 0.026469710736339296), (3517, 0.02291292781342177), (3518, 0.03723871252775539), (3519, 0.04167685302194928), (3520, 0.0266286156470179), (3521, 0.017773334271484365), (3522, 0.025108752763735406), (3523, 0.03358238773366516), (3524, 0.030073972917575114), (3525, 0.02449262358920826), (3526, 0.03573893311229444), (3527, 0.0484216637181129), (3528, 0.02918257190216858), (3529, 0.03230918898884659), (3530, 0.0227810693500134), (3531, 0.04200368327909675), (3532, 0.030896094095097637), (3533, 0.033262961425402165), (3534, 0.06277035747076161), (3535, 0.02300048740489654), (3536, 0.05304968013496699), (3537, 0.029077706966787322), (3538, 0.014722360129339397), (3539, 0.01803519133886968), (3540, 0.015867403248240215), (3541, 0.03135765705853203), (3542, 0.02007240302305795), (3543, 0.02607851657941131), (3544, 0.03416530138589041), (3545, 0.012085505161544205), (3546, 0.02034647684216761), (3547, 0.030688273806102513), (3548, 0.01773734738867329), (3549, 0.039967856570008384), (3550, 0.02327487354408583), (3551, 0.008885574186573212), (3552, 0.029406176464321462), (3553, 0.06663384441777657), (3554, 0.032508112810395624), (3555, 0.03395432051955145), (3556, 0.04894030420758581), (3557, 0.013332872439432108), (3558, 0.030598174773130447), (3559, 0.04733891221618806), (3560, 0.029409074328453407), (3561, 0.04772261395899326), (3562, 0.032903394065622066), (3563, 0.00712291133983251), (3564, 0.022445793475815174), (3565, 0.02738101669170717), (3566, 0.014679354560208732), (3567, 0.04192788314114282), (3568, 0.0243521559274658), (3569, 0.025904457986773634), (3570, 0.03268726593664994), (3571, 0.030346845313313178), (3572, 0.03322059827169733), (3573, 0.031709239861858717), (3574, 0.023612692088838066), (3575, 0.027690262741132614), (3576, 0.04512954818821467), (3577, 0.012355774032805113), (3578, 0.03962301872805003), (3579, 0.032384859849358336), (3580, 0.0321327043482289), (3581, 0.043097489445250825), (3582, 0.05117573166546411), (3583, 0.014262214279388622), (3584, 0.03729351875302914), (3585, 0.02072827777162158), (3586, 0.025245675316325877), (3587, 0.04196469472036298), (3588, 0.022362378959798965), (3589, 0.013968052681939718), (3590, 0.03283553811045706), (3591, 0.022484649492438502), (3592, 0.028737809711802738), (3593, 0.03143225468672096), (3594, 0.04197649441211897), (3595, 0.005612418426482085), (3596, 0.01610455312775098), (3597, 0.03779252810120831), (3598, 0.04251279565288304), (3599, 0.015072727839608321), (3600, 0.04109443862875083), (3601, 0.018246796864914008), (3602, 0.016168994908178483), (3603, 0.019180807596129133), (3604, 0.011500849759159116), (3605, 0.03358950826519941), (3606, 0.039243682526073284), (3607, 0.033995026408599346), (3608, 0.043361347794271136), (3609, 0.012482485045582524), (3610, 0.028851114901826243), (3611, 0.012115737547753191), (3612, 0.047312954495783995), (3613, 0.050076283839301024), (3614, 0.024016252256870384), (3615, 0.016204144738235574), (3616, 0.02307488097763985), (3617, 0.016778894571415313), (3618, 0.027495741137778404), (3619, 0.07542217465619627), (3620, 0.08386803381517915), (3621, 0.03752378954699903), (3622, 0.023343975178589195), (3623, 0.020436476938020524), (3624, 0.030263053185114956), (3625, 0.041007633508071455), (3626, 0.019974281195772), (3627, 0.037672025011068415), (3628, 0.033821464006692614), (3629, 0.04624138447666543), (3630, 0.016892755210080733), (3631, 0.03674200190481797), (3632, 0.018944912534005313), (3633, 0.025203837597641103), (3634, 0.010507406188244597), (3635, 0.04718909823312677), (3636, 0.03355764521961888), (3637, 0.030985733069988926), (3638, 0.024682402839086223), (3639, 0.039764933052781955), (3640, 0.012950370741001766), (3641, 0.014121401908211055), (3642, 0.05716324972287717), (3643, 0.02828921226734733), (3644, 0.019125775060584306), (3645, 0.026581400484390012), (3646, 0.02801648992102131), (3647, 0.024202840068381134), (3648, 0.06169214459959205), (3649, 0.09946725348653147), (3650, 0.029274567407961832), (3651, 0.05134809657400743), (3652, 0.03347348258716489), (3653, 0.04541587694725711), (3654, 0.07008454406885631), (3655, 0.03453363915492303), (3656, 0.010035399494082733), (3657, 0.022801850224143466), (3658, 0.03352734302860164), (3659, 0.015152760286965817), (3660, 0.023032877626996948), (3661, 0.02760599088087881), (3662, 0.015893564505477895), (3663, 0.027741151070515925), (3664, 0.017083096241763324), (3665, 0.018784406363222574), (3666, 0.03480215077118589), (3667, 0.0431807993317982), (3668, 0.02972573181695053), (3669, 0.007097316168175768), (3670, 0.016960727252095215), (3671, 0.03461094745988419), (3672, 0.022959186857882705), (3673, 0.02355262587317643), (3674, 0.025216485473969368), (3675, 0.03566834046969518), (3676, 0.0), (3677, 0.04770018640381677), (3678, 0.013390531410867098), (3679, 0.030015697781058205), (3680, 0.02107119181911027), (3681, 0.05276599608373687), (3682, 0.012512137110640522), (3683, 0.02308951686085442), (3684, 0.04498418994729116), (3685, 0.014331479743017779), (3686, 0.03441990251829421), (3687, 0.017227701093734553), (3688, 0.019565776140768078), (3689, 0.012638094183663042), (3690, 0.015736538829533353), (3691, 0.014229980142780905), (3692, 0.04516834605040708), (3693, 0.04711831277708032), (3694, 0.025771959473347553), (3695, 0.020416969960905078), (3696, 0.026604743836920797), (3697, 0.030251913537862295), (3698, 0.0624163321355094), (3699, 0.03834679727499643), (3700, 0.016704808895368604), (3701, 0.05990974789418491), (3702, 0.028190737793373024), (3703, 0.022618266698720704), (3704, 0.037224750138108366), (3705, 0.05680263735482759), (3706, 0.05395022627575492), (3707, 0.017004629145329096), (3708, 0.019550050944056943), (3709, 0.04219771724853247), (3710, 0.047199716327277264), (3711, 0.04306839360751268), (3712, 0.012198744936059332), (3713, 0.015346974598953863), (3714, 0.019807975834875462), (3715, 0.03554960539450636), (3716, 0.03523103660840884), (3717, 0.03596438314186917), (3718, 0.01860038596016472), (3719, 0.029904704802640913), (3720, 0.00937209958797697), (3721, 0.03513214680631127), (3722, 0.055782439159338504), (3723, 0.02370915387342272), (3724, 0.05165178871376726), (3725, 0.01688872524405065), (3726, 0.062182020076799), (3727, 0.025441582736295286), (3728, 0.04877259032569432), (3729, 0.019075454224879818), (3730, 0.019410961397590396), (3731, 0.03696128581453351), (3732, 0.02512730415701271), (3733, 0.019082147113599256), (3734, 0.02372515409623402), (3735, 0.026822002764248044), (3736, 0.04346743549201939), (3737, 0.06105111314193244), (3738, 0.013181448883943882), (3739, 0.036163201199463854), (3740, 0.026296873610447954), (3741, 0.05194074838873043), (3742, 0.015379448025767874), (3743, 0.01080141363489417), (3744, 0.02337658890268121), (3745, 0.04765147377401735), (3746, 0.030914249439809794), (3747, 0.03177776163333668), (3748, 0.02756240456836698), (3749, 0.02219249927304567), (3750, 0.033668746586502436), (3751, 0.030681136938755647), (3752, 0.040180749283293744), (3753, 0.013903015708848478), (3754, 0.02180684664246215), (3755, 0.012337764873231087), (3756, 0.02158062744058971), (3757, 0.029599334150088415), (3758, 0.029791063212486577), (3759, 0.03744119824628562), (3760, 0.06743603117340427), (3761, 0.019919628508050055), (3762, 0.005700196759729499), (3763, 0.031229160398155136), (3764, 0.018153843447997975), (3765, 0.028989712033254386), (3766, 0.03449510638442291), (3767, 0.046793394485613586), (3768, 0.0315353033646641), (3769, 0.043112996519102116), (3770, 0.055613506837085415), (3771, 0.03542017786264457), (3772, 0.06381891747697953), (3773, 0.029288485515110808), (3774, 0.021369677649254064), (3775, 0.019552222157646786), (3776, 0.026206751273954568), (3777, 0.05540618160330087), (3778, 0.03977553207879176), (3779, 0.05135513354901863), (3780, 0.037587776122633185), (3781, 0.02762203259638022), (3782, 0.02162986884104478), (3783, 0.015338724458325481), (3784, 0.01656718283372493), (3785, 0.02595126573516622), (3786, 0.02706795810210589), (3787, 0.06390103124388169), (3788, 0.034653600569262595), (3789, 0.019412678242980798), (3790, 0.022249638305602094), (3791, 0.01709281329051727), (3792, 0.04167190069320312), (3793, 0.05120915189905896), (3794, 0.05247955467915714), (3795, 0.03543102870682717), (3796, 0.018844096872290182), (3797, 0.046724828648742237), (3798, 0.012256666449113331), (3799, 0.014809546805672473), (3800, 0.03866922393635324), (3801, 0.024289142464751542), (3802, 0.04778952407563435), (3803, 0.03165415776100705), (3804, 0.04570516020756138), (3805, 0.016290387105371913), (3806, 0.039874234635246135), (3807, 0.026618020067872793), (3808, 0.007445420503900693), (3809, 0.06710457788649511), (3810, 0.02395077350579078), (3811, 0.01629197790127218), (3812, 0.05120560757516225), (3813, 0.023141981502712752), (3814, 0.02820492032370841), (3815, 0.013423014112123547), (3816, 0.010755951849994946), (3817, 0.021578217229241966), (3818, 0.008839200265274728), (3819, 0.019778184393117296), (3820, 0.017411002704298743), (3821, 0.009061987412950757), (3822, 0.04475585631032332), (3823, 0.059612724030955744), (3824, 0.035761210890133226), (3825, 0.01962989047532604), (3826, 0.06334054676506652), (3827, 0.05234494074876887), (3828, 0.06933618024573572), (3829, 0.03575124040729), (3830, 0.019513932437665582), (3831, 0.021039575277565767), (3832, 0.020659858906158138), (3833, 0.04575698311017881), (3834, 0.0339910819230084), (3835, 0.021036066216634935), (3836, 0.0016510695316408813), (3837, 0.01241076612451692), (3838, 0.03331895115118557), (3839, 0.03976606326683535), (3840, 0.020204828852286832), (3841, 0.03408720688886101), (3842, 0.011132423224867275), (3843, 0.04594487495422174), (3844, 0.018823676424340137), (3845, 0.016563927299437772), (3846, 0.04916709858055698), (3847, 0.02441957720183842), (3848, 0.009951158928221914), (3849, 0.040718319477179465), (3850, 0.026073357094898383), (3851, 0.050597376782978154), (3852, 0.029602410123873157), (3853, 0.025110778739752253), (3854, 0.022071312077436313), (3855, 0.008021822166222279), (3856, 0.0742096036879795), (3857, 0.025019824133616576), (3858, 0.02269089949377071), (3859, 0.014930468152277264), (3860, 0.028185281409467168), (3861, 0.0494989006665462), (3862, 0.047181174096877235), (3863, 0.003917740521389294), (3864, 0.013175659212197734), (3865, 0.029571653980627145), (3866, 0.016398761579077468), (3867, 0.010690053785475565), (3868, 0.01746087146239338), (3869, 0.014090193108809787), (3870, 0.053622758477032434), (3871, 0.02052553655727611), (3872, 0.025362751801229245), (3873, 0.04860100243512132), (3874, 0.044706062508277404), (3875, 0.039568051706831156), (3876, 0.03371073547284346), (3877, 0.029757853407760333), (3878, 0.05033710594710608), (3879, 0.01985823893972152), (3880, 0.048572685860974484), (3881, 0.011600539629809694), (3882, 0.057630153176517526), (3883, 0.040432543240483246), (3884, 0.0400209314186319), (3885, 0.033836689052367405), (3886, 0.03192381621224317), (3887, 0.01503763826388552), (3888, 0.04378627041363113), (3889, 0.005267923071391371), (3890, 0.04154844805627558), (3891, 0.03556039584264172), (3892, 0.014225733507727031), (3893, 0.033028620772888276), (3894, 0.030420194970549843), (3895, 0.016731874239152428), (3896, 0.017800425097639235), (3897, 0.030820811240080306), (3898, 0.010807347777252426), (3899, 0.027608632965719502), (3900, 0.020566091771972578), (3901, 0.06737982208588258), (3902, 0.015358235346437037), (3903, 0.02629490123200698), (3904, 0.0483400009041777), (3905, 0.013231851845687845), (3906, 0.06924359393098095), (3907, 0.03037890392382144), (3908, 0.021562862540836267), (3909, 0.015534637012825609), (3910, 0.014564245671121589), (3911, 0.022555517193033905), (3912, 0.050416150831127625), (3913, 0.041007471426233816), (3914, 0.0194808511081173), (3915, 0.02202715253546498), (3916, 0.005548640745869745), (3917, 0.020560779534711398), (3918, 0.01744864651946405), (3919, 0.02598689861313891), (3920, 0.05904463212821972), (3921, 0.016435763297177112), (3922, 0.02602380767321453), (3923, 0.017737075353428527), (3924, 0.03646969333625573), (3925, 0.07855047449370181), (3926, 0.05159330612504601), (3927, 0.03574395031265718), (3928, 0.06352375939024124), (3929, 0.02083517153079395), (3930, 0.023751642597557368), (3931, 0.0168777083892072), (3932, 0.03363941684751336), (3933, 0.02197756794059103), (3934, 0.019793757269824283), (3935, 0.020358872406962165), (3936, 0.005946718124834287), (3937, 0.04602082425916851), (3938, 0.024859604055807227), (3939, 0.0225297285051113), (3940, 0.04114840557941679), (3941, 0.030448499974241632), (3942, 0.0453704684390485), (3943, 0.010322984607353616), (3944, 0.025221762703190383), (3945, 0.03414662770709475), (3946, 0.06063479876284932), (3947, 0.05554482478992964), (3948, 0.013049216827852062), (3949, 0.03106513283965986), (3950, 0.012562644977209204), (3951, 0.014132364501796132), (3952, 0.036248338856442526), (3953, 0.02872758192495315), (3954, 0.007780640358591595), (3955, 0.059394355799038956), (3956, 0.019067768666306967), (3957, 0.019398727522007407), (3958, 0.02420205429081503), (3959, 0.05013114944287668), (3960, 0.027068070645237047), (3961, 0.022984767230367104), (3962, 0.043237586482916784), (3963, 0.029242810965202797), (3964, 0.042800712726157264), (3965, 0.02319571237550893), (3966, 0.06647839018880002), (3967, 0.00968731731746397), (3968, 0.0458567380962418), (3969, 0.025759227465241084), (3970, 0.04152432358624772), (3971, 0.0019575059857219776), (3972, 0.05402867560108464), (3973, 0.03941840621023389), (3974, 0.0335880292290454), (3975, 0.022276858946868875), (3976, 0.05088790201864617), (3977, 0.04217581289990131), (3978, 0.029689015115188414), (3979, 0.03734451489209288), (3980, 0.03748010690475815), (3981, 0.05281268160368639), (3982, 0.02241171667933005), (3983, 0.024215623707438683), (3984, 0.015909831064164028), (3985, 0.012738286979945184), (3986, 0.018590831654961358), (3987, 0.012639688349430434), (3988, 0.008223702965470262), (3989, 0.00872609163908777), (3990, 0.028931013238825375), (3991, 0.024324438670811497), (3992, 0.011994070239549431), (3993, 0.04558778467034962), (3994, 0.02246844093801087), (3995, 0.03826648893971669), (3996, 0.01155304983254966), (3997, 0.05572843605796903), (3998, 0.009499575090414453), (3999, 0.046423230914942853), (4000, 0.04484252974829905), (4001, 0.02847328565615511), (4002, 0.02749379959214563), (4003, 0.02837085583993664), (4004, 0.034830545738981804), (4005, 0.0209679734732389), (4006, 0.03404661577653604), (4007, 0.03763634297169751), (4008, 0.010510676029198621), (4009, 0.03604653337038071), (4010, 0.041972369854724856), (4011, 0.031964883982463235), (4012, 0.015543678051615415), (4013, 0.046943369285184416), (4014, 0.04419948536092321), (4015, 0.024117415419121515), (4016, 0.06559388933102614), (4017, 0.04925196975059876), (4018, 0.025124664807841045), (4019, 0.02373660937669745), (4020, 0.03108216139267437), (4021, 0.03153049729590971), (4022, 0.052475545586837556), (4023, 0.03424466874717083), (4024, 0.012437390734313785), (4025, 0.021208627651237228), (4026, 0.013316132588695455), (4027, 0.03985633798374883), (4028, 0.049061459802348974), (4029, 0.030346187104617364), (4030, 0.0561313971207669), (4031, 0.040655209035261236), (4032, 0.035537479328717675), (4033, 0.09099661346582662), (4034, 0.04083959193605068), (4035, 0.018190938897621446), (4036, 0.006177615557991095), (4037, 0.029409918248278478), (4038, 0.028278501565949597), (4039, 0.038199007983079854), (4040, 0.016078813468524394), (4041, 0.004599859272579379), (4042, 0.02667504790499274), (4043, 0.030184115914725133), (4044, 0.007359139595937179), (4045, 0.021572714960566005), (4046, 0.03098679926514839), (4047, 0.025225018481171323), (4048, 0.03872081311233976), (4049, 0.042046297849384344), (4050, 0.02357602238979715), (4051, 0.03286421578239502), (4052, 0.021566123500874584), (4053, 0.024885026926418245), (4054, 0.05089773066871942), (4055, 0.03899569805497252), (4056, 0.037971434340688205), (4057, 0.030878003456153713), (4058, 0.004313625172635066), (4059, 0.0947004047096621), (4060, 0.040913261053972805), (4061, 0.14209166780749816), (4062, 0.07809574912438673), (4063, 0.014684868056805002), (4064, 0.04550251635524532), (4065, 0.019160657454429585), (4066, 0.01710464819519838), (4067, 0.04781393475118793), (4068, 0.023344866672701314), (4069, 0.005056132417912328), (4070, 0.01905307044278403), (4071, 0.028961030976402624), (4072, 0.018030848571310296), (4073, 0.031807268326503046), (4074, 0.010124588968340262), (4075, 0.020401531172070855), (4076, 0.013589994381658605), (4077, 0.03677110903062699), (4078, 0.05487392363022891), (4079, 0.05075010173969986), (4080, 0.012730008970582683), (4081, 0.022059050257241232), (4082, 0.02970275923028058), (4083, 0.0064895109972846), (4084, 0.030558224729713902), (4085, 0.042123981236603235), (4086, 0.030889517306279434), (4087, 0.04270479866728788), (4088, 0.03137152717767051), (4089, 0.02449331318212276), (4090, 0.017567834076063747), (4091, 0.008203404262737624), (4092, 0.05197383532692133), (4093, 0.02178525977961266), (4094, 0.02988521474501595), (4095, 0.02599781450913285), (4096, 0.05036081572876048), (4097, 0.02332964727155916), (4098, 0.007563623251223946), (4099, 0.012395630834208984), (4100, 0.0345761022424253), (4101, 0.07457977940348218), (4102, 0.03323075218760865), (4103, 0.04182395230138242), (4104, 0.013756092302802995), (4105, 0.01085235052682001), (4106, 0.027020578856759316), (4107, 0.027783167239747143), (4108, 0.007433154600437692), (4109, 0.014258180906878342), (4110, 0.018738106154482653), (4111, 0.014908306105233037), (4112, 0.009372750559747118), (4113, 0.01717977560275176), (4114, 0.021901932447107458), (4115, 0.05047472034834773), (4116, 0.03686002498975471), (4117, 0.042386733593826074), (4118, 0.02036259638903096), (4119, 0.025208450374213362), (4120, 0.04019899210689763), (4121, 0.011152300945255482), (4122, 0.03536637919241606), (4123, 0.02613296863557943), (4124, 0.03184444216013559), (4125, 0.005194246995177008), (4126, 0.03951304723861442), (4127, 0.019008886625305418), (4128, 0.02276191891720506), (4129, 0.017826342488859767), (4130, 0.009479261537965333), (4131, 0.014172109051085818), (4132, 0.015220332801265151), (4133, 0.028538041796015514), (4134, 0.0738966315368621), (4135, 0.0626865936110743), (4136, 0.038235761552143595), (4137, 0.018378489820900998), (4138, 0.040891982681051466), (4139, 0.05079985055696567), (4140, 0.025849335736617487), (4141, 0.039743010844033075), (4142, 0.038295834814260826), (4143, 0.025925778655460946), (4144, 0.0369240652444109), (4145, 0.023452690830428287), (4146, 0.01836150002468159), (4147, 0.022102589945119135), (4148, 0.054621680517687454), (4149, 0.027631618394972874), (4150, 0.04923675157603304), (4151, 0.013780468724338187), (4152, 0.01911141641811823), (4153, 0.023254153014103086), (4154, 0.0126217732454421), (4155, 0.038193137469572716), (4156, 0.01296047945571216), (4157, 0.021907988651416747), (4158, 0.025852776404401936), (4159, 0.019223112893808323), (4160, 0.01868675327014233), (4161, 0.01642310908146978), (4162, 0.03999849171047108), (4163, 0.04884619888711886), (4164, 0.05784757869225318), (4165, 0.02499230055011399), (4166, 0.019944392171773025), (4167, 0.03417078612449391), (4168, 0.018907933265504995), (4169, 0.02857364861805766), (4170, 0.024703526075125767), (4171, 0.04961864819919925), (4172, 0.025775161418203518), (4173, 0.018554827229541385), (4174, 0.04742976908964037), (4175, 0.0344178609956269), (4176, 0.05283149845711936), (4177, 0.05405707400110479), (4178, 0.03009979545356399), (4179, 0.019615079903777165), (4180, 0.028938472718851367), (4181, 0.011835210327246506), (4182, 0.0215315786460788), (4183, 0.028640790085920593), (4184, 0.012744679090468346), (4185, 0.004469180357481125), (4186, 0.043711070181430736), (4187, 0.019004996570492864), (4188, 0.020470713979683718), (4189, 0.04020405536442813), (4190, 0.012965862281957001), (4191, 0.016982353333248993), (4192, 0.032329851444309464), (4193, 0.0366256381317737), (4194, 0.03806877077434089), (4195, 0.021178712646013183), (4196, 0.02049495984809138), (4197, 0.025947076574786506), (4198, 0.02866533049082083), (4199, 0.01247074364659032), (4200, 0.01958408700602323), (4201, 0.016717483852921978), (4202, 0.06837076139557595), (4203, 0.037217826688512354), (4204, 0.027611042456396895), (4205, 0.015726902776542984), (4206, 0.046326295409129234), (4207, 0.022154528086918354), (4208, 0.022606077486294538), (4209, 0.01635693668872197), (4210, 0.03526065832076474), (4211, 0.024189232089297255), (4212, 0.03134665444198852), (4213, 0.014236562261693782), (4214, 0.01940929559579612), (4215, 0.018728502857682034), (4216, 0.03041460239156324), (4217, 0.01690061808703526), (4218, 0.024457721070177182), (4219, 0.024750609109766883), (4220, 0.02554217079492959), (4221, 0.025345325106668707), (4222, 0.03279004380210616), (4223, 0.024594882208874957), (4224, 0.036777947013140584), (4225, 0.05152776653092015), (4226, 0.022447705721452223), (4227, 0.02335729450784468), (4228, 0.018271990926473435), (4229, 0.019813040806592366), (4230, 0.032020000804380354), (4231, 0.019257725161679992), (4232, 0.023681647923235356), (4233, 0.04362840529428218), (4234, 0.03490126427704567), (4235, 0.020745167254818633), (4236, 0.0361367192390078), (4237, 0.026643965174063977), (4238, 0.016376438558976), (4239, 0.011690472597320627), (4240, 0.05212303276590671), (4241, 0.032779313825149245), (4242, 0.04107739425916308), (4243, 0.013700855639042392), (4244, 0.041400782411270425), (4245, 0.056044632813517084), (4246, 0.021764269043923735), (4247, 0.011446704097994701), (4248, 0.032830299264361575), (4249, 0.03503661400221489), (4250, 0.014080598647065144), (4251, 0.012753651286997618), (4252, 0.06755044368714919), (4253, 0.004325377395898407), (4254, 0.007356804379928377), (4255, 0.011777000755361113), (4256, 0.012855277108939071), (4257, 0.020316792324931776), (4258, 0.021576380042578863), (4259, 0.03432263391304656), (4260, 0.032235919209700425), (4261, 0.02483648071759727), (4262, 0.029539665207570353), (4263, 0.02497311135555625), (4264, 0.030158021009517103), (4265, 0.02319727467228326), (4266, 0.04986357286247219), (4267, 0.015143951543985207), (4268, 0.04409437311667063), (4269, 0.0232198747909808), (4270, 0.03611513777030183), (4271, 0.012376447176060354), (4272, 0.05255756224993314), (4273, 0.0316473244582491), (4274, 0.04509357364126865), (4275, 0.034143915676979594), (4276, 0.01533431921662573), (4277, 0.044242203391977215), (4278, 0.02009126835410094), (4279, 0.012156562433777229), (4280, 0.015948219725358898), (4281, 0.031695221829860634), (4282, 0.02932645281670531), (4283, 0.04218416136606163), (4284, 0.01951633318300512), (4285, 0.035941202605004524), (4286, 0.04212086581154629), (4287, 0.020946764953556574), (4288, 0.041474296091363175), (4289, 0.017003859449908405), (4290, 0.03197663266984355), (4291, 0.0047848845733815225), (4292, 0.03778306971950457), (4293, 0.017304492227868153), (4294, 0.02661040951702009), (4295, 0.06736594572724253), (4296, 0.03762058355360784), (4297, 0.019826763145679), (4298, 0.038854702204203326), (4299, 0.04399262252380767), (4300, 0.005312773076171413), (4301, 0.005950901492703125), (4302, 0.024875120003363626), (4303, 0.03428314619334185), (4304, 0.017597216088771087), (4305, 0.023594361487173747), (4306, 0.031112826641218422), (4307, 0.09099474914852035), (4308, 0.02913699012726708), (4309, 0.04720247451559844), (4310, 0.04757035980208268), (4311, 0.034602979669142185), (4312, 0.04060277638783898), (4313, 0.03930940531884173), (4314, 0.03340144694702765), (4315, 0.013618542834255475), (4316, 0.019284433466041216), (4317, 0.02761576110005331), (4318, 0.033684069580717735), (4319, 0.02539319563249362), (4320, 0.021604061733012166), (4321, 0.020476383547956632), (4322, 0.013875687215123979), (4323, 0.013014479727847821), (4324, 0.013428216639871843), (4325, 0.05045612673171102), (4326, 0.03954306778635551), (4327, 0.035267384695046054), (4328, 0.017106757953864224), (4329, 0.03333228754499049), (4330, 0.020187496759418676), (4331, 0.04467547203521025), (4332, 0.05128562807002943), (4333, 0.008348626014675446), (4334, 0.02656526905102561), (4335, 0.024345285280957352), (4336, 0.01001912791500802), (4337, 0.01546275245198806), (4338, 0.027406436572494225), (4339, 0.0412351162913743), (4340, 0.04348732645200674), (4341, 0.022815759562069268), (4342, 0.030745935763822504), (4343, 0.028100315987898354), (4344, 0.013727055484306683), (4345, 0.026668709651037834), (4346, 0.028689440799217005), (4347, 0.04349258695325098), (4348, 0.01961866321941559), (4349, 0.011905679091157775), (4350, 0.04715012478605621), (4351, 0.04138696525846769), (4352, 0.020791862545456695), (4353, 0.02080547458227978), (4354, 0.011386722734914537), (4355, 0.026437011975546054), (4356, 0.03283778113573328), (4357, 0.023473768894415183), (4358, 0.012293132974768693), (4359, 0.002226799222697931), (4360, 0.023095790919485656), (4361, 0.01342246216635771), (4362, 0.06874378200166709), (4363, 0.042228540420173655), (4364, 0.0531978495596653), (4365, 0.034813754451497037), (4366, 0.042254186685760586), (4367, 0.013299869514049972), (4368, 0.013767977192696363), (4369, 0.008028889708979295), (4370, 0.018745226711869047), (4371, 0.03881173840517521), (4372, 0.020543010418155982), (4373, 0.029686355114170813), (4374, 0.05530247658140098), (4375, 0.08289192458087474), (4376, 0.020452366528452687), (4377, 0.02875848033708093), (4378, 0.03504935886070581), (4379, 0.047374606944332986), (4380, 0.04761691465966555), (4381, 0.03601335743985827), (4382, 0.019746859989811537), (4383, 0.04249499719519841), (4384, 0.021282147694206173), (4385, 0.019447104621069966), (4386, 0.027698820762525403), (4387, 0.044626249775144504), (4388, 0.035029109587351705), (4389, 0.03531287661376598), (4390, 0.046668334022943105), (4391, 0.017957733669187168), (4392, 0.02108629310830507), (4393, 0.04651898307661778), (4394, 0.024561344175239322), (4395, 0.06478752653145237), (4396, 0.032578456658813794), (4397, 0.0475576831723947), (4398, 0.03242615881493099), (4399, 0.046579067212748806), (4400, 0.012668885389099209), (4401, 0.011820208412098857), (4402, 0.02184628923003483), (4403, 0.03697048382708795), (4404, 0.01343515340511681), (4405, 0.02022891065757779), (4406, 0.009376328311740883), (4407, 0.018684709489694085), (4408, 0.014735305252695693), (4409, 0.07786294296230452), (4410, 0.03649099091332145), (4411, 0.05836579945148893), (4412, 0.04341277046001003), (4413, 0.0314519056068427), (4414, 0.029215786249157376), (4415, 0.024766886366635148), (4416, 0.06593540061290848), (4417, 0.013072456561580965), (4418, 0.02015047113439429), (4419, 0.02034890279724835), (4420, 0.020853300116348325), (4421, 0.01809491014127856), (4422, 0.033417963736489566), (4423, 0.06574305538089478), (4424, 0.04520948183037021), (4425, 0.05556159377722499), (4426, 0.03369648961233908), (4427, 0.010942112817590076), (4428, 0.015659857330647824), (4429, 0.04720722418529906), (4430, 0.022690782938797446), (4431, 0.05667861663964266), (4432, 0.017599225674702276), (4433, 0.043310794636622255), (4434, 0.003946433221077081), (4435, 0.04500469358862038), (4436, 0.02953393972596598), (4437, 0.05123664997612603), (4438, 0.02674076306693846), (4439, 0.03379507092326023), (4440, 0.053011006044986424), (4441, 0.044192971038412486), (4442, 0.021907984178745035), (4443, 0.01107354197819125), (4444, 0.05199479946785621), (4445, 0.01895456660781937), (4446, 0.005234338194482801), (4447, 0.01922638019168721), (4448, 0.02080860559262417), (4449, 0.04967766168507881), (4450, 0.021983298876438965), (4451, 0.03850733882637842), (4452, 0.0162011179331007), (4453, 0.010924350154960754), (4454, 0.02648312382682322), (4455, 0.03791537792996078), (4456, 0.03413462670067691), (4457, 0.027280037763709207), (4458, 0.03563249690453087), (4459, 0.014300229043166877), (4460, 0.027754548128250713), (4461, 0.03473993456150717), (4462, 0.02159253403478794), (4463, 0.03183074638080844), (4464, 0.02657124395220632), (4465, 0.03565034581077107), (4466, 0.0324488255081274), (4467, 0.024328403029907575), (4468, 0.014722202531654231), (4469, 0.03474370158766472), (4470, 0.06030587563075336), (4471, 0.07775088264754607), (4472, 0.03486249951411955), (4473, 0.020599223694301956), (4474, 0.028805939822679167), (4475, 0.05108169390777489), (4476, 0.005393896961084545), (4477, 0.029001138156768195), (4478, 0.01682931449012575), (4479, 0.03730994991381666), (4480, 0.02654716640879374), (4481, 0.015695758866620012), (4482, 0.0566475436237297), (4483, 0.018844358994509307), (4484, 0.004690744310936006), (4485, 0.02106625857711596), (4486, 0.023419931933972543), (4487, 0.04187627880051905), (4488, 0.04827207725213567), (4489, 0.027474048707743025), (4490, 0.029132087641350942), (4491, 0.0224526044777284), (4492, 0.015581461116854965), (4493, 0.025989765373570253), (4494, 0.05921359231973227), (4495, 0.034440126566670615), (4496, 0.022978954665447707), (4497, 0.01853361048956637), (4498, 0.05325942168195312), (4499, 0.046248675911088645), (4500, 0.07611370122320298), (4501, 0.020904247968414856), (4502, 0.04212889050751216), (4503, 0.046983077806814606), (4504, 0.03182925474704185), (4505, 0.01516688748847026), (4506, 0.014910418802663476), (4507, 0.013914413110808523), (4508, 0.015072184983090145), (4509, 0.03547931133366536), (4510, 0.030690896898203274), (4511, 0.040686580682588576), (4512, 0.04457454220782848), (4513, 0.036986934895808864), (4514, 0.028932879657849322), (4515, 0.07179066710358872), (4516, 0.027262991598038893), (4517, 0.04973660325421702), (4518, 0.051297417351318944), (4519, 0.03831466027616704), (4520, 0.01479285709659851), (4521, 0.028301449099150465), (4522, 0.05234460571954848), (4523, 0.017593674809138454), (4524, 0.023594742639660913), (4525, 0.025155608292699527), (4526, 0.010740221725646926), (4527, 0.04642777564942848), (4528, 0.01799338007857868), (4529, 0.023877929129167502), (4530, 0.010082763912640697), (4531, 0.021094214856735714), (4532, 0.030111767304930065), (4533, 0.017468028207265812), (4534, 0.02638269487170629), (4535, 0.025343166081290877), (4536, 0.04729700293347021), (4537, 0.023385108536815635), (4538, 0.034856060372340625), (4539, 0.005043662785829997), (4540, 0.023267023707565233), (4541, 0.034173935936900775), (4542, 0.00541756724535283), (4543, 0.04569469562294173), (4544, 0.024859744360657993), (4545, 0.03983816751515156), (4546, 0.08993636499255224), (4547, 0.011160653139755916), (4548, 0.0744488935725057), (4549, 0.023237778168871785), (4550, 0.018497888139097782), (4551, 0.024933643302073927), (4552, 0.015900781658014864), (4553, 0.020252880130816144), (4554, 0.04289976078683359), (4555, 0.03581793042631318), (4556, 0.028648096985873905), (4557, 0.015243612381213679), (4558, 0.03390701279579174), (4559, 0.027248303082532455), (4560, 0.02577582959066494), (4561, 0.0), (4562, 0.022941576698686704), (4563, 0.015800704334074916), (4564, 0.02653908575731562), (4565, 0.03536985629403161), (4566, 0.04867619224340782), (4567, 0.015252308218445598), (4568, 0.01890676279707797), (4569, 0.023454749342306187), (4570, 0.02769754713108187), (4571, 0.010717454774987822), (4572, 0.019681076568597484), (4573, 0.03162781782713371), (4574, 0.02573222846404032), (4575, 0.04688689024348554), (4576, 0.023758527117804067), (4577, 0.01896163844999915), (4578, 0.015406897020888419), (4579, 0.011766034219828575), (4580, 0.05759492248956905), (4581, 0.011387971762997525), (4582, 0.04637086786256947), (4583, 0.043023542612908784), (4584, 0.02696247277234485), (4585, 0.042601662768179796), (4586, 0.04456460325784367), (4587, 0.045630625364951084), (4588, 0.018143710625534964), (4589, 0.030795706190073952), (4590, 0.021508325117132156), (4591, 0.0200123641550405), (4592, 0.028301039227698888), (4593, 0.019533375444004117), (4594, 0.03382626851203124), (4595, 0.042922075770250694), (4596, 0.023036035381251242), (4597, 0.030361044727142704), (4598, 0.0250937961416757), (4599, 0.00909049405064528), (4600, 0.011478089702345392), (4601, 0.023696320110017433), (4602, 0.026924431042105068), (4603, 0.040479264441194755), (4604, 0.06513270039121162), (4605, 0.018746310932717312), (4606, 0.031501285820754385), (4607, 0.0310405522031403), (4608, 0.029205158885173166), (4609, 0.030282297732023383), (4610, 0.025115052828063682), (4611, 0.02948233157379263), (4612, 0.030826748467914403), (4613, 0.053664184831316186), (4614, 0.04567159821790541), (4615, 0.02787427353263268), (4616, 0.046992737244515075), (4617, 0.028282222416713236), (4618, 0.037889995871913114), (4619, 0.029678117343454793), (4620, 0.016552546555746395), (4621, 0.03696317709281926), (4622, 0.03137999347303303), (4623, 0.01632097849674115), (4624, 0.021638581584820737), (4625, 0.03144270449729551), (4626, 0.022229592280202364), (4627, 0.011803163434298049), (4628, 0.02967535469707203), (4629, 0.027580923719186), (4630, 0.029363548849610132), (4631, 0.018003208605504088), (4632, 0.04175488657672463), (4633, 0.011832460923742301), (4634, 0.012344569103551056), (4635, 0.01969493434691087), (4636, 0.028468582110265754), (4637, 0.03995997456181373), (4638, 0.024221738724441062), (4639, 0.025679836730893982), (4640, 0.037253639210859744), (4641, 0.030995975096824117), (4642, 0.026877335765029903), (4643, 0.018459478230878457), (4644, 0.015958734233569385), (4645, 0.02128442829311185), (4646, 0.06373301408760614), (4647, 0.03213366984929043), (4648, 0.025952676430341454), (4649, 0.025945019909674044), (4650, 0.02620395160490177), (4651, 0.04261865584894984), (4652, 0.030351288228315308), (4653, 0.01687618343228029), (4654, 0.062487736215248245), (4655, 0.017909438578818587), (4656, 0.029888564997411035), (4657, 0.018889902026872844), (4658, 0.02205031224472521), (4659, 0.04124723623457135), (4660, 0.02041415879234886), (4661, 0.014257728281035316), (4662, 0.01460587259033871), (4663, 0.04990514934793655), (4664, 0.04227842388820291), (4665, 0.024956989988990645), (4666, 0.025366788774865028), (4667, 0.0244513235941482), (4668, 0.053819975586996346), (4669, 0.03445641447716947), (4670, 0.02939970511528601), (4671, 0.0031505451260557013), (4672, 0.020996225784975765), (4673, 0.02827415629603564), (4674, 0.02594670343549581), (4675, 0.03041564325205929), (4676, 0.050535589915445385), (4677, 0.0504158365497039), (4678, 0.0297326914715482), (4679, 0.030885472664448313), (4680, 0.008141286368137608), (4681, 0.02369014034049087), (4682, 0.03489349556413276), (4683, 0.01321190773484802), (4684, 0.027104709827794622), (4685, 0.0200878782326867), (4686, 0.004509537176436721), (4687, 0.010349202006662424), (4688, 0.008259048491717309), (4689, 0.03431177452907722), (4690, 0.0008671538578823651), (4691, 0.017889786643984506), (4692, 0.022981642675008587), (4693, 0.07214131374139565), (4694, 0.01296367019199937), (4695, 0.06482657499398), (4696, 0.040307347159018334), (4697, 0.015560740852374966), (4698, 0.06150233490545832), (4699, 0.05597992025282193), (4700, 0.005231808111511716), (4701, 0.07838504403449707), (4702, 0.0), (4703, 0.012672982147878369), (4704, 0.02694075865124058), (4705, 0.024828455383084022), (4706, 0.03203019234060772), (4707, 0.03072408498776529), (4708, 0.01667320272816082), (4709, 0.03870353076675623), (4710, 0.010500318936886056), (4711, 0.011178599874420086), (4712, 0.045653616840838525), (4713, 0.03222746401328518), (4714, 0.029266047835366103), (4715, 0.026888235488947105), (4716, 0.018629101948925784), (4717, 0.05916208862471735), (4718, 0.06134060537811478), (4719, 0.04980919949335026), (4720, 0.011392180685823022), (4721, 0.027708305758756532), (4722, 0.020413017865690684), (4723, 0.03253617213758596), (4724, 0.019592536541872967), (4725, 0.04314010667240774), (4726, 0.010276445166276536), (4727, 0.0303632949348865), (4728, 0.007439091466939045), (4729, 0.004556772560502702), (4730, 0.018581565331807787), (4731, 0.053314715825031084), (4732, 0.03272514277757416), (4733, 0.01255769532661817), (4734, 0.061973382728792915), (4735, 0.05278783935488681), (4736, 0.039374443145483114), (4737, 0.028623845368080048), (4738, 0.02233990394408015), (4739, 0.011371019889702752), (4740, 0.030869685557253435), (4741, 0.04243958525758351), (4742, 0.023028275362916233), (4743, 0.046399043309512326), (4744, 0.02703805756851164), (4745, 0.023844347600453744), (4746, 0.01964436761494568), (4747, 0.03713142915933127), (4748, 0.049976186215487314), (4749, 0.020839667225369382), (4750, 0.02508116533348917), (4751, 0.021052638925996695), (4752, 0.0455095290435902), (4753, 0.02157876115225558), (4754, 0.03489354032990683), (4755, 0.03814918139034283), (4756, 0.029884322369530685), (4757, 0.04123757177779164), (4758, 0.037479937090751494), (4759, 0.0)]\n"
          ]
        }
      ]
    },
    {
      "cell_type": "code",
      "source": [
        "len(Recommendation_score)"
      ],
      "metadata": {
        "colab": {
          "base_uri": "https://localhost:8080/"
        },
        "id": "KI8KI9NaFHVF",
        "outputId": "14afbfef-b4df-42dc-8bbf-2783456a0798"
      },
      "execution_count": 29,
      "outputs": [
        {
          "output_type": "execute_result",
          "data": {
            "text/plain": [
              "4760"
            ]
          },
          "metadata": {},
          "execution_count": 29
        }
      ]
    },
    {
      "cell_type": "markdown",
      "source": [
        "#**Get All Movies Sort Based On Recommendation Score With Respect TO Favourite Movie**"
      ],
      "metadata": {
        "id": "p9ez8nzpFPRZ"
      }
    },
    {
      "cell_type": "code",
      "source": [
        "# sorting the movies based on their similarity score\n",
        "Sorted_similar_Movies = sorted(Recommendation_score,key = lambda x:x[1], reverse = True)\n",
        "print(Sorted_similar_Movies)"
      ],
      "metadata": {
        "colab": {
          "base_uri": "https://localhost:8080/"
        },
        "id": "AW7ifMxwFeSE",
        "outputId": "b9f5c6ce-e744-4972-facf-01039ed5e963"
      },
      "execution_count": 30,
      "outputs": [
        {
          "output_type": "stream",
          "name": "stdout",
          "text": [
            "[(2692, 1.0), (3055, 0.17493047947569895), (2552, 0.17081553932574892), (2502, 0.16875474657360645), (2411, 0.1485368626018458), (248, 0.14747418777464744), (902, 0.1467012651623442), (4061, 0.14209166780749816), (522, 0.13333605089900388), (828, 0.13325316781435198), (735, 0.1289506598015144), (2194, 0.12714990847432167), (1731, 0.12635431192938473), (255, 0.11388134327681136), (2728, 0.10638201637210712), (1593, 0.10577802837699095), (3094, 0.10517839992110864), (1472, 0.10498385025952099), (2618, 0.1049254867370794), (3, 0.09959031167047008), (3649, 0.09946725348653147), (2469, 0.09859527846423849), (1887, 0.09691633608561821), (741, 0.09539735578340454), (4059, 0.0947004047096621), (2695, 0.09463187153443584), (3157, 0.09367716854024873), (628, 0.09307192524981339), (1224, 0.09238740089676052), (2154, 0.09111096287276214), (4033, 0.09099661346582662), (4307, 0.09099474914852035), (2949, 0.09091602724816096), (938, 0.09068870791673576), (4546, 0.08993636499255224), (542, 0.08807062495785377), (3479, 0.08718217504807164), (3303, 0.08642667778135643), (2155, 0.08604988559399991), (2161, 0.08502577601876891), (1284, 0.08431419735744072), (1119, 0.08430895577969384), (2876, 0.08411063501107233), (3620, 0.08386803381517915), (1703, 0.08321513973934258), (1351, 0.08303640724197578), (4375, 0.08289192458087474), (2196, 0.08228853402846609), (1127, 0.08193006554819673), (1779, 0.0815534843520454), (2801, 0.0808647002848802), (1379, 0.08062372154657181), (3343, 0.08040183776477214), (2444, 0.07914403224479202), (3246, 0.07909120356349854), (2314, 0.07861304245463978), (3925, 0.07855047449370181), (3005, 0.07848809799752617), (1104, 0.07846153983047158), (2985, 0.07840320015912983), (4701, 0.07838504403449707), (4062, 0.07809574912438673), (1183, 0.07789512277066685), (1290, 0.07787547684809684), (2400, 0.077873375169568), (4409, 0.07786294296230452), (4471, 0.07775088264754607), (3318, 0.07765538788685152), (2377, 0.0771575768458368), (3379, 0.07704829902236666), (824, 0.07693018238582039), (2454, 0.07667548208779688), (2701, 0.07648715523805039), (1070, 0.07648528185810458), (2554, 0.07639826551340786), (4500, 0.07611370122320298), (3619, 0.07542217465619627), (506, 0.07500203817214884), (3249, 0.0745978021418947), (4101, 0.07457977940348218), (4548, 0.0744488935725057), (3856, 0.0742096036879795), (2633, 0.07398792553307572), (1646, 0.07397217121455618), (4134, 0.0738966315368621), (1019, 0.07282442060479194), (2830, 0.07272300042923559), (3360, 0.07233914039767915), (479, 0.07229004412242104), (3020, 0.07218645653941762), (4693, 0.07214131374139565), (4515, 0.07179066710358872), (2481, 0.07170210059208915), (27, 0.07169752182583454), (1878, 0.07145055278308955), (744, 0.07134774130717533), (1900, 0.07108538894150242), (2375, 0.07092330568391952), (3270, 0.07077895819758508), (1677, 0.07071503798639626), (3208, 0.07052755127978218), (1737, 0.07036606134376283), (1822, 0.07035983648360468), (3218, 0.0703470349078137), (3654, 0.07008454406885631), (2347, 0.06999226293533384), (779, 0.06992412225899515), (3186, 0.0697719615146048), (2541, 0.06975838497455891), (644, 0.06968767420495792), (180, 0.0696659122185029), (551, 0.06963936204906819), (1086, 0.06951167633126502), (642, 0.06947451727543433), (617, 0.06938333497258486), (3828, 0.06933618024573572), (3906, 0.06924359393098095), (85, 0.06911952514811918), (4362, 0.06874378200166709), (3254, 0.06871054623494176), (953, 0.06852118200351058), (4202, 0.06837076139557595), (1909, 0.06811852918279841), (3000, 0.06761658966600914), (4252, 0.06755044368714919), (2545, 0.06752934667628627), (3760, 0.06743603117340427), (3901, 0.06737982208588258), (4295, 0.06736594572724253), (762, 0.06731345385859117), (3809, 0.06710457788649511), (2591, 0.06692295433973473), (2226, 0.06687649962092729), (2664, 0.06687107303471874), (3553, 0.06663384441777657), (1233, 0.06655006871606453), (3966, 0.06647839018880002), (2016, 0.06638151107764961), (2497, 0.06626912319890789), (2653, 0.06604736316493487), (2536, 0.06595201400853756), (4416, 0.06593540061290848), (4423, 0.06574305538089478), (4016, 0.06559388933102614), (3139, 0.06550238440811554), (893, 0.06539038889167156), (2527, 0.06532404021467478), (4604, 0.06513270039121162), (3418, 0.06510814696493507), (1465, 0.06501409172473839), (4695, 0.06482657499398), (4395, 0.06478752653145237), (2014, 0.06470280893785912), (7, 0.06462039469171951), (429, 0.06442172530035341), (3456, 0.06410689648031441), (3787, 0.06390103124388169), (3772, 0.06381891747697953), (3123, 0.06377736202879969), (3178, 0.06375838105811768), (4646, 0.06373301408760614), (3228, 0.06371713906014143), (3928, 0.06352375939024124), (1521, 0.06340151839696027), (115, 0.06339292420282641), (2942, 0.06334324200285443), (3826, 0.06334054676506652), (2407, 0.06313644388303763), (1414, 0.0628553131373523), (167, 0.06279937124195108), (3534, 0.06277035747076161), (4135, 0.0626865936110743), (1501, 0.06266973871608043), (155, 0.06260478844559347), (2638, 0.06254875604495416), (811, 0.06253628607691644), (4654, 0.062487736215248245), (3698, 0.0624163321355094), (2607, 0.062325939206815124), (2598, 0.06230785137703917), (3726, 0.062182020076799), (1906, 0.06217102159643296), (2755, 0.06216109222629383), (3297, 0.0621595955582599), (3019, 0.06209817571498732), (1949, 0.06198993547080898), (1829, 0.06197402155907718), (4734, 0.061973382728792915), (1078, 0.06180085540932149), (3648, 0.06169214459959205), (966, 0.06163991296013883), (3032, 0.06162546517964604), (606, 0.061557526382968984), (4698, 0.06150233490545832), (4718, 0.06134060537811478), (3477, 0.061242508637664415), (1719, 0.061192996772547546), (3737, 0.06105111314193244), (2665, 0.061007309066849855), (3214, 0.06100004337181036), (766, 0.06099057481735104), (2624, 0.0609786356635385), (455, 0.06082533383771886), (3351, 0.060764963734604396), (3946, 0.06063479876284932), (254, 0.06061683380717797), (2391, 0.06057310090641622), (1003, 0.06032537213108101), (4470, 0.06030587563075336), (2883, 0.06022534289533564), (3102, 0.06005204811162857), (612, 0.060017002936219366), (925, 0.05997462365830949), (2100, 0.059928615610946784), (3701, 0.05990974789418491), (852, 0.05988297164398937), (1519, 0.05987404092832416), (2242, 0.05982570165233503), (51, 0.059745410195663), (508, 0.05965869833802581), (2268, 0.05964600631456536), (3460, 0.05962329800655101), (3823, 0.059612724030955744), (3955, 0.059394355799038956), (1383, 0.05938820956072132), (4494, 0.05921359231973227), (2561, 0.0591894982649838), (1192, 0.05918338920184267), (4717, 0.05916208862471735), (292, 0.059111217020779525), (3920, 0.05904463212821972), (2717, 0.05892863358487657), (1980, 0.05883729774270751), (2477, 0.05881716752235242), (584, 0.058791864541237714), (138, 0.058781206597407994), (1365, 0.058773397697760625), (1131, 0.05866173011948855), (2974, 0.05865007965063866), (3210, 0.05855164914598794), (877, 0.0584212290144227), (1084, 0.058420434764237375), (2111, 0.058397937950965026), (4411, 0.05836579945148893), (2629, 0.05834960171505537), (526, 0.058335132452564886), (1095, 0.05826259498811914), (765, 0.05826127183714777), (1715, 0.058218203173747284), (1408, 0.05813121706942141), (4164, 0.05784757869225318), (805, 0.057840235166426474), (2899, 0.05782659819863924), (1625, 0.0577428801359861), (3088, 0.05772581381763912), (3882, 0.057630153176517526), (4580, 0.05759492248956905), (1671, 0.057447084069676926), (1142, 0.0574409902678497), (267, 0.057404753973411674), (3294, 0.057334982225022965), (1304, 0.05726613608661851), (2599, 0.057265548523117354), (1541, 0.057170218890145064), (3642, 0.05716324972287717), (3413, 0.0571424849300487), (2089, 0.05713085276037311), (895, 0.057053613487062296), (1449, 0.05701820392332081), (1682, 0.05684978213816546), (3705, 0.05680263735482759), (2933, 0.0568006447516735), (738, 0.05674641314727571), (2778, 0.05672690935100645), (4431, 0.05667861663964266), (2080, 0.056647863859671854), (4482, 0.0566475436237297), (2090, 0.05663579577078811), (1362, 0.05661723909957858), (2553, 0.05660185103676555), (1259, 0.05658725728647911), (3470, 0.05657961836868467), (1481, 0.056568771683853214), (1363, 0.056561932732939066), (2277, 0.0565075654288077), (1436, 0.056500926181211907), (504, 0.05644708283919895), (277, 0.05633904139660464), (3462, 0.056259939878511266), (2250, 0.05615862918827157), (4030, 0.0561313971207669), (1318, 0.05612734852356256), (4245, 0.056044632813517084), (861, 0.05599113835129195), (4699, 0.05597992025282193), (1983, 0.055978721610966516), (769, 0.05594807254794535), (3474, 0.05591516222969546), (1088, 0.05585886353030051), (764, 0.05582794254528129), (1168, 0.05582546099024495), (3722, 0.055782439159338504), (3997, 0.05572843605796903), (88, 0.055699391836455676), (1006, 0.055665038018584655), (2258, 0.055633072015317586), (2431, 0.05561526802996783), (3770, 0.055613506837085415), (4425, 0.05556159377722499), (3947, 0.05554482478992964), (853, 0.05550543715199104), (3420, 0.055500708481061645), (2994, 0.05543707642954887), (3777, 0.05540618160330087), (271, 0.05537480895678831), (245, 0.05533068194335462), (4374, 0.05530247658140098), (3370, 0.05522393632589131), (3396, 0.05520005121822918), (2513, 0.05517740840307027), (1112, 0.0551562142847132), (1482, 0.05509363315428107), (3509, 0.05506426215229135), (3235, 0.05504599344544128), (3364, 0.05500157808516323), (661, 0.05499045240934601), (4078, 0.05487392363022891), (2558, 0.054860968773399396), (2903, 0.0547739329746858), (2032, 0.05475468061392719), (2424, 0.054738003659172474), (2463, 0.0546576487647001), (2962, 0.05463925219804758), (4148, 0.054621680517687454), (2144, 0.05455240056942427), (3325, 0.05448169780055367), (195, 0.054399708084824513), (676, 0.05434429052850864), (2609, 0.054332015195556665), (2292, 0.05431909839824692), (2588, 0.054318044579104836), (319, 0.05426744702232755), (4177, 0.05405707400110479), (3972, 0.05402867560108464), (590, 0.054023091658926346), (3414, 0.053978954420129885), (3706, 0.05395022627575492), (683, 0.05391506348532417), (1273, 0.053903364332338034), (2408, 0.05382757295169106), (4668, 0.053819975586996346), (337, 0.053791776703766066), (1052, 0.05375674222246473), (1879, 0.05375051149078191), (360, 0.05371979517887615), (18, 0.05369344360584156), (2461, 0.0536772358282846), (4613, 0.053664184831316186), (2172, 0.053654764435206816), (1896, 0.05364712716125636), (3870, 0.053622758477032434), (806, 0.05348995108319878), (1827, 0.05347859472935955), (2725, 0.05338813215018873), (3363, 0.05338668363966018), (2570, 0.05337259290244679), (2443, 0.053354109717729435), (4731, 0.053314715825031084), (2122, 0.05331389766970972), (55, 0.05327890703622803), (4498, 0.05325942168195312), (1698, 0.05321365852848526), (4364, 0.0531978495596653), (1028, 0.0531611465035139), (1071, 0.05314979214705166), (2051, 0.0530660042469862), (3536, 0.05304968013496699), (2984, 0.053033212702070294), (967, 0.05301794699250284), (4440, 0.053011006044986424), (3240, 0.053009916876596896), (2474, 0.05297460481338506), (2824, 0.05293893039938792), (2656, 0.05288575212539528), (3446, 0.0528480257582548), (4176, 0.05283149845711936), (3981, 0.05281268160368639), (4735, 0.05278783935488681), (3681, 0.05276599608373687), (2902, 0.05275970674906659), (4272, 0.05255756224993314), (2148, 0.052532467454524195), (3313, 0.05250068543657508), (3794, 0.05247955467915714), (4022, 0.052475545586837556), (1741, 0.05245533959168716), (2766, 0.05242128638176025), (1844, 0.052401630149113226), (629, 0.052374615979570646), (2798, 0.05236008771513692), (3827, 0.05234494074876887), (4522, 0.05234460571954848), (859, 0.0522343147173088), (477, 0.052187714567057474), (2275, 0.052152273863325146), (1727, 0.05215184597493512), (4240, 0.05212303276590671), (3336, 0.052091133731921035), (1707, 0.052015357721950393), (3015, 0.05199488984533051), (4444, 0.05199479946785621), (2997, 0.0519892360215332), (754, 0.05198298053571648), (4092, 0.05197383532692133), (279, 0.051970923186594624), (1243, 0.05194369205696097), (3741, 0.05194074838873043), (1821, 0.05191108583176917), (1897, 0.05188845195090233), (2149, 0.05188394868648806), (2696, 0.05183266940468677), (1648, 0.05173822247757358), (3158, 0.05170168693454159), (3449, 0.05168548237123364), (2140, 0.05167836042298311), (424, 0.051660788420888996), (3724, 0.05165178871376726), (1217, 0.05161850437148137), (170, 0.0516004449925473), (3926, 0.05159330612504601), (2291, 0.0515499084038506), (4225, 0.05152776653092015), (3057, 0.051499953219504103), (1636, 0.05148963426853115), (785, 0.05146195453505088), (1998, 0.05138517199349058), (3779, 0.05135513354901863), (3651, 0.05134809657400743), (238, 0.05133179823639579), (3231, 0.051312291035443484), (4518, 0.051297417351318944), (3165, 0.05129582966686626), (4332, 0.05128562807002943), (2403, 0.05125994403568872), (4437, 0.05123664997612603), (3105, 0.05120936436764857), (3793, 0.05120915189905896), (3812, 0.05120560757516225), (415, 0.05117938051051456), (3582, 0.05117573166546411), (2399, 0.05112533460322567), (2401, 0.0511016558761693), (4475, 0.05108169390777489), (2362, 0.05104643836933613), (905, 0.05093763023450539), (45, 0.05091177219644392), (4054, 0.05089773066871942), (3976, 0.05088790201864617), (224, 0.05088001168672619), (3512, 0.05087638235671101), (1930, 0.050836342026797286), (855, 0.05083344469105163), (658, 0.05080558574241753), (4139, 0.05079985055696567), (3212, 0.05078852511123309), (622, 0.05078424396575521), (334, 0.05076932456906526), (4079, 0.05075010173969986), (997, 0.050730134362435425), (1128, 0.05064217399076558), (2115, 0.05063183277671829), (2790, 0.05061209526462157), (3851, 0.050597376782978154), (1202, 0.05058925345622356), (86, 0.05058202799563198), (1688, 0.050536778280057336), (4676, 0.050535589915445385), (46, 0.05049551737419319), (4115, 0.05047472034834773), (4325, 0.05045612673171102), (3347, 0.050435239209460726), (2252, 0.05043515903647129), (3912, 0.050416150831127625), (4677, 0.0504158365497039), (326, 0.05037469692873766), (4096, 0.05036081572876048), (3878, 0.05033710594710608), (2619, 0.05032215122716148), (3432, 0.05025410527744928), (3436, 0.05021296118241226), (1209, 0.05020649611790152), (1097, 0.05018863205819481), (3959, 0.05013114944287668), (3101, 0.05012463412617712), (2927, 0.05012131331501322), (888, 0.050113133562645), (3411, 0.05010786679854122), (3346, 0.050078177469378704), (3613, 0.050076283839301024), (1929, 0.050066468354255926), (3117, 0.050039027066570776), (1357, 0.05001367103977877), (4748, 0.049976186215487314), (1245, 0.049931457619179075), (4663, 0.04990514934793655), (1845, 0.049905076972916886), (3298, 0.04989688971752439), (2078, 0.04987401004029306), (4266, 0.04986357286247219), (2663, 0.049834527907887935), (4719, 0.04980919949335026), (381, 0.04980715800088378), (2487, 0.04979274430050514), (1204, 0.04978978270033896), (1214, 0.0497808661608658), (4517, 0.04973660325421702), (3043, 0.049716634602412886), (2480, 0.04969281730247681), (4449, 0.04967766168507881), (2698, 0.04964449401983419), (4171, 0.04961864819919925), (3274, 0.04958513012912968), (3300, 0.04958314837746316), (2813, 0.049571376580920555), (3861, 0.0494989006665462), (2744, 0.04948398677413664), (2310, 0.04947554116450706), (603, 0.04946709360537891), (3500, 0.04944079216602692), (1706, 0.04942968009511347), (1861, 0.049396863226847526), (808, 0.049369843848717065), (340, 0.04935998493660629), (3412, 0.04931177006643424), (321, 0.04930814525059663), (3148, 0.049283075976294555), (4017, 0.04925196975059876), (2114, 0.04925006949893158), (4150, 0.04923675157603304), (2683, 0.0492142059566539), (836, 0.049199644831087394), (3846, 0.04916709858055698), (488, 0.04913414957550756), (3122, 0.049071371339885594), (4028, 0.049061459802348974), (2340, 0.049058963348691795), (1026, 0.049030766211149386), (378, 0.04898665639099857), (2529, 0.04898637911870438), (3152, 0.04896327666724271), (3556, 0.04894030420758581), (403, 0.048939240396780194), (464, 0.0489120644144577), (1043, 0.04890215258844178), (1968, 0.04888370180964895), (1559, 0.048882087470645985), (1967, 0.048880087001133055), (212, 0.048872317772378104), (2697, 0.048854684709301585), (4163, 0.04884619888711886), (2908, 0.048805587532384044), (3728, 0.04877259032569432), (552, 0.04876216210063545), (3376, 0.048731479165670666), (2118, 0.04872500157024071), (4566, 0.04867619224340782), (3222, 0.048643700474571415), (2306, 0.048625738171009104), (3873, 0.04860100243512132), (3880, 0.048572685860974484), (2498, 0.04855661485890044), (1860, 0.04849809089469843), (398, 0.04845253116103164), (3527, 0.0484216637181129), (1963, 0.04842040502592869), (3476, 0.048387411786636025), (3904, 0.0483400009041777), (4488, 0.04827207725213567), (62, 0.04825048101617299), (2582, 0.048194218967883146), (698, 0.04818313048140211), (3399, 0.048165163950086555), (2475, 0.04810639982637428), (3276, 0.048067203725183166), (364, 0.048048621112835456), (3244, 0.04797974265245658), (3349, 0.04797348514702603), (2392, 0.047971690879375806), (1493, 0.04796995403765939), (161, 0.04795241030307823), (548, 0.04793707022728446), (196, 0.047924445361074645), (2746, 0.04790107701910902), (2914, 0.04784826060794799), (3421, 0.04783178548169635), (3189, 0.04782949845324574), (4067, 0.04781393475118793), (1624, 0.047807096991060526), (2440, 0.04780068809576483), (3802, 0.04778952407563435), (1213, 0.04773929161692338), (3561, 0.04772261395899326), (2716, 0.04770869832400823), (3677, 0.04770018640381677), (1547, 0.047694230921497105), (3463, 0.04768241452098715), (2865, 0.04765171095847628), (3745, 0.04765147377401735), (4380, 0.04761691465966555), (1538, 0.04759722080754904), (2877, 0.04758096017210263), (846, 0.04757367115071709), (4310, 0.04757035980208268), (4397, 0.0475576831723947), (3067, 0.04749086259466273), (921, 0.04744427424209728), (4174, 0.04742976908964037), (867, 0.04742898833454865), (1565, 0.0474222719727595), (4379, 0.047374606944332986), (3559, 0.04733891221618806), (2130, 0.04733553182643879), (3612, 0.047312954495783995), (1475, 0.04730538107751553), (2525, 0.047301091915580185), (4536, 0.04729700293347021), (4429, 0.04720722418529906), (4309, 0.04720247451559844), (3710, 0.047199716327277264), (3635, 0.04718909823312677), (1635, 0.047188768087503), (3862, 0.047181174096877235), (4350, 0.04715012478605621), (3071, 0.04714010032891249), (126, 0.047125590990056594), (3693, 0.04711831277708032), (3478, 0.047108707136116534), (122, 0.047091692307312576), (3281, 0.04706717526636268), (1817, 0.04706262922360933), (1573, 0.0469963655998503), (4616, 0.046992737244515075), (4503, 0.046983077806814606), (4013, 0.046943369285184416), (2843, 0.04692946231438138), (1991, 0.04691120914598274), (4575, 0.04688689024348554), (486, 0.04684992894770573), (2006, 0.0468303704935996), (3767, 0.046793394485613586), (1962, 0.04677361053126543), (3797, 0.046724828648742237), (359, 0.04667447114518832), (4390, 0.046668334022943105), (1309, 0.04664328979124045), (2705, 0.04662600264287483), (157, 0.04659443024526553), (4399, 0.046579067212748806), (3506, 0.04657302673167713), (3081, 0.046565745426106586), (2215, 0.04655177291919849), (3216, 0.046543197028273364), (1858, 0.046523668595072336), (983, 0.04652038248281177), (4393, 0.04651898307661778), (1393, 0.04651575426503725), (1701, 0.04650888102636368), (3504, 0.046499627094122135), (1982, 0.046469662973960775), (446, 0.046456834973633475), (3438, 0.04644456829108289), (1837, 0.0464300494171249), (4527, 0.04642777564942848), (3999, 0.046423230914942853), (4743, 0.046399043309512326), (694, 0.04637398889643168), (4582, 0.04637086786256947), (1004, 0.046367552824144995), (518, 0.04634894784168303), (2673, 0.046328207712991135), (4206, 0.046326295409129234), (3114, 0.04630350033822674), (1082, 0.046281260224597054), (2957, 0.04627370266128362), (4499, 0.046248675911088645), (3629, 0.04624138447666543), (1961, 0.04620470500380321), (317, 0.04619976392322595), (2063, 0.04615766199685175), (1595, 0.04614693840348187), (3406, 0.046137986569690925), (3408, 0.04613019363344391), (1462, 0.0461030008041189), (3116, 0.04607739180348079), (3177, 0.046052586287231086), (2770, 0.046044047311676675), (320, 0.046025890659788585), (3937, 0.04602082425916851), (1190, 0.045988262843665195), (2693, 0.04598062996776808), (3843, 0.04594487495422174), (2233, 0.0459138849044748), (2187, 0.0458877605749531), (3968, 0.0458567380962418), (1438, 0.04584126600247603), (1777, 0.04578852049053014), (3261, 0.04577157258523795), (136, 0.045768903173806656), (3242, 0.045760043544350516), (3833, 0.04575698311017881), (1787, 0.045755133132798005), (3098, 0.04571065957484783), (3804, 0.04570516020756138), (4543, 0.04569469562294173), (4614, 0.04567159821790541), (4712, 0.045653616840838525), (1488, 0.045650559893656094), (3371, 0.04563353252236983), (586, 0.045633134908096215), (4587, 0.045630625364951084), (114, 0.04560503424719291), (814, 0.0456031660699897), (3993, 0.04558778467034962), (379, 0.04558748603564528), (3156, 0.0455246205291401), (4752, 0.0455095290435902), (4064, 0.04550251635524532), (3653, 0.04541587694725711), (3942, 0.0453704684390485), (1148, 0.0453658108149517), (3344, 0.04535800534252723), (1011, 0.04530417673767772), (3027, 0.04530011199184708), (281, 0.045292493197340744), (3086, 0.04528417056839077), (384, 0.045278538038361925), (1908, 0.04527050099917741), (156, 0.04526296996593019), (1116, 0.04526103933140049), (2772, 0.04523205278034588), (624, 0.04522728060279884), (4424, 0.04520948183037021), (3692, 0.04516834605040708), (3118, 0.045153521216879954), (604, 0.045148344156389804), (1023, 0.045134373224404015), (3576, 0.04512954818821467), (1412, 0.04512028572623985), (41, 0.04510569009833912), (4274, 0.04509357364126865), (1996, 0.04503789877484881), (4435, 0.04500469358862038), (3684, 0.04498418994729116), (1426, 0.0449434210944), (3372, 0.04493528426523921), (2409, 0.04492730233852128), (1933, 0.044920395247567545), (2920, 0.04490770999848036), (675, 0.044892169424620085), (2138, 0.04487401301268604), (4000, 0.04484252974829905), (2794, 0.04482258954890108), (1902, 0.04478833066158193), (553, 0.04476768055828514), (870, 0.044762849790392356), (1726, 0.044760738244599335), (3822, 0.04475585631032332), (3268, 0.044715076715723265), (3874, 0.044706062508277404), (1661, 0.04469517972286237), (2667, 0.044689461465642885), (4331, 0.04467547203521025), (2928, 0.04466410478978521), (4387, 0.044626249775144504), (4512, 0.04457454220782848), (4586, 0.04456460325784367), (1187, 0.04454474994504199), (269, 0.044496790265879896), (3065, 0.04448031180180574), (2740, 0.04446347047687521), (2492, 0.04443660239671362), (1543, 0.044429155550322084), (1666, 0.044419406310823806), (3423, 0.04440796801652407), (3188, 0.04439891936048163), (1081, 0.04437808744826849), (3306, 0.044352679986902274), (40, 0.044341538815324995), (3187, 0.044321295615788646), (106, 0.044319986111555326), (1111, 0.0443072299119099), (2191, 0.044259153510588796), (1218, 0.04424241799502464), (4277, 0.044242203391977215), (8, 0.04423742720538776), (4014, 0.04419948536092321), (2739, 0.044194351527237274), (4441, 0.044192971038412486), (2925, 0.04418785352684039), (226, 0.044166230558028964), (2388, 0.044151554693268986), (3334, 0.04414725565201725), (4268, 0.04409437311667063), (1540, 0.044071192820594705), (2295, 0.04404948156072761), (264, 0.04401370506466863), (4299, 0.04399262252380767), (2889, 0.04398268905413744), (1197, 0.043962528212025426), (2930, 0.043947484185576396), (1985, 0.043938410901503445), (3341, 0.04393482802164485), (1694, 0.04392212748458422), (1506, 0.04391007153668068), (648, 0.04388168023936336), (2780, 0.043870515638329326), (3888, 0.04378627041363113), (3010, 0.04375546835327184), (2135, 0.043750311034730455), (1948, 0.04373715860540694), (4186, 0.043711070181430736), (3442, 0.04365538202059566), (1992, 0.04365451669575255), (4233, 0.04362840529428218), (2751, 0.043619063524744574), (261, 0.043604944488159214), (104, 0.04356327403365718), (2966, 0.043559370368652824), (10, 0.04353670194111648), (302, 0.04352873191002325), (3498, 0.043521453662092716), (4347, 0.04349258695325098), (4340, 0.04348732645200674), (1629, 0.043486446475330114), (1291, 0.043482133333742026), (1744, 0.043474693731319486), (3736, 0.04346743549201939), (963, 0.04344843592428698), (912, 0.043435374652550464), (840, 0.04342152378605347), (4412, 0.04341277046001003), (3608, 0.043361347794271136), (918, 0.043360724162466106), (2272, 0.04335938728656242), (651, 0.04335436116488502), (821, 0.04335260820056238), (3285, 0.04335032122264387), (1997, 0.04332129684974459), (825, 0.04331903718256966), (4433, 0.043310794636622255), (3398, 0.0432979531690658), (944, 0.04326401852272254), (3164, 0.043248627057945827), (3962, 0.043237586482916784), (249, 0.04321907282572045), (2752, 0.0432119799601631), (3377, 0.04321005728566075), (3667, 0.0431807993317982), (2910, 0.04316883228415007), (545, 0.0431522206078337), (2520, 0.043146981146209365), (2501, 0.043144013141771714), (4725, 0.04314010667240774), (3769, 0.043112996519102116), (3581, 0.043097489445250825), (2116, 0.04307969788957927), (363, 0.04307342401881482), (3711, 0.04306839360751268), (90, 0.043065794770579265), (1394, 0.043050012816874914), (75, 0.04302992246377013), (188, 0.043027050132980534), (4583, 0.043023542612908784), (143, 0.0430134567014437), (2365, 0.043003408677812785), (3037, 0.04300160821671253), (15, 0.04298024843834733), (1621, 0.04297879557859749), (1374, 0.042975489878394946), (1341, 0.042954147667270785), (1774, 0.04294530241941292), (3142, 0.04292870069697697), (2008, 0.042923932408299614), (4595, 0.042922075770250694), (4554, 0.04289976078683359), (3170, 0.04289794953596545), (2878, 0.04288557342854123), (947, 0.04286318634924168), (527, 0.04284557546084604), (2580, 0.04283546109577317), (3453, 0.04282771270036457), (892, 0.04281369909241875), (3964, 0.042800712726157264), (566, 0.042746200660634864), (1058, 0.04274255352631996), (546, 0.04271089868137862), (4087, 0.04270479866728788), (2371, 0.042685400563256065), (3282, 0.04267053496390061), (1221, 0.0426552258545604), (2978, 0.042654433898964124), (4651, 0.04261865584894984), (3455, 0.042604915062753525), (260, 0.04260194396505384), (4585, 0.042601662768179796), (2662, 0.04259276675861873), (3392, 0.042587040867473835), (830, 0.04257238706106668), (1020, 0.042546869992583475), (3598, 0.04251279565288304), (1623, 0.04251125797168982), (4383, 0.04249499719519841), (4741, 0.04243958525758351), (1964, 0.04239774822540539), (4117, 0.042386733593826074), (204, 0.04236943753690299), (1901, 0.04235392902693147), (1451, 0.04233290656269994), (3374, 0.04231801014958838), (2939, 0.04231031434038685), (4664, 0.04227842388820291), (3078, 0.042276671081185484), (4366, 0.042254186685760586), (1431, 0.04223825076414907), (4363, 0.042228540420173655), (2901, 0.04221629597584298), (2209, 0.042206812194794455), (3709, 0.04219771724853247), (2123, 0.04219478506644847), (3083, 0.04219178248963466), (3465, 0.04218647137074648), (4283, 0.04218416136606163), (3977, 0.04217581289990131), (210, 0.04216714219805262), (251, 0.04213656994851835), (827, 0.04212996712027647), (4502, 0.04212889050751216), (2655, 0.042125025143329414), (4085, 0.042123981236603235), (4286, 0.04212086581154629), (804, 0.042113333436409287), (1832, 0.04209437740879496), (399, 0.04208383313688436), (1321, 0.04205256023402881), (4049, 0.042046297849384344), (2281, 0.0420384956704388), (3425, 0.04201795415655147), (175, 0.04201670481314266), (287, 0.04201004950589986), (3486, 0.04200786450398769), (3359, 0.04200576127500208), (3531, 0.04200368327909675), (1584, 0.04200231528447369), (1372, 0.04199881092245497), (1631, 0.041991734566919105), (2681, 0.041990062140879796), (3594, 0.04197649441211897), (4010, 0.041972369854724856), (945, 0.04196956773996993), (3587, 0.04196469472036298), (730, 0.04196426346767461), (3567, 0.04192788314114282), (1344, 0.04191536869279235), (2410, 0.0418848232638189), (4487, 0.04187627880051905), (4103, 0.04182395230138242), (2366, 0.041816551670021476), (2413, 0.041815593185686395), (2117, 0.04179929734358136), (3176, 0.04179713816277747), (3280, 0.04178401746454435), (116, 0.04175596966287578), (4632, 0.04175488657672463), (817, 0.041714089600813714), (3519, 0.04167685302194928), (3792, 0.04167190069320312), (103, 0.041665582856910355), (577, 0.04166370412929917), (412, 0.04165727950374119), (1331, 0.04165201044423874), (137, 0.041643495371246654), (1806, 0.041633224832655844), (3220, 0.04163239680978105), (2320, 0.041632123733912584), (1551, 0.04162446641223895), (2106, 0.041603189864283886), (2896, 0.04159708982779825), (3890, 0.04154844805627558), (3217, 0.04153449384517779), (3970, 0.04152432358624772), (1763, 0.04149295508469822), (4288, 0.041474296091363175), (2353, 0.0414627216429869), (3140, 0.041421905758010545), (4244, 0.041400782411270425), (4351, 0.04138696525846769), (2012, 0.04138334800581343), (2700, 0.041382502378661715), (1236, 0.04137054731276588), (609, 0.04133339955021081), (3167, 0.04132628245576228), (3269, 0.041309952308143445), (1667, 0.04130323634945834), (1953, 0.04130066466498802), (3163, 0.04128441603049744), (4659, 0.04124723623457135), (4757, 0.04123757177779164), (4339, 0.0412351162913743), (2073, 0.04123246499397587), (3229, 0.04122874258217842), (2882, 0.041194703779142736), (2219, 0.04119239002065142), (763, 0.041153467439568235), (3940, 0.04114840557941679), (1335, 0.04112845142548516), (1884, 0.04110299639477446), (3600, 0.04109443862875083), (4242, 0.04107739425916308), (976, 0.041035642378335034), (2650, 0.04102476819365763), (3120, 0.04100765267057397), (3625, 0.041007633508071455), (3913, 0.041007471426233816), (716, 0.041003821012804934), (952, 0.04100075820410116), (3182, 0.04098118745046745), (1880, 0.04097932038716063), (2044, 0.04094610741869247), (4060, 0.040913261053972805), (3099, 0.04089753725872667), (4138, 0.040891982681051466), (3169, 0.04087411369780515), (1515, 0.040856084102559906), (4034, 0.04083959193605068), (2726, 0.04083463545956455), (999, 0.040815559794742086), (2963, 0.04080959027062979), (1508, 0.04080248982143606), (2919, 0.04079984312712319), (842, 0.04079972365112022), (1247, 0.04079327007683457), (2534, 0.04078127824809371), (388, 0.04077680330746217), (978, 0.04077375272785731), (396, 0.04074014417905805), (3849, 0.040718319477179465), (928, 0.04069703916356703), (1260, 0.04068755030652334), (4511, 0.040686580682588576), (884, 0.040656984279203626), (4031, 0.040655209035261236), (2851, 0.04065390742889826), (697, 0.04064766320228179), (1080, 0.04062125854192723), (3162, 0.04061146156004582), (4312, 0.04060277638783898), (3491, 0.04057837866226253), (1539, 0.040566134893877004), (2737, 0.0405377834649938), (3467, 0.04049294802296978), (4603, 0.040479264441194755), (2491, 0.0404374027667615), (3883, 0.040432543240483246), (303, 0.040407552442496456), (3315, 0.04039100626944999), (1831, 0.040355416224074986), (1317, 0.04035367879417463), (3103, 0.04034932022518511), (1778, 0.040347372361036096), (2308, 0.0403335333171358), (2367, 0.04032846438280088), (689, 0.040317557462390526), (4696, 0.040307347159018334), (1093, 0.04029976003336364), (1255, 0.04028118585833635), (5, 0.04026053883224313), (2053, 0.040231382546315385), (1816, 0.04021441454984265), (4189, 0.04020405536442813), (4120, 0.04019899210689763), (3752, 0.040180749283293744), (2248, 0.040144483051943285), (3513, 0.04014162367971737), (473, 0.04013582944605219), (2959, 0.04013570949728624), (3038, 0.04010004204100053), (3053, 0.040060995034114595), (701, 0.04005019715281498), (3884, 0.0400209314186319), (915, 0.040007176874085455), (898, 0.040001459957332085), (4162, 0.03999849171047108), (257, 0.03998011048956136), (3549, 0.039967856570008384), (2182, 0.03996159113215453), (1722, 0.0399602704151708), (4637, 0.03995997456181373), (1132, 0.03994369429502431), (1035, 0.039922132208491376), (2689, 0.03991960724028503), (2185, 0.03991777771210647), (3430, 0.039902567196648045), (1502, 0.039876958882694456), (3806, 0.039874234635246135), (2918, 0.0398731308155473), (1228, 0.039863275272336796), (4027, 0.03985633798374883), (511, 0.03983847179427184), (4545, 0.03983816751515156), (263, 0.03983749974889775), (108, 0.039783620539204166), (2530, 0.03978264792751489), (3778, 0.03977553207879176), (1355, 0.039769280963464396), (3839, 0.03976606326683535), (3639, 0.039764933052781955), (4141, 0.039743010844033075), (3045, 0.039735054343339474), (2738, 0.03972282686151978), (2312, 0.039681603413279455), (2201, 0.039676694683469224), (406, 0.0396590600397978), (2512, 0.03963651082561526), (3578, 0.03962301872805003), (2024, 0.03961312499539523), (453, 0.039593981615398136), (3875, 0.039568051706831156), (2298, 0.03955182277864899), (4326, 0.03954306778635551), (1773, 0.039515457313421286), (4126, 0.03951304723861442), (3385, 0.03943418671819432), (395, 0.03942366865700988), (3973, 0.03941840621023389), (2086, 0.039408105329181084), (4736, 0.039374443145483114), (186, 0.03936590159302722), (3196, 0.039346947563515706), (1279, 0.03933148133029614), (2635, 0.039324234742172066), (519, 0.039321904797180444), (4313, 0.03930940531884173), (191, 0.039270332194189725), (3606, 0.039243682526073284), (2976, 0.03923611581260709), (448, 0.03922998443667891), (2808, 0.03920952632679175), (2494, 0.03919333022224938), (2313, 0.03918493728341096), (2223, 0.03916791537284696), (2245, 0.0391484333596411), (1175, 0.03914273873337194), (84, 0.039130369737084975), (3443, 0.03909720426095559), (2874, 0.03908408576478445), (1193, 0.0390746480288588), (799, 0.03905676653615211), (1951, 0.03904907888803823), (2844, 0.03904346647270261), (2538, 0.0390422570672698), (1292, 0.03901231924924045), (4055, 0.03899569805497252), (559, 0.03897850776187676), (1474, 0.038944318847923015), (758, 0.038941644330858984), (130, 0.03888345401028629), (4298, 0.038854702204203326), (193, 0.03884444837314393), (2214, 0.038831129453930184), (1079, 0.038822289731088686), (578, 0.038815611130577), (4371, 0.03881173840517521), (2631, 0.038802167658340526), (1681, 0.038800137616609914), (2230, 0.03879920381833663), (94, 0.03878648613570567), (2679, 0.03878547395349146), (1946, 0.03877456941799015), (286, 0.03872587752807645), (4048, 0.03872081311233976), (3155, 0.038718862755550525), (362, 0.03870626574154344), (4709, 0.03870353076675623), (1542, 0.03868654592181272), (2499, 0.03868206974183423), (3800, 0.03866922393635324), (2569, 0.03866870757347175), (3427, 0.03866422268273424), (755, 0.038585785368083624), (2793, 0.03854819813972915), (2239, 0.03854058986728359), (1000, 0.03853662018188508), (63, 0.03853109252886852), (1387, 0.038509482593054284), (4451, 0.03850733882637842), (373, 0.0384751151179609), (2331, 0.03846229492921144), (21, 0.038440885799139776), (1032, 0.03843898139408282), (3213, 0.03841343599215197), (1117, 0.038409770105704885), (1207, 0.03839676428646996), (2045, 0.0383963064396875), (3293, 0.03839484818113269), (800, 0.038385995054479816), (2279, 0.03837556832586067), (1606, 0.03837005648104036), (2729, 0.03835132058915294), (3699, 0.03834679727499643), (1809, 0.03833623581186708), (1385, 0.038323194442530385), (4519, 0.03831466027616704), (3361, 0.038307682188709766), (2352, 0.03830739893479907), (171, 0.03829983154040391), (1370, 0.03829741317617577), (4142, 0.038295834814260826), (2660, 0.03828913737822022), (3995, 0.03826648893971669), (2547, 0.03825445777474325), (2061, 0.03825441672691597), (4136, 0.038235761552143595), (236, 0.03823114486509342), (0, 0.03822828635355583), (3434, 0.0382259251746275), (1529, 0.03821513934932732), (1842, 0.03820681688020394), (3129, 0.03820385777433866), (4039, 0.038199007983079854), (3211, 0.03819550417831452), (4155, 0.038193137469572716), (2828, 0.03818637941436641), (2522, 0.03817893817090054), (2189, 0.038152073414036806), (4755, 0.03814918139034283), (1188, 0.03813608511140969), (481, 0.038110548137038854), (97, 0.038099931864011), (2603, 0.03808072665880274), (4194, 0.03806877077434089), (1087, 0.03805670358943197), (223, 0.03804530030961114), (991, 0.038037759240523605), (2727, 0.03802488693022325), (1536, 0.03802411562163932), (2088, 0.0380152324960692), (178, 0.03800512049332996), (1068, 0.03799093003061709), (375, 0.03799087766437329), (1310, 0.037973730581963225), (638, 0.037972191220108455), (4056, 0.037971434340688205), (2240, 0.03795083776380639), (597, 0.037935502632995555), (1121, 0.03793039276578807), (4455, 0.03791537792996078), (3243, 0.03790865550788181), (4618, 0.037889995871913114), (833, 0.037885948356816544), (2181, 0.03787504337157049), (693, 0.03784693164057928), (3255, 0.03783765517983524), (124, 0.03782753075001388), (3597, 0.03779252810120831), (4292, 0.03778306971950457), (3234, 0.03777958639751443), (1841, 0.03774862732081585), (1919, 0.03774479186053696), (1808, 0.03772461328327207), (1439, 0.03769617519013488), (2610, 0.037681149120036166), (1237, 0.03767842102695895), (3627, 0.037672025011068415), (4007, 0.03763634297169751), (4296, 0.03762058355360784), (440, 0.03761822920319122), (99, 0.0376162981310397), (615, 0.037613896799989874), (2426, 0.03760895418362392), (3489, 0.03760204010618756), (2859, 0.037594554678949024), (3780, 0.037587776122633185), (2669, 0.037583221728035354), (1392, 0.03754845695369208), (1276, 0.03753789070586844), (3621, 0.03752378954699903), (439, 0.03750239373549903), (3980, 0.03748010690475815), (4758, 0.037479937090751494), (2484, 0.03744773148023386), (2894, 0.03744400487099239), (3759, 0.03744119824628562), (500, 0.03742606880668669), (241, 0.03742129851071983), (869, 0.03740946493532214), (1178, 0.03739595558521142), (2094, 0.037394812046751325), (635, 0.03739440994474687), (1525, 0.03739364782625294), (2236, 0.03737974765283292), (1302, 0.03737407952160308), (56, 0.037368074622966374), (1433, 0.03736764484177192), (2892, 0.037354248493538134), (3979, 0.03734451489209288), (4479, 0.03730994991381666), (792, 0.03730861761167149), (68, 0.03729678056650053), (3584, 0.03729351875302914), (109, 0.03728876320400433), (3304, 0.03728743132571991), (2926, 0.037260608872257656), (200, 0.037257582354463734), (4640, 0.037253639210859744), (2192, 0.037248055699551176), (3518, 0.03723871252775539), (2786, 0.037229886032075776), (1836, 0.037228227765800016), (87, 0.03722814719022363), (3704, 0.037224750138108366), (2891, 0.03722431018379846), (4203, 0.037217826688512354), (177, 0.0372122364706754), (692, 0.03720216285637037), (1065, 0.03716880144013983), (20, 0.03715604100461256), (4747, 0.03713142915933127), (2694, 0.03712731651715716), (1017, 0.03711928926720368), (3321, 0.0370969277069762), (1972, 0.03709543277019978), (1644, 0.03709370650449747), (2782, 0.037090028352031), (1854, 0.03708377662873755), (2707, 0.037068513205561614), (73, 0.03705924224658208), (3069, 0.03705917635299644), (256, 0.03702609442191278), (3221, 0.037013171750402266), (4513, 0.036986934895808864), (4403, 0.03697048382708795), (4621, 0.03696317709281926), (1622, 0.03696179471487029), (3731, 0.03696128581453351), (1840, 0.036959290366527835), (3138, 0.03694618060347448), (4144, 0.0369240652444109), (1586, 0.03691283905856252), (955, 0.036901229051448915), (1208, 0.03689773989252844), (2799, 0.036887023309229314), (1588, 0.03688563003471816), (1443, 0.036875905072135715), (4116, 0.03686002498975471), (3355, 0.03685250740595444), (3097, 0.03684426623290363), (365, 0.03681892630890597), (1738, 0.03680197434551424), (4224, 0.036777947013140584), (2432, 0.03677782357320912), (4077, 0.03677110903062699), (2557, 0.0367708216695961), (2224, 0.03675931791131197), (3631, 0.03674200190481797), (3380, 0.03673047944206312), (427, 0.03669962768324396), (3390, 0.036676245739687495), (95, 0.03667454590042342), (465, 0.036673362462736885), (2568, 0.03665419038204967), (1030, 0.03665404089653419), (3104, 0.036652045288718606), (1990, 0.03664070983630291), (268, 0.03663749088136996), (2550, 0.03663093680549231), (4193, 0.0366256381317737), (2238, 0.03661750749629765), (234, 0.03661652420556724), (2869, 0.03660405609461158), (1511, 0.036597761691265066), (512, 0.036540672201215034), (2435, 0.036535384928673836), (717, 0.036526891570183226), (1149, 0.03652178889144609), (1856, 0.03651908468030077), (2710, 0.03651862939819999), (2466, 0.036508906461584896), (1760, 0.03650868227822074), (614, 0.03650660833386323), (438, 0.03650557993910367), (2767, 0.03649407461219762), (4410, 0.03649099091332145), (975, 0.036474636192382816), (3924, 0.03646969333625573), (585, 0.036462399335823875), (2442, 0.03645592866353943), (291, 0.03642875745445452), (1386, 0.03642864548142806), (1037, 0.036402559097959294), (2319, 0.03638410489086434), (2009, 0.03636627813339405), (2549, 0.03636079626702432), (708, 0.03634513599568679), (984, 0.03634268049522416), (3011, 0.03634248401637044), (1503, 0.036337801821853935), (2789, 0.0363230377134565), (1568, 0.036316328805316184), (2769, 0.03630834676938763), (39, 0.03630491446914989), (121, 0.03630398059004344), (100, 0.0362649502084934), (3952, 0.036248338856442526), (2216, 0.036236797123217514), (1795, 0.036231328776935634), (1785, 0.03622396209138758), (1305, 0.03617802472449832), (219, 0.03617329605386082), (3739, 0.036163201199463854), (1264, 0.03616048231052943), (2026, 0.03615639390864997), (2797, 0.03614843861831441), (3448, 0.03614088309143884), (216, 0.03614049426899492), (4236, 0.0361367192390078), (2535, 0.03612722336220846), (1466, 0.0361179985893994), (4270, 0.03611513777030183), (452, 0.03607369100458269), (3354, 0.03605698499400195), (654, 0.036047272268242316), (4009, 0.03604653337038071), (2622, 0.03604451789958218), (1828, 0.03603843500839915), (483, 0.036023219231627525), (67, 0.03601789249150389), (4381, 0.03601335743985827), (1120, 0.035977584179661154), (2540, 0.0359665180869155), (3717, 0.03596438314186917), (2389, 0.03596225667124306), (172, 0.03595472533385213), (2668, 0.03595378036881055), (4285, 0.035941202605004524), (1534, 0.035923604319187244), (3153, 0.03590514866420404), (1281, 0.035888585472285225), (2035, 0.03588819796616132), (3417, 0.03587855146350748), (3012, 0.03585472196912935), (1650, 0.0358530329241464), (1870, 0.03585013593747773), (1912, 0.035840605382948934), (2818, 0.035836119609726304), (4555, 0.03581793042631318), (977, 0.03579155109020579), (3326, 0.03577997375618877), (600, 0.03577579414182788), (3824, 0.035761210890133226), (2929, 0.0357588635608726), (3829, 0.03575124040729), (2027, 0.03574762918745521), (3927, 0.03574395031265718), (3526, 0.03573893311229444), (3403, 0.035729771071461164), (181, 0.03571152683349146), (1059, 0.03570859181510924), (1110, 0.03570234677954949), (1918, 0.03567124134238075), (3675, 0.03566834046969518), (3054, 0.035663091362031475), (4465, 0.03565034581077107), (1423, 0.03564466945277811), (1118, 0.03564341966817848), (4458, 0.03563249690453087), (1134, 0.03561478164589131), (550, 0.035601911978674974), (885, 0.03559998094735175), (1662, 0.03559121166071465), (2666, 0.035587072758001104), (2504, 0.035585413163712644), (355, 0.035580151168703895), (300, 0.03557901452766586), (3311, 0.03557823826557131), (2981, 0.035568396400392166), (3891, 0.03556039584264172), (3480, 0.03555111067245452), (3715, 0.03554960539450636), (4032, 0.035537479328717675), (2912, 0.0355366244333836), (3258, 0.03553125364714419), (985, 0.035525676198219905), (3416, 0.03551619108527269), (3195, 0.03549903391178797), (2560, 0.03549394943804279), (2805, 0.03549369419010361), (338, 0.03549013810557278), (3433, 0.03548625625462212), (4509, 0.03547931133366536), (2048, 0.03546640188322694), (1910, 0.03545552118234082), (3795, 0.03543102870682717), (3771, 0.03542017786264457), (2260, 0.035412811500363406), (2374, 0.03540890126003222), (2174, 0.03539866682164031), (4565, 0.03536985629403161), (282, 0.0353695039156328), (426, 0.03536719835807204), (4122, 0.03536637919241606), (2273, 0.03535285097153113), (1871, 0.03534529386509259), (2879, 0.035317674317414394), (4389, 0.03531287661376598), (715, 0.035309567239076335), (1061, 0.03528916874378152), (3424, 0.03528249527475676), (2097, 0.03528071225619784), (2171, 0.03527654076279062), (4327, 0.035267384695046054), (4210, 0.03526065832076474), (2712, 0.03524822771990224), (2075, 0.035240308178827395), (3716, 0.03523103660840884), (3226, 0.03522448021364581), (1348, 0.03522178638522108), (1875, 0.03519708596002698), (2626, 0.03518769480992778), (2406, 0.03516630061841382), (3236, 0.03513675615120033), (3721, 0.03513214680631127), (907, 0.03512458790334877), (1456, 0.035114034700954214), (2364, 0.0351017121969009), (3173, 0.035096429652593006), (2356, 0.03509007722129367), (3468, 0.0350896010378898), (3407, 0.03508915092776678), (2141, 0.03508130354328417), (387, 0.035057069342843306), (327, 0.03505587388101166), (4378, 0.03504935886070581), (3284, 0.03504742989696183), (2421, 0.035045331032646516), (4249, 0.03503661400221489), (858, 0.035035802135313106), (2040, 0.03503437942827545), (2263, 0.03503246945307787), (1673, 0.03503015067317872), (4388, 0.035029109587351705), (294, 0.03502585901442006), (2816, 0.03502212437732253), (199, 0.035013489637896834), (2528, 0.03497671935327192), (2183, 0.03497433577408921), (1320, 0.03497303282033857), (656, 0.034958579226857564), (3457, 0.034947896136151804), (1652, 0.0349438824011731), (2142, 0.03490314128832089), (4234, 0.03490126427704567), (4754, 0.03489354032990683), (4682, 0.03489349556413276), (1009, 0.034876119036573526), (2630, 0.03487285556149494), (2960, 0.03486754216318391), (4472, 0.03486249951411955), (3074, 0.03485840492134406), (4538, 0.034856060372340625), (906, 0.0348452249669782), (1733, 0.03483794050114813), (1758, 0.03483766080814371), (1173, 0.03483145835028257), (4004, 0.034830545738981804), (1234, 0.03482507244675921), (4365, 0.034813754451497037), (3666, 0.03480215077118589), (2039, 0.03480202372151726), (710, 0.034800275720609404), (3484, 0.03479250952894743), (2368, 0.034757303016099), (2559, 0.034755785103456435), (2259, 0.03475468158544996), (2402, 0.034749866978781394), (4469, 0.03474370158766472), (4461, 0.03473993456150717), (3395, 0.034726735235636894), (3450, 0.0347116359040426), (1306, 0.03468617849137289), (325, 0.03468605019798861), (1266, 0.03467244992168917), (457, 0.034661917865997066), (3788, 0.034653600569262595), (1864, 0.03464888769554789), (3193, 0.03464707231511155), (2867, 0.03463564708740543), (1157, 0.034629516594200514), (591, 0.03462260106473681), (1825, 0.03461709832121827), (1645, 0.03461701795012493), (3151, 0.03461574973026288), (3671, 0.03461094745988419), (910, 0.03460788258294331), (4311, 0.034602979669142185), (2247, 0.03459215033993714), (3431, 0.03459056985520698), (1201, 0.03458458799276341), (843, 0.03458396228558857), (4100, 0.0345761022424253), (253, 0.03455192119797619), (3655, 0.03453363915492303), (2170, 0.03452538959591992), (1528, 0.034510008020789774), (3111, 0.034509514527683055), (413, 0.03449601027983947), (3766, 0.03449510638442291), (2862, 0.034491106071804785), (935, 0.03448886227767187), (4669, 0.03445641447716947), (4495, 0.034440126566670615), (2433, 0.03443445298444781), (3338, 0.03442623957912142), (2774, 0.034424608409580025), (3686, 0.03441990251829421), (4175, 0.0344178609956269), (2338, 0.03439773600479559), (2924, 0.03439562298082203), (2301, 0.03435415569554096), (4259, 0.03432263391304656), (2690, 0.034319697630449404), (3092, 0.03431578087415132), (4689, 0.03431177452907722), (2470, 0.03430802978297628), (2004, 0.0342903848577869), (4303, 0.03428314619334185), (1446, 0.03426437331464381), (664, 0.03425989819479492), (1535, 0.03424839192255559), (4023, 0.03424466874717083), (2823, 0.034240087625413716), (2723, 0.03423217120878269), (691, 0.03422076136147347), (3391, 0.034207464140497704), (3131, 0.03420616711798383), (3437, 0.034197804185498594), (4541, 0.034173935936900775), (700, 0.034172663582759596), (311, 0.03417129707090063), (4167, 0.03417078612449391), (1182, 0.03416656522612005), (3544, 0.03416530138589041), (1819, 0.034146875244979315), (3945, 0.03414662770709475), (4275, 0.034143915676979594), (4456, 0.03413462670067691), (330, 0.03413294156871052), (3033, 0.03412111630237137), (1690, 0.03412059157213423), (1295, 0.03411617537437765), (3841, 0.03408720688886101), (579, 0.03407074237033876), (1904, 0.03407057848695399), (474, 0.034053136008266364), (1100, 0.0340514847454448), (4006, 0.03404661577653604), (2178, 0.034041292766838656), (3324, 0.03403337968752941), (2708, 0.034031469098464745), (873, 0.03402960328459979), (2451, 0.03402924767611054), (560, 0.03402587352584375), (583, 0.03402338192356385), (1432, 0.03400979007099131), (857, 0.03400290582179704), (3607, 0.033995026408599346), (2562, 0.03399482035305691), (3834, 0.0339910819230084), (1499, 0.03398202359775068), (3555, 0.03395432051955145), (729, 0.03394934786350588), (923, 0.03393102798473266), (91, 0.03392366866908348), (1847, 0.03391317260088079), (4558, 0.03390701279579174), (2634, 0.03386462612762736), (3885, 0.033836689052367405), (1788, 0.03383575521278232), (4594, 0.03382626851203124), (1350, 0.03382376812009865), (3628, 0.033821464006692614), (198, 0.03381084807780726), (2781, 0.033803046870972894), (680, 0.03380265773343658), (4439, 0.03379507092326023), (3365, 0.03378563512886202), (1316, 0.03378508001502257), (1369, 0.03378346774800334), (2771, 0.033777330102014204), (1176, 0.033774018016960096), (602, 0.03376867458658821), (1979, 0.03373988508115663), (2003, 0.033728267650274445), (2680, 0.033718021294216034), (168, 0.033712413546130554), (3876, 0.03371073547284346), (2741, 0.03370310727896942), (4426, 0.03369648961233908), (2166, 0.0336893824301376), (3046, 0.03368517358955078), (4318, 0.033684069580717735), (3750, 0.033668746586502436), (2652, 0.03366364889623829), (2007, 0.033647240486459375), (3387, 0.03364325676787542), (3932, 0.03363941684751336), (2983, 0.033637861991088744), (2049, 0.03363351830064719), (1941, 0.033631622454063544), (1060, 0.03363071926263053), (2646, 0.033612537316163524), (924, 0.033611711565641016), (913, 0.03361143134668843), (871, 0.03361040903125132), (2784, 0.033608993534112896), (1739, 0.03360338728436864), (3016, 0.03360150746200389), (3605, 0.03358950826519941), (3974, 0.0335880292290454), (3523, 0.03358238773366516), (1976, 0.033558917246934356), (3636, 0.03355764521961888), (139, 0.033554027887710336), (684, 0.03354249931368185), (2836, 0.03353656520798294), (3658, 0.03352734302860164), (3166, 0.03352158442186754), (2321, 0.033514515281115244), (146, 0.033486095618985426), (2938, 0.03348397671240677), (637, 0.033482431218354404), (1, 0.03347805964630518), (3652, 0.03347348258716489), (2832, 0.033435076313679785), (1852, 0.033424848581436704), (4422, 0.033417963736489566), (4314, 0.03340144694702765), (3059, 0.0334006449840653), (1868, 0.03339198524325815), (1107, 0.03339030889465244), (2234, 0.033386168860726685), (265, 0.033381838436310714), (3289, 0.03337861704090447), (30, 0.03337715861142461), (990, 0.03337352587955783), (3475, 0.033366101507438434), (285, 0.03335369124959226), (894, 0.03333745325975409), (2124, 0.03333569326519105), (4329, 0.03333228754499049), (3838, 0.03331895115118557), (645, 0.03331819041136875), (2074, 0.03330438396104489), (673, 0.0332871385663909), (598, 0.03328608093610168), (2246, 0.03327352220001101), (790, 0.033269516399575545), (221, 0.033269481271676886), (3533, 0.033262961425402165), (485, 0.03325548429709617), (4102, 0.03323075218760865), (3572, 0.03322059827169733), (2000, 0.03320328194702587), (2893, 0.03317286493454737), (2488, 0.0331704928206152), (2964, 0.033158288727613214), (1195, 0.03315582447713642), (307, 0.03312958444855143), (3093, 0.033082352361343166), (1981, 0.033076811238955464), (1872, 0.03307662989496272), (3308, 0.03306038280541191), (3394, 0.03305980468140396), (2147, 0.03305892800128349), (973, 0.033052029038120656), (3021, 0.0330485486220975), (3893, 0.033028620772888276), (1613, 0.03300973444504446), (3362, 0.03300148884855776), (2932, 0.03298924845826326), (3130, 0.03297434416112113), (1417, 0.032966147531757216), (2412, 0.03294604143934053), (304, 0.03294563864569068), (2269, 0.03293925846973803), (525, 0.032938866718365704), (480, 0.03292880344083927), (3137, 0.03292396519058331), (352, 0.032915766371389245), (3493, 0.03291459952044887), (860, 0.032909159007420134), (1634, 0.03290784796596975), (1522, 0.03290526918137461), (3562, 0.032903394065622066), (2302, 0.0328689472212525), (4051, 0.03286421578239502), (11, 0.0328519761564314), (1124, 0.03284847627986332), (4356, 0.03283778113573328), (3590, 0.03283553811045706), (2777, 0.03283207531126184), (4248, 0.032830299264361575), (3184, 0.03282778517080658), (2518, 0.032823432715777014), (1579, 0.03282186789973604), (495, 0.03282182717862125), (3227, 0.03281212395721941), (1216, 0.03280587127393918), (687, 0.03279773588054946), (4222, 0.03279004380210616), (4241, 0.032779313825149245), (1591, 0.0327756138332198), (2671, 0.032775432466477454), (372, 0.03276960422286085), (3340, 0.03274929999022996), (4732, 0.03272514277757416), (1496, 0.03272096002757007), (530, 0.03271632381660604), (2888, 0.0327051164371885), (2975, 0.03270279202782501), (2195, 0.032687688767891306), (3570, 0.03268726593664994), (3127, 0.03268456149332421), (2324, 0.03268342307003122), (144, 0.03266394380750764), (864, 0.03266160462258997), (1063, 0.03264961610082047), (1413, 0.03263984156344835), (163, 0.03258445483772755), (4396, 0.032578456658813794), (1346, 0.032552268402952625), (283, 0.03254637709830534), (4723, 0.03253617213758596), (2872, 0.03251294972324117), (722, 0.032510975800311454), (3051, 0.032510277665450095), (3554, 0.032508112810395624), (38, 0.0325055961984845), (2121, 0.03249528878105816), (1001, 0.03248286226827475), (1283, 0.03247579826433589), (4466, 0.0324488255081274), (1358, 0.03244224431015236), (2173, 0.03244204245330813), (1753, 0.032433488580022714), (4398, 0.03242615881493099), (1099, 0.03242567982433588), (189, 0.03241634496890861), (2817, 0.032414872561682274), (2614, 0.032406919185579), (131, 0.032402726937652476), (217, 0.03239698534829092), (2916, 0.03239343342891423), (3483, 0.03238773244724456), (3579, 0.032384859849358336), (834, 0.03236825216265862), (1248, 0.032361682155336205), (1830, 0.03236138853531541), (3501, 0.0323541050033385), (1485, 0.0323373162512519), (3405, 0.03233400315442833), (4192, 0.032329851444309464), (22, 0.03231343877703138), (3277, 0.03231107849119134), (3529, 0.03230918898884659), (389, 0.03230267805856261), (1337, 0.032294546304089136), (587, 0.03229229048856899), (458, 0.03228442633168562), (3328, 0.0322818764185262), (1952, 0.032242687263554524), (934, 0.03223698729513926), (4260, 0.032235919209700425), (4713, 0.03222746401328518), (2351, 0.0322246699408897), (822, 0.032221767901657525), (1160, 0.03220530384964994), (2577, 0.03220427840412077), (2143, 0.03219722115294062), (1251, 0.03218799132440833), (832, 0.03218511602991067), (2270, 0.032153886380302366), (774, 0.032133816794192555), (4647, 0.03213366984929043), (3580, 0.0321327043482289), (2971, 0.032129141504395164), (3262, 0.032124096365037394), (3481, 0.032115569302674556), (2483, 0.032109410751328234), (2011, 0.03210550987839558), (227, 0.03209415263261891), (2796, 0.032083702153400034), (3233, 0.03205956000972365), (299, 0.03204851614541332), (2176, 0.03204029807251841), (866, 0.03203543754053416), (4706, 0.03203019234060772), (900, 0.032028962684052864), (4230, 0.032020000804380354), (1285, 0.031992597440465176), (868, 0.03198542933916448), (3183, 0.031983858936692824), (3239, 0.03198237818075597), (4290, 0.03197663266984355), (1874, 0.03197037419521404), (4011, 0.031964883982463235), (2990, 0.03196103994471421), (1445, 0.031952749188730735), (2129, 0.03195261475407745), (343, 0.03193268706512017), (3886, 0.03192381621224317), (405, 0.03191890715079528), (620, 0.03191391254077653), (3154, 0.03189632415018259), (1670, 0.031895916985764584), (1105, 0.03188755864470282), (2756, 0.03186343787726497), (4124, 0.03184444216013559), (4463, 0.03183074638080844), (4504, 0.03182925474704185), (2112, 0.03182054986106412), (2262, 0.03181532180391262), (4073, 0.031807268326503046), (2870, 0.031784962594527406), (3747, 0.03177776163333668), (2999, 0.03177139624956303), (1597, 0.031769213988908834), (420, 0.03175874400821854), (618, 0.031743388690195634), (3573, 0.031709239861858717), (533, 0.031699953007732554), (2623, 0.03169768128831402), (4281, 0.031695221829860634), (1855, 0.03169294378051355), (777, 0.031686875037089654), (3202, 0.03168222585412299), (1101, 0.0316633157711611), (3397, 0.0316567122599987), (3803, 0.03165415776100705), (2954, 0.03165294939980373), (4273, 0.0316473244582491), (1592, 0.03163180507519294), (4573, 0.03162781782713371), (37, 0.03159881660516767), (2010, 0.03159778984492985), (639, 0.03158881155173687), (876, 0.03154394992591703), (3768, 0.0315353033646641), (4021, 0.03153049729590971), (1241, 0.03153026133160046), (2417, 0.03151794540567969), (1610, 0.0315131872289236), (2363, 0.031504473787855154), (4606, 0.031501285820754385), (154, 0.0314954764089477), (613, 0.0314949410590435), (1686, 0.03149303100902054), (358, 0.03149140817926861), (498, 0.03147662989404126), (2203, 0.031458559293361485), (1411, 0.03145476678174856), (4413, 0.0314519056068427), (1993, 0.03144923635172227), (4625, 0.03144270449729551), (3593, 0.03143225468672096), (1616, 0.03142756958932581), (165, 0.03141659105816755), (2969, 0.03140946176375179), (2931, 0.03140403980935253), (931, 0.03138839496852214), (4622, 0.03137999347303303), (909, 0.03137498233934393), (4088, 0.03137152717767051), (2590, 0.03136688722908977), (259, 0.03136234648145632), (3541, 0.03135765705853203), (4212, 0.03134665444198852), (1421, 0.0313275597158376), (1970, 0.03130630714524371), (1381, 0.03130224530904631), (3312, 0.03128379270141646), (2180, 0.03126342123689189), (6, 0.03126054476153863), (3356, 0.031246690243837152), (1229, 0.031245471898576512), (616, 0.03123958770951453), (3763, 0.031229160398155136), (2506, 0.03122806423051641), (416, 0.031218243639847407), (1371, 0.031199410967534903), (532, 0.031190955492859232), (882, 0.031167068628627014), (595, 0.031155609996702353), (968, 0.031153026126696307), (2127, 0.031150407414084764), (1775, 0.03114380962520422), (3402, 0.031141928377017392), (1094, 0.031138811812102665), (2640, 0.031138809999361125), (2251, 0.03113073970370228), (4306, 0.031112826641218422), (4020, 0.03108216139267437), (3091, 0.03107325220502674), (940, 0.031067159863285475), (3949, 0.03106513283965986), (437, 0.03104439889675137), (4607, 0.0310405522031403), (3058, 0.031010744518813006), (4641, 0.030995975096824117), (2863, 0.030987763061034856), (4046, 0.03098679926514839), (3637, 0.030985733069988926), (152, 0.030967404167366472), (252, 0.030949765982899887), (112, 0.030936184214124723), (2126, 0.030928850029436808), (971, 0.0309207713225355), (2208, 0.030915143560912225), (3746, 0.030914249439809794), (101, 0.030904853228823262), (930, 0.03090308327788663), (3532, 0.030896094095097637), (4086, 0.030889517306279434), (4679, 0.030885472664448313), (4057, 0.030878003456153713), (2702, 0.03087506736143354), (3320, 0.0308702906903656), (4740, 0.030869685557253435), (2447, 0.030860444375839374), (732, 0.030850741567106724), (1657, 0.03084402720411772), (3464, 0.03083435782093355), (3215, 0.030832997855783133), (4612, 0.030826748467914403), (723, 0.03082234981611439), (3897, 0.030820811240080306), (2164, 0.030816005074657565), (911, 0.030798520649606215), (4589, 0.030795706190073952), (1518, 0.030777849284915268), (3447, 0.03077371721018837), (3109, 0.030770418784533987), (775, 0.030755310808097066), (4342, 0.030745935763822504), (1530, 0.03073250442826298), (2459, 0.03072790734942078), (4707, 0.03072408498776529), (1410, 0.03071075006778483), (1587, 0.030709348984262377), (1252, 0.030705641128781085), (922, 0.030703616257421504), (727, 0.030699790270338784), (3439, 0.030695941649450144), (4510, 0.030690896898203274), (3547, 0.030688273806102513), (1046, 0.030688008169939104), (3751, 0.030681136938755647), (3160, 0.030664533576657306), (2136, 0.030650493935822518), (3259, 0.03062141909834636), (996, 0.030615353865891027), (3171, 0.030609341132136956), (1612, 0.03060579791936207), (3558, 0.030598174773130447), (2213, 0.030583977315241435), (4084, 0.030558224729713902), (2207, 0.030540201993823936), (2101, 0.030522316804725103), (1974, 0.030508357545802802), (2066, 0.03050691182102932), (2137, 0.03049051863151264), (2733, 0.03048205514774333), (1010, 0.03048161514733498), (306, 0.030481482049625107), (1716, 0.030471050683811125), (2479, 0.030470483624916337), (1467, 0.030469042878949776), (1651, 0.03046618927436046), (2721, 0.030456946741358064), (3941, 0.030448499974241632), (3384, 0.030444913630751864), (3441, 0.030422543443617597), (2021, 0.030420744804963436), (3894, 0.030420194970549843), (796, 0.030416301923682356), (4675, 0.03041564325205929), (4216, 0.03041460239156324), (3250, 0.030413952945932573), (760, 0.030408619800091616), (2235, 0.03040779649826815), (3014, 0.03040678460121527), (1457, 0.030402138096209085), (1882, 0.030399750993120905), (353, 0.030380639949927034), (3907, 0.03037890392382144), (2205, 0.030377696357972075), (4727, 0.0303632949348865), (4597, 0.030361044727142704), (4652, 0.030351288228315308), (3571, 0.030346845313313178), (4029, 0.030346187104617364), (521, 0.030337305158464556), (2493, 0.030322127494505868), (2809, 0.030320740472297533), (342, 0.03032038669124057), (2802, 0.03031749693989962), (2271, 0.030315825503800665), (962, 0.030310030847133053), (4609, 0.030282297732023383), (3624, 0.030263053185114956), (3697, 0.030251913537862295), (1935, 0.030247993010593957), (2795, 0.03024423132681612), (1798, 0.03023745525364084), (2139, 0.030230713157858788), (2825, 0.030224332913287213), (407, 0.030200844222137688), (515, 0.03019594766151814), (4043, 0.030184115914725133), (166, 0.03018245250418252), (491, 0.03018101242927112), (1505, 0.030177631745835883), (333, 0.030175502100909468), (2841, 0.030173748798660277), (1873, 0.03016851822032388), (2672, 0.03015855773974506), (4264, 0.030158021009517103), (2104, 0.030156385761037525), (2763, 0.030125884941645163), (2944, 0.030113643439767718), (4532, 0.030111767304930065), (941, 0.030111677041946696), (266, 0.03010625781739148), (4178, 0.03009979545356399), (169, 0.030081869374222435), (1367, 0.03008148223231832), (1846, 0.030077040429144497), (3524, 0.030073972917575114), (1770, 0.030065463484576303), (2691, 0.030048819296871313), (2734, 0.03003379325137508), (28, 0.030028081578489324), (3679, 0.030015697781058205), (2156, 0.02999293143959977), (1966, 0.029988603341171052), (2128, 0.02998370559713167), (1133, 0.02997998903039384), (1743, 0.029937239042733127), (1307, 0.029929126660235825), (2647, 0.02992480388357653), (1746, 0.029909645658097228), (3719, 0.029904704802640913), (434, 0.029901900614227307), (4656, 0.029888564997411035), (4094, 0.02988521474501595), (4756, 0.029884322369530685), (442, 0.02986897179207356), (2384, 0.029860488785006366), (1867, 0.02984245714477195), (1380, 0.029837607390861765), (1022, 0.02983025087263138), (3022, 0.029829262358009558), (981, 0.029823560274822303), (2355, 0.029807310827785188), (3758, 0.029791063212486577), (1024, 0.029790279796932665), (1762, 0.029769662887101696), (1564, 0.02976677310621344), (879, 0.029759909961730894), (228, 0.029758962772355027), (2296, 0.02975811498492163), (3877, 0.029757853407760333), (2922, 0.02975171391955467), (1014, 0.029750409838716074), (4678, 0.0297326914715482), (1757, 0.029731104566641752), (3668, 0.02972573181695053), (418, 0.029725318128305454), (494, 0.029704536378818782), (4082, 0.02970275923028058), (1143, 0.02969796233113601), (401, 0.029695819115297204), (2563, 0.029695130984264326), (3978, 0.029689015115188414), (4373, 0.029686355114170813), (4619, 0.029678117343454793), (3110, 0.029677059355468462), (4628, 0.02967535469707203), (1424, 0.02967012655237991), (1074, 0.029670102331145358), (329, 0.02965799011829559), (2404, 0.029655064175945628), (2670, 0.029626581093734658), (2989, 0.029625798145781028), (3852, 0.029602410123873157), (3757, 0.029599334150088415), (1695, 0.02959763224189769), (1294, 0.02959211810002378), (1717, 0.02958014082314217), (3865, 0.029571653980627145), (1950, 0.029563818227320574), (3205, 0.029562159165003113), (4262, 0.029539665207570353), (1807, 0.029539118336872276), (558, 0.029534612292661525), (4436, 0.02953393972596598), (2290, 0.02953252608965888), (3134, 0.02950795867743071), (995, 0.029504961918685072), (1789, 0.029492195318951857), (4611, 0.02948233157379263), (376, 0.029473041343250468), (3428, 0.029466978614448358), (1784, 0.029449709407249672), (1329, 0.02944750635925174), (2422, 0.02943430957897853), (695, 0.0294204643414896), (2418, 0.0294131934939052), (3316, 0.029412461453321034), (2082, 0.029412317509315247), (4037, 0.029409918248278478), (3560, 0.029409074328453407), (1314, 0.029407263305108493), (3552, 0.029406176464321462), (4670, 0.02939970511528601), (1428, 0.029395851115358446), (1089, 0.02939268000337295), (2102, 0.029388536230188167), (703, 0.029388011338093153), (2257, 0.029379115310449483), (3047, 0.02937674266734), (2873, 0.029374658486805916), (2996, 0.0293645877463774), (4630, 0.029363548849610132), (3401, 0.02936243274712689), (2186, 0.029354286637269134), (728, 0.029349081193281765), (3511, 0.02933469021376603), (2521, 0.029329857316353486), (1389, 0.029327139560526863), (4282, 0.02932645281670531), (472, 0.02932366020580027), (288, 0.02931819386368104), (1400, 0.0293088768201191), (2084, 0.029289362591925914), (3773, 0.029288485515110808), (3650, 0.029274567407961832), (4714, 0.029266047835366103), (57, 0.02926377336940359), (3963, 0.029242810965202797), (2091, 0.029240464002634366), (608, 0.029232171474651306), (1459, 0.029224523215696734), (4414, 0.029215786249157376), (2625, 0.029215439611481937), (1713, 0.02921015660987221), (2807, 0.029208577315827162), (562, 0.029206844094294963), (4608, 0.029205158885173166), (3146, 0.029197054177816813), (1464, 0.02919699808281702), (2649, 0.02919285295683402), (3317, 0.029192477785212487), (2457, 0.029190562087633203), (3528, 0.02918257190216858), (173, 0.029164924358385243), (1693, 0.029162594672753665), (2849, 0.029156881395535114), (1069, 0.02915253726784115), (2973, 0.029150679499540533), (2427, 0.02914888934818178), (92, 0.029148377543280108), (4308, 0.02913699012726708), (4490, 0.029132087641350942), (3150, 0.029131358581642744), (753, 0.029118617600673774), (2210, 0.029115504464231674), (742, 0.02910992306378281), (2225, 0.029108843574183578), (501, 0.02910465872257609), (1877, 0.02909951373711913), (3537, 0.029077706966787322), (2852, 0.029056257307468216), (3141, 0.029050161679939623), (1289, 0.029044633353702904), (2071, 0.029023052440565144), (4477, 0.029001138156768195), (48, 0.028997704721560446), (699, 0.0289927246067837), (3765, 0.028989712033254386), (2113, 0.028982243552781336), (829, 0.028976811489222404), (377, 0.02896522576609784), (4071, 0.028961030976402624), (1533, 0.02895859255277792), (4180, 0.028938472718851367), (4514, 0.028932879657849322), (3990, 0.028931013238825375), (788, 0.028926912944643904), (2206, 0.028926024876977194), (1050, 0.028915892469666596), (1925, 0.028913163036638406), (2617, 0.028911203909335142), (2017, 0.028905222320459237), (1250, 0.028902957659646025), (2600, 0.02889360113914511), (1002, 0.028892468081642697), (454, 0.028892365514283633), (1971, 0.028875265936083278), (3610, 0.028851114901826243), (2945, 0.028846090467993565), (1483, 0.028835448094234988), (2745, 0.028830033440115668), (1735, 0.028820135753218776), (3147, 0.028817941262499387), (4474, 0.028805939822679167), (2042, 0.028790886521786636), (3492, 0.028789229387085537), (4377, 0.02875848033708093), (2037, 0.02875097731527819), (2335, 0.028749017270576358), (232, 0.02874659819560364), (782, 0.028739471622045598), (3331, 0.028738459385468734), (3592, 0.028737809711802738), (706, 0.028734906237605724), (3953, 0.02872758192495315), (1668, 0.028719956699885148), (2372, 0.02871515106862714), (3445, 0.02871248811898802), (4346, 0.028689440799217005), (3023, 0.02867872179732766), (482, 0.028669573215066205), (4198, 0.02866533049082083), (2043, 0.02865402511932984), (2579, 0.028650843134104056), (4556, 0.028648096985873905), (561, 0.028642652536728798), (4183, 0.028640790085920593), (2909, 0.028631387813203055), (4737, 0.028623845368080048), (3095, 0.028623655009719525), (2304, 0.028623084164717198), (2516, 0.0286120583035656), (2636, 0.02859495334737138), (1730, 0.028592187740332176), (2855, 0.028579949488843945), (3201, 0.028576875839354695), (179, 0.028574361325439283), (4169, 0.02857364861805766), (2706, 0.028547808923380495), (4133, 0.028538041796015514), (1556, 0.028526369035732774), (807, 0.028519816631305244), (3100, 0.028513245751677872), (2103, 0.028489103451413835), (1492, 0.028488807829985762), (4001, 0.02847328565615511), (4636, 0.028468582110265754), (1755, 0.028462459575102565), (1480, 0.028461727981253748), (447, 0.028461658341063886), (1740, 0.028440482776548082), (1163, 0.02843354272106724), (974, 0.028405391468810347), (4003, 0.02837085583993664), (540, 0.028368928814813385), (2531, 0.028360262992337404), (2719, 0.028352942014039626), (1768, 0.028350861736234606), (2773, 0.028330727767754114), (4521, 0.028301449099150465), (4592, 0.028301039227698888), (2952, 0.028298275048851185), (2050, 0.02829092356114377), (3643, 0.02828921226734733), (4617, 0.028282222416713236), (4038, 0.028278501565949597), (341, 0.028277611659676002), (4673, 0.02827415629603564), (3174, 0.02825292675145811), (125, 0.028252645073996784), (3175, 0.028242370366124262), (1580, 0.028241484786935812), (538, 0.028226220591340632), (1711, 0.02821641702735142), (3814, 0.02820492032370841), (1416, 0.028196064650884773), (3702, 0.028190737793373024), (3860, 0.028185281409467168), (2062, 0.02818135069398944), (1159, 0.028178504427859418), (1939, 0.028148938922159264), (16, 0.028126560190545477), (1425, 0.028122416892571347), (2956, 0.028113921337253246), (2977, 0.028100906539578308), (4343, 0.028100315987898354), (3070, 0.028100130432549827), (903, 0.02809488296095883), (2736, 0.028094219754781047), (2241, 0.028077846834203068), (2730, 0.0280685390961584), (162, 0.028063877864776536), (1076, 0.028057125444647547), (1189, 0.02805443250497966), (347, 0.028052379684340968), (3452, 0.02805054508123866), (537, 0.02804994967892623), (1498, 0.028042478829314987), (2175, 0.028031315489646477), (3646, 0.02801648992102131), (2067, 0.02798671897025766), (1571, 0.027957938980007785), (555, 0.027951759035221124), (1805, 0.02794898995259598), (2489, 0.027938811992458328), (3238, 0.02793816538116746), (1077, 0.02792941975442766), (986, 0.027918482822793224), (1617, 0.027906618948818976), (702, 0.027902130679887158), (2850, 0.02790110096809187), (2776, 0.027900838492164882), (2747, 0.027884219496906525), (4615, 0.02787427353263268), (3367, 0.027873697661521597), (111, 0.027869581529047983), (531, 0.027860864653865346), (2237, 0.027836918856643276), (72, 0.02783594534912974), (1926, 0.027830069405333155), (1122, 0.027827169346464814), (1442, 0.02780507537468281), (476, 0.027804671069804273), (25, 0.027802370521060674), (2890, 0.027793513263707312), (350, 0.02779144714637989), (211, 0.027791105690677293), (4107, 0.027783167239747143), (274, 0.027772791788377313), (2287, 0.027756383728469003), (4460, 0.027754548128250713), (2688, 0.02774237483374106), (297, 0.027741274595325133), (3663, 0.027741151070515925), (3185, 0.027728188153940302), (1489, 0.02772368707883617), (4721, 0.027708305758756532), (2159, 0.027702619321872082), (4386, 0.027698820762525403), (989, 0.02769806478148194), (4570, 0.02769754713108187), (3575, 0.027690262741132614), (1552, 0.027686348263724316), (1397, 0.02768068701707508), (809, 0.027672844290359412), (2868, 0.027665003462735004), (1674, 0.027664395513550225), (2099, 0.02765601760146869), (1780, 0.027647723140954192), (222, 0.02763944203826929), (4149, 0.027631618394972874), (2450, 0.02762449964225997), (3781, 0.02762203259638022), (520, 0.027621020319156232), (3230, 0.027619998885641046), (4317, 0.02761576110005331), (4204, 0.027611042456396895), (3899, 0.027608632965719502), (3661, 0.02760599088087881), (1848, 0.027601442875007397), (65, 0.02759082201742637), (3206, 0.02758808241541087), (3052, 0.02758760059184525), (4629, 0.027580923719186), (1618, 0.027577670679094148), (44, 0.027565260006486708), (3748, 0.02756240456836698), (1558, 0.027558336760495503), (2133, 0.027556664086708378), (247, 0.0275452042785709), (1865, 0.027541004691994123), (2792, 0.027535073021830454), (816, 0.027526569387735515), (939, 0.027505367360999095), (2015, 0.027503491304956825), (3003, 0.0274998313401193), (3618, 0.027495741137778404), (4002, 0.02749379959214563), (3143, 0.02749112139831795), (1709, 0.02747777977009115), (443, 0.027474389570243), (4489, 0.027474048707743025), (770, 0.02746528014024936), (76, 0.02745852491725368), (149, 0.0274481397926225), (3198, 0.027443876995990907), (2095, 0.02743445836778171), (58, 0.027424366529254212), (1862, 0.027423794600894412), (301, 0.027409897200239224), (948, 0.027407545810533455), (4338, 0.027406436572494225), (660, 0.027402336042774783), (605, 0.027386035627345002), (2344, 0.02738500221604543), (3565, 0.02738101669170717), (1545, 0.027366842861812887), (2028, 0.027360685002682912), (568, 0.027359868797055605), (2555, 0.027358111015313075), (2840, 0.027348560380823173), (2348, 0.027340689882739477), (1718, 0.027300128456534855), (4457, 0.027280037763709207), (2567, 0.027278274155165528), (4516, 0.027262991598038893), (1126, 0.027262212829406704), (1044, 0.027261504188247708), (994, 0.027258406642875148), (4559, 0.027248303082532455), (2280, 0.027233937079233637), (2861, 0.02723246605390763), (2757, 0.02722931639579687), (1114, 0.027229283553668066), (1034, 0.02720130487587108), (669, 0.02719685641773261), (2765, 0.02719625251580239), (1158, 0.02719059893548955), (3369, 0.02718129629292285), (810, 0.027175592372865993), (2150, 0.027160884880559056), (214, 0.027141598920315195), (838, 0.027137278674680666), (819, 0.0271272603041052), (2749, 0.02712691117882011), (1458, 0.027124461922718796), (929, 0.027123509541638287), (2913, 0.027115929251109394), (4684, 0.027104709827794622), (3030, 0.02710016603590262), (2034, 0.027099927412058942), (1761, 0.02709318992194884), (2993, 0.0270920570812665), (2485, 0.027089574491305023), (64, 0.02708188963386389), (946, 0.02708130623850847), (2732, 0.027077794120746564), (3960, 0.027068070645237047), (3786, 0.02706795810210589), (783, 0.02706199071887401), (339, 0.027057870768413282), (956, 0.02705786545458624), (284, 0.027046963275764696), (4744, 0.02703805756851164), (3252, 0.02703598928629112), (4106, 0.027020578856759316), (2645, 0.02701905567877918), (351, 0.026998040862419952), (2211, 0.026963283989204275), (1053, 0.026963221277644566), (4584, 0.02696247277234485), (1200, 0.026960639302018606), (696, 0.026957104142194127), (33, 0.026957047266028173), (4704, 0.02694075865124058), (2030, 0.02693793916039051), (3487, 0.026928719120423307), (4602, 0.026924431042105068), (4715, 0.026888235488947105), (588, 0.026886205049497673), (2276, 0.02687832706281901), (4642, 0.026877335765029903), (1937, 0.02687140798620685), (26, 0.026863548608447956), (2677, 0.026858980272158037), (2639, 0.026858765956759695), (1113, 0.026849484478223325), (2860, 0.026830821239806464), (2788, 0.026829529590403814), (3735, 0.026822002764248044), (309, 0.02682053371165555), (2834, 0.026818121817451197), (3459, 0.026805862578234484), (2146, 0.026792059635228044), (2718, 0.02676245876164741), (1242, 0.026760725381168887), (891, 0.02676058916878732), (2394, 0.02675790536379001), (1349, 0.026754397379454897), (1994, 0.026745759454295318), (4438, 0.02674076306693846), (2317, 0.026734444254905693), (2092, 0.026720735519494374), (3191, 0.02671686958589712), (1300, 0.026713307095952436), (52, 0.026711502271989214), (1866, 0.026705843166083487), (49, 0.026704045810625986), (1179, 0.026702233378088868), (2350, 0.026700151390456645), (1140, 0.026676748432192227), (4042, 0.02667504790499274), (1524, 0.026673647874061707), (4345, 0.026668709651037834), (2731, 0.02664922170405317), (4237, 0.026643965174063977), (2884, 0.02663265100462879), (3520, 0.0266286156470179), (3090, 0.02662781962037648), (2911, 0.026623287936957583), (3807, 0.026618020067872793), (1510, 0.02661613527957685), (4294, 0.02661040951702009), (3696, 0.026604743836920797), (3497, 0.02660372541245533), (3645, 0.026581400484390012), (2405, 0.026577241695919445), (1180, 0.026576694821161703), (4464, 0.02657124395220632), (2202, 0.02656662086792985), (4334, 0.02656526905102561), (756, 0.02656384489082997), (4480, 0.02654716640879374), (4564, 0.02653908575731562), (1073, 0.026538129330799264), (3345, 0.026531297016485426), (2921, 0.02652089552867806), (3378, 0.026507215490703485), (4454, 0.02648312382682322), (2326, 0.02647466667528042), (1008, 0.02647011086601163), (3516, 0.026469710736339296), (422, 0.026469328935859637), (478, 0.026461678557739204), (1490, 0.026451482772150932), (192, 0.026450180689216805), (4355, 0.026437011975546054), (142, 0.026432182516486387), (1605, 0.0264303151433936), (1206, 0.026429670914526682), (724, 0.02642946229688492), (1557, 0.026422236555932118), (436, 0.026401293426488625), (733, 0.026394263375479083), (4534, 0.02638269487170629), (295, 0.026377547804159598), (662, 0.02637754730235542), (1630, 0.026375935168716204), (194, 0.026360046986831885), (2267, 0.02631305101989661), (3740, 0.026296873610447954), (3903, 0.02629490123200698), (2079, 0.026289949945585055), (93, 0.02628746745191021), (2055, 0.026278835645079962), (1742, 0.026277972057089365), (374, 0.026265509426790148), (2305, 0.026264805915064752), (1203, 0.026235159444796687), (1680, 0.026234760039203997), (3383, 0.026225056591302927), (865, 0.02622200713014406), (1523, 0.026215599036531166), (3776, 0.026206751273954568), (4650, 0.02620395160490177), (1435, 0.026199805205668326), (314, 0.02619877433008454), (2762, 0.026186755980243448), (3179, 0.026179067877995964), (919, 0.026168946715263968), (1254, 0.026164641854008), (1096, 0.02615950081480693), (1987, 0.026147312827280396), (4123, 0.02613296863557943), (1404, 0.026114804732945474), (158, 0.026108548615143504), (686, 0.026105683561730667), (611, 0.026101050352428948), (3543, 0.02607851657941131), (3850, 0.026073357094898383), (1440, 0.0260649066635475), (2385, 0.02606394604086284), (276, 0.02606186860490852), (1849, 0.02605813289001766), (2643, 0.026057131602853653), (3031, 0.026048857159294215), (213, 0.026044213639924055), (2464, 0.026029735126118766), (2336, 0.02602564943279971), (3461, 0.02602468937590952), (3922, 0.02602380767321453), (1487, 0.02602367532283186), (1729, 0.026018167886269816), (153, 0.026015706747740973), (4095, 0.02599781450913285), (634, 0.02599492072744341), (4493, 0.025989765373570253), (3426, 0.0259875264028595), (3919, 0.02598689861313891), (2198, 0.02596626561591944), (1441, 0.02596353608908943), (2357, 0.025959146672414647), (1696, 0.02595831869838994), (4648, 0.025952676430341454), (3785, 0.02595126573516622), (4197, 0.025947076574786506), (4674, 0.02594670343549581), (4649, 0.025945019909674044), (2815, 0.02593004158378549), (1945, 0.02592579067047555), (4143, 0.025925778655460946), (3296, 0.025917391000918267), (3569, 0.025904457986773634), (3466, 0.025903496840151904), (1969, 0.025896029080989577), (2935, 0.025892218284320333), (2509, 0.02589021614018527), (4158, 0.025852776404401936), (4140, 0.025849335736617487), (2476, 0.025842303673016598), (2735, 0.025841914941893248), (1724, 0.02583186037860374), (435, 0.025829754704178892), (147, 0.025824793441092883), (863, 0.025820791240404074), (1569, 0.02581771392465875), (1448, 0.02580373089136458), (400, 0.025803349530403308), (3458, 0.025799876171070192), (1366, 0.025792136259730678), (4560, 0.02577582959066494), (4172, 0.025775161418203518), (3694, 0.025771959473347553), (1527, 0.025770648931758608), (229, 0.02576583354500952), (3969, 0.025759227465241084), (964, 0.025753986542569954), (4574, 0.02573222846404032), (1549, 0.025729444264281618), (1271, 0.02572081079701721), (1507, 0.02571617942395273), (1942, 0.025711333734871795), (1130, 0.025710605799656106), (1430, 0.025709672214000376), (718, 0.025708387423916457), (1219, 0.025688155749741502), (4639, 0.025679836730893982), (1401, 0.02567194648726693), (3040, 0.02565484022729934), (305, 0.02564598618040101), (2285, 0.02562902751802881), (2811, 0.02562857880871515), (2359, 0.025607732082316377), (652, 0.02559653136082037), (3290, 0.025591162169987875), (456, 0.02559016960860895), (1246, 0.025588159464600062), (2232, 0.025581800830343296), (625, 0.025580023710515886), (2465, 0.025578487815429846), (1765, 0.02557019171000716), (1345, 0.02556937978719155), (4220, 0.02554217079492959), (1395, 0.02553506215472425), (835, 0.025528974902189402), (2337, 0.0255221867656876), (936, 0.025518808762084434), (1653, 0.025515104836051572), (357, 0.025498106336402412), (1048, 0.025497667423527076), (2278, 0.025492287325321397), (135, 0.025488872108115943), (336, 0.02546861649997161), (1136, 0.02546839138746166), (904, 0.02546706909118607), (1857, 0.02545927925257903), (3061, 0.025451468483980808), (2507, 0.025450860866854084), (492, 0.025450805594625557), (2184, 0.025446555031105843), (3727, 0.025441582736295286), (1608, 0.025433955881703704), (2988, 0.02543322407250495), (3159, 0.025430163852470333), (220, 0.02542931344961443), (646, 0.025424982183914004), (815, 0.02542269743466824), (1152, 0.025416420773856762), (725, 0.025409475310462837), (428, 0.025407405302435345), (3125, 0.025399394987670524), (1554, 0.02539938342011782), (1799, 0.025398298234773648), (32, 0.025397591253393914), (3272, 0.025395442099288897), (4319, 0.02539319563249362), (3219, 0.025388644233775286), (233, 0.025387863595447237), (3429, 0.025384773592465267), (380, 0.025382596880451424), (1531, 0.025380130338984765), (410, 0.02537917738139752), (1135, 0.025377550432265854), (160, 0.025370938061867968), (3419, 0.025369582018491765), (4666, 0.025366788774865028), (3872, 0.025362751801229245), (417, 0.02534726071379324), (4221, 0.025345325106668707), (4535, 0.025343166081290877), (2572, 0.025335075480173424), (2576, 0.025332038107776487), (647, 0.025324303215498927), (2940, 0.025305343491557657), (3337, 0.0253029197572336), (1223, 0.025279445896064037), (2378, 0.025269569754748478), (2212, 0.025258274763758613), (3287, 0.025253163066362053), (1139, 0.02525283322534468), (3586, 0.025245675316325877), (943, 0.025241969951813593), (2467, 0.025241838207083474), (2453, 0.025227946897990756), (4047, 0.025225018481171323), (3944, 0.025221762703190383), (3674, 0.025216485473969368), (2581, 0.02520995173709882), (4119, 0.025208450374213362), (3633, 0.025203837597641103), (3004, 0.025187006828764756), (1903, 0.025185216131702035), (1756, 0.02518348574241353), (1473, 0.025177749947883177), (3275, 0.02517695053396531), (3263, 0.025173710990453183), (2068, 0.025166912595771952), (2227, 0.02516398416445827), (4525, 0.025155608292699527), (2597, 0.02514600579094276), (1781, 0.025145462909698754), (318, 0.025130866640995366), (3732, 0.02512730415701271), (4018, 0.025124664807841045), (4610, 0.025115052828063682), (3853, 0.025110778739752253), (3522, 0.025108752763735406), (780, 0.025103656631942053), (1956, 0.02509812037543446), (123, 0.02509552348408125), (4598, 0.0250937961416757), (4750, 0.02508116533348917), (390, 0.02507630317494726), (839, 0.025060152795169616), (1226, 0.025059990659821656), (1850, 0.025054341459010414), (290, 0.025038945596952786), (3857, 0.025019824133616576), (3319, 0.02499842900510094), (2486, 0.024995830334996225), (461, 0.024995605908004887), (4165, 0.02499230055011399), (4263, 0.02497311135555625), (2951, 0.02497306457371758), (2120, 0.024972405619799586), (4665, 0.024956989988990645), (335, 0.02495025745360209), (4551, 0.024933643302073927), (308, 0.024897510918148427), (872, 0.024895356033489587), (24, 0.02489282840259057), (2571, 0.024891724096808364), (4053, 0.024885026926418245), (1272, 0.024876132866641244), (4302, 0.024875120003363626), (1047, 0.024863396407465217), (4544, 0.024859744360657993), (3938, 0.024859604055807227), (572, 0.024854930234950126), (4261, 0.02483648071759727), (932, 0.02483323622949339), (1296, 0.024832799332654684), (4705, 0.024828455383084022), (1749, 0.02482163121043276), (802, 0.024818437130331834), (2566, 0.02479041212479688), (4415, 0.024766886366635148), (569, 0.024752463764725174), (4219, 0.024750609109766883), (3409, 0.02475020057738893), (1230, 0.02474145476383105), (2803, 0.02471525378829504), (845, 0.024713932843302096), (354, 0.02470796810020824), (4170, 0.024703526075125767), (1747, 0.02470350752473601), (592, 0.024689476266804355), (3638, 0.024682402839086223), (2023, 0.02467809693550411), (2096, 0.024664073154854173), (231, 0.024652556528739288), (47, 0.024650704037724062), (2544, 0.02464046922222873), (1838, 0.024631874724845647), (599, 0.024629804324821578), (1633, 0.024625449692847023), (80, 0.024620124042774368), (2387, 0.02461723687724955), (1907, 0.024612774921284566), (1090, 0.024610146773044787), (1943, 0.024608210658595017), (1232, 0.02460364188779464), (2724, 0.02459968927321554), (1453, 0.024597775220322714), (3136, 0.024594897726306915), (4223, 0.024594882208874957), (3393, 0.024593634045075752), (2109, 0.02459230160108314), (2575, 0.024587601605227466), (2376, 0.02458452888867833), (3115, 0.02458442215453726), (1815, 0.024583186249186907), (2318, 0.02458079021901193), (332, 0.024576347068236866), (3149, 0.024573913175618724), (1599, 0.024568595195194033), (4394, 0.024561344175239322), (2827, 0.024559283450925864), (1447, 0.02453275999026533), (1185, 0.024526855651387847), (1455, 0.02452063990082025), (159, 0.024518420207060635), (3508, 0.024516432667666378), (1647, 0.024513855525089563), (663, 0.024513452916511545), (110, 0.024502868873877096), (1275, 0.02449758532094682), (4089, 0.02449331318212276), (3525, 0.02449262358920826), (1923, 0.02447839228067785), (1678, 0.024472191941804014), (4218, 0.024457721070177182), (4667, 0.0244513235941482), (773, 0.024445022123561762), (2838, 0.024438881835630137), (2953, 0.024432280348406936), (2948, 0.02442982220873178), (3063, 0.024422751246077366), (3847, 0.02441957720183842), (908, 0.02441503141196232), (2846, 0.0244110531711369), (1150, 0.024408405502290332), (1025, 0.024396985623742547), (1710, 0.024395161834390798), (1301, 0.024374651521336416), (2020, 0.02436991246387483), (1021, 0.024359865890586852), (1853, 0.02435782634338039), (1679, 0.024356876155146027), (3568, 0.0243521559274658), (2436, 0.024348316938870483), (875, 0.024345870467628213), (4335, 0.024345285280957352), (2703, 0.024338906546499714), (471, 0.02433439193379604), (3415, 0.024333442270428808), (4467, 0.024328403029907575), (3991, 0.024324438670811497), (2791, 0.024309630123049823), (386, 0.02430256484230968), (2943, 0.024299546447507068), (404, 0.024296127381506924), (739, 0.024289147619051068), (3801, 0.024289142464751542), (554, 0.024269170112010355), (1794, 0.024259350842790725), (1040, 0.024252729380360043), (674, 0.024239016564131542), (1210, 0.024237440073757083), (3108, 0.02423593725723807), (54, 0.02423448832706583), (659, 0.024231145335575886), (3035, 0.024223345433232294), (4638, 0.024221738724441062), (2900, 0.02421705044026178), (3983, 0.024215623707438683), (2548, 0.02421401639488397), (2898, 0.024209409076025257), (3647, 0.024202840068381134), (3958, 0.02420205429081503), (2316, 0.024201920003594352), (3490, 0.02419840876883526), (4211, 0.024189232089297255), (958, 0.024161791274214604), (2661, 0.024156692113550135), (1632, 0.024147886248979115), (672, 0.02413367374479201), (145, 0.024128897836317463), (557, 0.024128877638700585), (1675, 0.024127347533445406), (3288, 0.02412281436898016), (2105, 0.024122127796635487), (4015, 0.024117415419121515), (3348, 0.02411701359016377), (1311, 0.024111200781136505), (2190, 0.024109973657073677), (3322, 0.02409887602404456), (3203, 0.02409687902112), (3013, 0.02409656513367272), (78, 0.024088470401293853), (2414, 0.024085590117772452), (258, 0.024083669955377814), (3271, 0.02406676311710078), (3079, 0.024063822495336725), (992, 0.024061385474757304), (1384, 0.02405108426055259), (240, 0.02404085694340486), (1015, 0.024039207775679798), (1356, 0.0240381472672984), (3614, 0.024016252256870384), (1700, 0.02401377246320065), (1818, 0.02400449024196443), (324, 0.024002967240466605), (970, 0.023997779199691812), (3096, 0.02398503377754441), (677, 0.023971690118596692), (3810, 0.02395077350579078), (3368, 0.023949214090175665), (1235, 0.023928599830528606), (820, 0.023927422391882888), (704, 0.023920236565528483), (529, 0.023903348106509632), (2583, 0.023898197145614298), (1161, 0.023882492956460222), (4529, 0.023877929129167502), (516, 0.023858801334509558), (4745, 0.023844347600453744), (1328, 0.02383865784194785), (2077, 0.02383496423505162), (182, 0.023830151724039537), (460, 0.023818854266141998), (1575, 0.023817830675026245), (29, 0.023813619275816555), (767, 0.02381151154950518), (726, 0.023797946905801292), (1614, 0.023796697210794075), (1164, 0.023793628692370134), (3350, 0.023783707161581933), (96, 0.0237674166092084), (1594, 0.023765395091817385), (4576, 0.023758527117804067), (3930, 0.023751642597557368), (1934, 0.023742497080284634), (2602, 0.023740164430558548), (2642, 0.023736826833296226), (4019, 0.02373660937669745), (878, 0.023731281387812754), (3734, 0.02372515409623402), (3049, 0.0237233527539762), (3723, 0.02370915387342272), (4601, 0.023696320110017433), (4681, 0.02369014034049087), (818, 0.02368846119822126), (4232, 0.023681647923235356), (2950, 0.023677941778205768), (2221, 0.02366222934350724), (679, 0.02365889104847664), (2578, 0.02364914745528377), (1783, 0.02364526238941341), (313, 0.023643029762644034), (225, 0.023641519111876008), (2654, 0.023636935317421143), (544, 0.023626660200724035), (3574, 0.023612692088838066), (1056, 0.023599501646240237), (4524, 0.023594742639660913), (4305, 0.023594361487173747), (4050, 0.02357602238979715), (3084, 0.023567154534135926), (3673, 0.02355262587317643), (1567, 0.02354279412747466), (874, 0.023540385161648834), (1244, 0.023539482270676065), (1500, 0.02353900463538782), (988, 0.02353281932329144), (441, 0.02352971153185323), (2110, 0.023488241807079285), (2419, 0.023479659416065835), (4357, 0.023473768894415183), (1039, 0.023469522407383876), (2393, 0.02346895512205754), (4569, 0.023454749342306187), (2758, 0.02345403400333522), (4145, 0.023452690830428287), (35, 0.023450189777943466), (2587, 0.023424529869335124), (926, 0.023421013950681593), (4486, 0.023419931933972543), (2370, 0.023413710038844505), (2551, 0.023407871698826358), (768, 0.023398985994424464), (1656, 0.023395394241290078), (4537, 0.023385108536815635), (31, 0.02338500149769841), (3744, 0.02337658890268121), (4227, 0.02335729450784468), (4068, 0.023344866672701314), (3622, 0.023343975178589195), (1801, 0.023337043248579645), (4097, 0.02332964727155916), (2615, 0.023316857891881326), (581, 0.02328555369795356), (3026, 0.02328154576778303), (383, 0.023279263831250813), (3550, 0.02327487354408583), (3107, 0.023273462827954765), (1660, 0.023273033156594746), (4540, 0.023267023707565233), (4153, 0.023254153014103086), (1512, 0.023249132436689433), (1469, 0.02324156254784057), (4549, 0.023237778168871785), (3314, 0.023237278493846866), (2222, 0.023232214991712297), (3126, 0.02322096712634996), (4269, 0.0232198747909808), (2574, 0.023199651049048704), (4265, 0.02319727467228326), (3965, 0.02319571237550893), (262, 0.023190235136826467), (1258, 0.023187102783120132), (1471, 0.023182857404428443), (1826, 0.02317228922280405), (2887, 0.023161964707849345), (3168, 0.023155420699056843), (3813, 0.023141981502712752), (2968, 0.023131115701044626), (1684, 0.0231310182813207), (2243, 0.023115191812121235), (312, 0.023100635189119173), (4360, 0.023095790919485656), (3683, 0.02308951686085442), (1922, 0.0230884701651943), (1859, 0.023084016093440095), (2322, 0.023083284216146256), (3616, 0.02307488097763985), (3400, 0.02307266295340089), (2380, 0.023070390130560305), (1066, 0.023070056650480064), (1156, 0.02305541642442703), (3353, 0.02304638992877614), (1736, 0.023045341562578814), (607, 0.023041828933831623), (4596, 0.023036035381251242), (3660, 0.023032877626996948), (4742, 0.023028275362916233), (1055, 0.02301681687726079), (1220, 0.023009301157832857), (3305, 0.02300713575277117), (409, 0.02300337584226409), (2632, 0.023002035541125076), (203, 0.023001813141976125), (3535, 0.02300048740489654), (3961, 0.022984767230367104), (4692, 0.022981642675008587), (4496, 0.022978954665447707), (2819, 0.02296314760459918), (2601, 0.022962414230107673), (3672, 0.022959186857882705), (2415, 0.022957623654430027), (1382, 0.022954854146910807), (1270, 0.022954677765955448), (3295, 0.022951692552745807), (2323, 0.02294701757169315), (3006, 0.022944591729371775), (4562, 0.022941576698686704), (881, 0.02293712972264377), (3517, 0.02291292781342177), (523, 0.022911330698209876), (322, 0.022901104629899725), (1461, 0.022894849479677126), (496, 0.022888063130481598), (880, 0.02287519882699184), (668, 0.02287150092528656), (2833, 0.022871070168982023), (275, 0.02286949404320785), (2585, 0.02286073663636474), (3044, 0.02284966020786104), (1771, 0.022846267805550532), (2169, 0.022846093773084605), (4341, 0.022815759562069268), (3657, 0.022801850224143466), (493, 0.02279384537157167), (12, 0.022786930645305663), (3530, 0.0227810693500134), (4128, 0.02276191891720506), (1544, 0.022743086206539684), (107, 0.022730292351599873), (2722, 0.02271581544858474), (3858, 0.02269089949377071), (4430, 0.022690782938797446), (1057, 0.022686785280823074), (650, 0.02268075579310347), (2937, 0.022673785811325647), (2743, 0.02265481351193066), (1388, 0.022644364684693004), (2220, 0.022643571701624416), (849, 0.02263691006961665), (3087, 0.022636694939090277), (1931, 0.022626487880276838), (2621, 0.02262335008566884), (3703, 0.022618266698720704), (1562, 0.02261335464729447), (3112, 0.02260888294064423), (2119, 0.0226071591422912), (4208, 0.022606077486294538), (2847, 0.02260010163112828), (209, 0.022593688087957278), (1377, 0.022589750282930046), (844, 0.022586332409472342), (3237, 0.022583926772393938), (2648, 0.02256395320556728), (3911, 0.022555517193033905), (1278, 0.022554222184426865), (3286, 0.02255054949053979), (2309, 0.022547116337146293), (250, 0.022539819493175822), (2998, 0.02253716630306732), (3939, 0.0225297285051113), (2386, 0.02252428331137113), (421, 0.022513317787364484), (497, 0.022511601755854), (2514, 0.022490319671263137), (3591, 0.022484649492438502), (3994, 0.02246844093801087), (2029, 0.022460737986820817), (4491, 0.0224526044777284), (1299, 0.022447943439694532), (4226, 0.022447705721452223), (653, 0.022446649768968815), (3564, 0.022445793475815174), (411, 0.02244386380642464), (3982, 0.02241171667933005), (1995, 0.02241045852647252), (563, 0.02240555784797348), (1137, 0.022399071213812127), (1484, 0.022394841374414654), (2759, 0.02239169288672348), (1566, 0.022375956322914295), (2162, 0.022370265489829698), (3588, 0.022362378959798965), (2019, 0.022361542677859208), (1239, 0.022361123149094626), (3066, 0.022353608786207305), (489, 0.02234230948693384), (2358, 0.022341414531670056), (4738, 0.02233990394408015), (626, 0.022337785440784776), (1553, 0.022336199864004553), (1893, 0.02233500100020902), (1012, 0.02233085906539006), (1125, 0.022321275822793543), (1759, 0.022297276187800603), (202, 0.02229328482344479), (2991, 0.022292993548269746), (2218, 0.022289355425262627), (1361, 0.02228865094792846), (2274, 0.022287206978202627), (3975, 0.022276858946868875), (2297, 0.02227069820716994), (1833, 0.022262516877860267), (2070, 0.02225485360023325), (633, 0.022253557984004437), (3790, 0.022249638305602094), (3194, 0.0222470227547054), (3251, 0.022246787920462113), (2134, 0.022241422892145216), (2958, 0.022231634122234178), (4626, 0.022229592280202364), (3749, 0.02219249927304567), (567, 0.022190086843489273), (980, 0.02218996666739614), (74, 0.02218730003126717), (367, 0.022178259008324656), (2152, 0.02217500212603278), (2478, 0.02215691221619863), (4207, 0.022154528086918354), (2018, 0.022152328186982588), (2460, 0.02214422778126473), (50, 0.022133537077929626), (3172, 0.022127077694479032), (242, 0.022122798625131685), (4147, 0.022102589945119135), (2532, 0.022101032517441905), (2473, 0.02208805846880997), (3299, 0.02207344517044081), (3854, 0.022071312077436313), (4081, 0.022059050257241232), (2132, 0.02205643204343807), (1601, 0.022053979377990945), (4658, 0.02205031224472521), (2228, 0.022049787972705806), (2979, 0.022041293657766647), (3915, 0.02202715253546498), (218, 0.022020899329413347), (2839, 0.021993307599041306), (4450, 0.021983298876438965), (1890, 0.021981099967207263), (3933, 0.02197756794059103), (847, 0.021974533823428066), (356, 0.021970961521850976), (2644, 0.021939114998940204), (1495, 0.02193369976847661), (1583, 0.021924900815656213), (1936, 0.02192450774670876), (2361, 0.021920069146010912), (77, 0.021908706960342243), (4157, 0.021907988651416747), (4442, 0.021907984178745035), (4114, 0.021901932447107458), (1791, 0.021873530482661874), (141, 0.02186079455398005), (1843, 0.021856276044119362), (2542, 0.021851461624227523), (4402, 0.02184628923003483), (2699, 0.02184303638389987), (2965, 0.02182287181528774), (3754, 0.02180684664246215), (4093, 0.02178525977961266), (4246, 0.021764269043923735), (3292, 0.02176154251920586), (369, 0.021761218804058416), (3247, 0.02175059775425274), (1804, 0.021744749921131554), (2381, 0.021723001417920194), (1343, 0.02170828129601124), (3279, 0.02170758471846424), (1215, 0.021686251399142806), (1280, 0.0216812937996537), (1403, 0.021663607310609782), (310, 0.02165608730781027), (1766, 0.02165074662766717), (1947, 0.02164440387192939), (2490, 0.021638775505353213), (4624, 0.021638581584820737), (1546, 0.021635303349310617), (3782, 0.02162986884104478), (743, 0.021621074489528283), (3264, 0.021612902446313732), (4320, 0.021604061733012166), (4462, 0.02159253403478794), (2595, 0.021591655156728347), (3756, 0.02158062744058971), (4753, 0.02157876115225558), (3817, 0.021578217229241966), (4258, 0.021576380042578863), (4045, 0.021572714960566005), (4052, 0.021566123500874584), (3908, 0.021562862540836267), (1390, 0.021562338317020067), (459, 0.021559065092422246), (2821, 0.021549949155716237), (3180, 0.02153541526828015), (4182, 0.0215315786460788), (1704, 0.021520636411313437), (328, 0.021518925298558075), (4590, 0.021508325117132156), (513, 0.021506579766479537), (14, 0.02149953972089501), (1005, 0.02149935890791302), (346, 0.021485791844052513), (897, 0.021485665114941585), (3048, 0.021439080671211225), (1199, 0.021431047135325156), (2678, 0.021411314990979712), (1303, 0.02140929096360934), (678, 0.021406381031408094), (1576, 0.021388540384861224), (736, 0.021386086952054094), (207, 0.021380202613469537), (3774, 0.021369677649254064), (19, 0.02136630068554443), (2785, 0.021356864551986307), (1728, 0.021354594489222316), (2286, 0.021350075547220137), (747, 0.021347495231530303), (394, 0.021346517005595134), (1434, 0.021343704237475915), (2543, 0.021321298875309393), (235, 0.021319535353819932), (1147, 0.021317009981604126), (2157, 0.021303734250321914), (564, 0.021301633283857743), (2076, 0.021301411452678977), (2398, 0.02129372189256379), (582, 0.021290442713817692), (4645, 0.02128442829311185), (4384, 0.021282147694206173), (795, 0.021277726919892125), (745, 0.021276465473877508), (1375, 0.021276167579369537), (3309, 0.021267937802781467), (1894, 0.02124887342350903), (957, 0.021212186414365307), (2383, 0.021209161871227112), (4025, 0.021208627651237228), (2842, 0.021180776619691942), (4195, 0.021178712646013183), (9, 0.02116794904117334), (2495, 0.02116731031756504), (2711, 0.021165843207368834), (2167, 0.021155169781567885), (1723, 0.021111255650813857), (1790, 0.021104129984374068), (2193, 0.021103150893052362), (889, 0.021102953359495642), (4531, 0.021094214856735714), (1267, 0.02108993010789081), (4392, 0.02108629310830507), (2637, 0.021075873389987367), (3503, 0.02107128905377617), (3680, 0.02107119181911027), (4485, 0.02106625857711596), (4751, 0.021052638925996695), (719, 0.0210493312831906), (1261, 0.021048270134950465), (2905, 0.021045603848679373), (3831, 0.021039575277565767), (528, 0.021036959211657373), (3835, 0.021036066216634935), (1115, 0.02102631874166045), (451, 0.02101990650252189), (237, 0.021017402157207453), (2992, 0.0210120908766638), (4672, 0.020996225784975765), (1876, 0.02097295742262968), (2052, 0.020970752764681036), (4005, 0.0209679734732389), (433, 0.02096473767609456), (748, 0.02096008264126313), (1031, 0.020953126044572213), (4287, 0.020946764953556574), (1924, 0.02093795967639801), (2505, 0.020930287424966717), (3076, 0.0209302707732138), (1898, 0.02090923254625262), (4501, 0.020904247968414856), (2606, 0.020900679317275416), (3278, 0.02088761118369463), (368, 0.02088040134941183), (3133, 0.020879170326806116), (1333, 0.02087337639558716), (502, 0.020870062183964713), (2437, 0.020863748438947706), (4420, 0.020853300116348325), (3064, 0.020847592376481955), (2329, 0.020847027579563644), (4749, 0.020839667225369382), (3929, 0.02083517153079395), (713, 0.02082824063637192), (3386, 0.020825672323427698), (4448, 0.02080860559262417), (1978, 0.020807234780069492), (4353, 0.02080547458227978), (752, 0.020803384100116732), (3342, 0.02080207571735978), (781, 0.020792237169246563), (4352, 0.020791862545456695), (2284, 0.020788859482280528), (243, 0.020777821812058273), (1045, 0.020775304179364688), (576, 0.020770691926652176), (120, 0.020766801977423716), (1585, 0.020748646984870278), (4235, 0.020745167254818633), (1769, 0.02074197789661476), (3499, 0.020739158443890897), (3502, 0.020738042982129057), (3585, 0.02072827777162158), (1665, 0.020710846957762947), (2397, 0.020700154693916926), (896, 0.020684552607205416), (2748, 0.020671343150810262), (3339, 0.020663642144293698), (3832, 0.020659858906158138), (2613, 0.020658204893087694), (1659, 0.02063182049039416), (408, 0.020630557792704503), (1920, 0.020618841714260344), (3085, 0.02061610368416105), (2057, 0.020609901565939805), (856, 0.020609013655516824), (1687, 0.020604548618392532), (102, 0.0206000352773313), (4473, 0.020599223694301956), (2456, 0.020593902894627123), (3900, 0.020566091771972578), (3917, 0.020560779534711398), (2266, 0.020558530210115486), (771, 0.020550781546503034), (4372, 0.020543010418155982), (707, 0.020532541460320297), (979, 0.020531879293701042), (2592, 0.020531415398324433), (507, 0.02052984321114791), (1913, 0.020528084487565528), (3871, 0.02052553655727611), (2814, 0.020519080913178594), (60, 0.020505243627075294), (2069, 0.02050505092425998), (2524, 0.02050183757576458), (4196, 0.02049495984809138), (1277, 0.020486814757895166), (1754, 0.020483090639551293), (524, 0.02047952666094087), (1782, 0.020479411562934837), (4321, 0.020476383547956632), (2835, 0.020475206906387215), (4188, 0.020470713979683718), (2934, 0.020461213902562125), (3257, 0.020452999826210724), (4376, 0.020452366528452687), (128, 0.02044451408753564), (272, 0.02043919805691129), (3060, 0.020437568640578822), (3623, 0.020436476938020524), (43, 0.020427504887827283), (3207, 0.02042115657205263), (3695, 0.020416969960905078), (4660, 0.02041415879234886), (4722, 0.020413017865690684), (4075, 0.020401531172070855), (1513, 0.020395166219720873), (1153, 0.02039177462779208), (1928, 0.020390275985911394), (2584, 0.020390214723535548), (1312, 0.020388281573951304), (510, 0.020384967095037974), (2054, 0.02037961739105298), (3209, 0.020375426371202387), (1863, 0.02037192445054283), (4118, 0.02036259638903096), (3935, 0.020358872406962165), (4419, 0.02034890279724835), (1638, 0.02034842239555297), (3029, 0.020348326750474433), (3546, 0.02034647684216761), (2783, 0.02034313064803575), (1944, 0.020337129025714006), (1155, 0.020331950869231015), (4257, 0.020316792324931776), (1772, 0.02031624054935018), (1262, 0.02031370665956296), (778, 0.020295111838601623), (3225, 0.020286081706192095), (1184, 0.020280991558685752), (1932, 0.02027818092412547), (1526, 0.020273710930874177), (2098, 0.02025930675937906), (3075, 0.02025419294498123), (4553, 0.020252880130816144), (3036, 0.020242747538411363), (4405, 0.02022891065757779), (1797, 0.02022389284004696), (1637, 0.02022253556523859), (1338, 0.020214529468743195), (3840, 0.020204828852286832), (509, 0.020202089102345534), (4330, 0.020187496759418676), (705, 0.02018659057824298), (423, 0.02017120299577055), (70, 0.020152000535607856), (4418, 0.02015047113439429), (627, 0.020137935429790497), (854, 0.02013534009325429), (1274, 0.02013471524156833), (2013, 0.020124725002285244), (345, 0.020121713924488388), (841, 0.020115729386457025), (1582, 0.020108588977175764), (3488, 0.02010535250961596), (2564, 0.02009546842579467), (4278, 0.02009126835410094), (4685, 0.0200878782326867), (392, 0.020079135259502445), (3542, 0.02007240302305795), (541, 0.020065167349811234), (1927, 0.02005826378310029), (2438, 0.020051933540926093), (1172, 0.02004896172437541), (750, 0.020038822610403035), (883, 0.020033351589319334), (1033, 0.0200261250556159), (280, 0.02001403817915372), (4591, 0.0200123641550405), (105, 0.020007913682921544), (2229, 0.02000154625571584), (3007, 0.019998429110319217), (1975, 0.01999578284715539), (2955, 0.01997983722619348), (1895, 0.019978037999094082), (3389, 0.019976432822057355), (942, 0.019974461126782226), (3626, 0.019974281195772), (151, 0.019967135337587733), (2428, 0.01994984607821818), (916, 0.019946715504667634), (4166, 0.019944392171773025), (1415, 0.019939179003647042), (3068, 0.019933705835773842), (3077, 0.01993282823219509), (3761, 0.019919628508050055), (2837, 0.01990973985301503), (3496, 0.0198857932142412), (965, 0.01987251831405148), (3879, 0.01985823893972152), (1563, 0.01983980367388355), (1598, 0.019830241204942974), (4297, 0.019826763145679), (2107, 0.01981431494375832), (4229, 0.019813040806592366), (1550, 0.019812188825319807), (3714, 0.019807975834875462), (1364, 0.019798941307600473), (3934, 0.019793757269824283), (1419, 0.019788937802174347), (3819, 0.019778184393117296), (2539, 0.019774568355343018), (1398, 0.019764648574029754), (1029, 0.019749831846312096), (4382, 0.019746859989811537), (3373, 0.01973247426383366), (2072, 0.019730522931993007), (2288, 0.019718574055920493), (1194, 0.01971457153616754), (4635, 0.01969493434691087), (1319, 0.019690773183795432), (4572, 0.019681076568597484), (594, 0.019673922336972717), (1339, 0.019658776041429266), (2093, 0.019649022211200563), (4746, 0.01964436761494568), (1225, 0.019638576185443634), (1509, 0.01963693927071377), (3825, 0.01962989047532604), (1042, 0.019627465820567458), (4348, 0.01961866321941559), (4179, 0.019615079903777165), (1405, 0.01960753038709547), (787, 0.019605521615432567), (1041, 0.01960344110256763), (2065, 0.01960336297896434), (445, 0.019601330761322783), (289, 0.019593068065139094), (4724, 0.019592536541872967), (4200, 0.01958408700602323), (3688, 0.019565776140768078), (2047, 0.019558943742429967), (3775, 0.019552222157646786), (3708, 0.019550050944056943), (4593, 0.019533375444004117), (1958, 0.01951639113887087), (4284, 0.01951633318300512), (3830, 0.019513932437665582), (2396, 0.019504806923840802), (1422, 0.019494750927795776), (3914, 0.0194808511081173), (385, 0.019449663688641948), (4385, 0.019447104621069966), (1721, 0.019445871104513148), (148, 0.0194452187363215), (3335, 0.01943913468623001), (1091, 0.01943059853570225), (1231, 0.019421252991840623), (370, 0.019416782224975945), (3789, 0.019412678242980798), (3730, 0.019410961397590396), (1604, 0.019409505081809938), (4214, 0.01940929559579612), (3957, 0.019398727522007407), (1957, 0.01939624935933458), (2341, 0.019336367231823207), (670, 0.01931630823789371), (3124, 0.01931340222406446), (1313, 0.01930880111828792), (543, 0.019307368425103243), (749, 0.019304512249751143), (1169, 0.01929762999215151), (851, 0.019288441003342597), (1391, 0.01928499510433608), (4316, 0.019284433466041216), (720, 0.019268513043671553), (450, 0.01926640839308261), (4231, 0.019257725161679992), (2177, 0.019256290719598345), (1734, 0.019241922987907143), (4447, 0.01922638019168721), (4159, 0.019223112893808323), (1265, 0.019203461424719962), (3113, 0.019202650523598017), (2881, 0.0191968856685014), (2754, 0.019188505890695907), (1619, 0.019186643749081567), (1463, 0.019185850326566264), (3603, 0.019180807596129133), (933, 0.019179393758291658), (589, 0.019177208894042248), (786, 0.019161703408285068), (4065, 0.019160657454429585), (632, 0.019158875160449403), (803, 0.019139912660028804), (1578, 0.019128664820738876), (34, 0.019126755478173958), (3644, 0.019125775060584306), (4152, 0.01911141641811823), (2546, 0.01910984509659777), (3161, 0.019095739734840203), (987, 0.01909426989140505), (3144, 0.019089732802272726), (2200, 0.019087367554217256), (3733, 0.019082147113599256), (366, 0.01908135166159597), (3729, 0.019075454224879818), (278, 0.01907297651273552), (1170, 0.01906827945380127), (3956, 0.019067768666306967), (831, 0.019060820400856066), (4070, 0.01905307044278403), (2907, 0.019043116349236215), (98, 0.019035111937222446), (1883, 0.019018312373240406), (1776, 0.01901815012316965), (3050, 0.019010742577538847), (4127, 0.019008886625305418), (4187, 0.019004996570492864), (2906, 0.018995913071546612), (2742, 0.01899423002634258), (1151, 0.018985304834505116), (3018, 0.018981587722383172), (2961, 0.018962914135513625), (4577, 0.01896163844999915), (4445, 0.01895456660781937), (3632, 0.018944912534005313), (1085, 0.01893951635773128), (1697, 0.018928905169047133), (3073, 0.018920549369543016), (2687, 0.018913857492396075), (3082, 0.01891323009285973), (1287, 0.018912415078145072), (2038, 0.018909587072335685), (4168, 0.018907933265504995), (4568, 0.01890676279707797), (1611, 0.01890498087593215), (118, 0.018901157549627727), (4657, 0.018889902026872844), (3128, 0.018886207895685927), (246, 0.018877610937353486), (2330, 0.018872562622316916), (2081, 0.018851479345542314), (2880, 0.018845527525893514), (4483, 0.018844358994509307), (3796, 0.018844096872290182), (2425, 0.018842395344586014), (3844, 0.018823676424340137), (536, 0.018790663471688167), (1368, 0.018787365288747374), (3665, 0.018784406363222574), (2864, 0.01877948518663161), (1548, 0.018773323931591843), (270, 0.01875785419088455), (3333, 0.018754933440637063), (1427, 0.018752014178881747), (2915, 0.01874861658070013), (4605, 0.018746310932717312), (4370, 0.018745226711869047), (1054, 0.01874270919630628), (348, 0.018740741757504113), (4110, 0.018738106154482653), (2970, 0.018734938020296472), (4215, 0.018728502857682034), (1959, 0.018727576997279144), (2611, 0.018721963616981897), (1764, 0.01872046949446418), (150, 0.01870884736985792), (4160, 0.01868675327014233), (4407, 0.018684709489694085), (1102, 0.01866590003429732), (1940, 0.01866516463865081), (1602, 0.018658470169678334), (4716, 0.018629101948925784), (1269, 0.018617790192846404), (954, 0.018617571915574026), (685, 0.018608883192289576), (3718, 0.01860038596016472), (3986, 0.018590831654961358), (2804, 0.018589403379028247), (4730, 0.018581565331807787), (1886, 0.01857910958903118), (1627, 0.018562947383044662), (951, 0.018558081092263697), (1083, 0.018556976979017363), (4173, 0.018554827229541385), (2775, 0.018548968037184654), (4497, 0.01853361048956637), (2628, 0.018513921843395523), (4550, 0.018497888139097782), (1454, 0.018496982335812037), (2853, 0.018494397401658553), (1323, 0.01847723449782448), (3135, 0.018471989162057507), (4643, 0.018459478230878457), (2315, 0.018457721673082777), (1748, 0.018450653414073204), (734, 0.018449911961526157), (1450, 0.018446539198626093), (3358, 0.01842787568776922), (1905, 0.018423897367946494), (1409, 0.018423614153890114), (83, 0.018416714503239305), (1655, 0.018400879861053505), (517, 0.018393456399105543), (3327, 0.018393311618780477), (4137, 0.018378489820900998), (2360, 0.018376748423726393), (514, 0.018366287983566106), (4146, 0.01836150002468159), (475, 0.018351001820943177), (570, 0.018350248211413456), (1494, 0.01835018673119499), (2779, 0.018349468202141114), (2468, 0.018335187525724043), (3273, 0.01833412641950851), (119, 0.018332288197581974), (1810, 0.01832805192002894), (1689, 0.018316561432439597), (1802, 0.01831532353192314), (3388, 0.01831520849076543), (2684, 0.01829510621733657), (2768, 0.018287191198373666), (4228, 0.018271990926473435), (1915, 0.0182603150235099), (3601, 0.018246796864914008), (3382, 0.018229171089088107), (2482, 0.01822817513903222), (1834, 0.018210824931843887), (3042, 0.01820905651455712), (1572, 0.018208639085702572), (2641, 0.01819383792065834), (4035, 0.018190938897621446), (2515, 0.018189140585600852), (2616, 0.01818819250350472), (813, 0.01818374826061299), (2627, 0.018183684883984218), (731, 0.018181489401806993), (2261, 0.018167117308813128), (1354, 0.018159826422435035), (3764, 0.018153843447997975), (3121, 0.018149845568871524), (4588, 0.018143710625534964), (1520, 0.01814259524614865), (2001, 0.0181368805875362), (1437, 0.018133777875989982), (2255, 0.018118949612689176), (1977, 0.01811229267119811), (2022, 0.018111426456503762), (1750, 0.01810791640710687), (2395, 0.0180965466746904), (4421, 0.01809491014127856), (2596, 0.018091790592575447), (1334, 0.01806981008283978), (1468, 0.018061256950914196), (349, 0.01805566535442963), (682, 0.018055302619379952), (1162, 0.018044468083904468), (3539, 0.01803519133886968), (2294, 0.01803289663371927), (4072, 0.018030848571310296), (1322, 0.018015450276989416), (4631, 0.018003208605504088), (2753, 0.01799853749892464), (4528, 0.01799338007857868), (1620, 0.017992144115364556), (4391, 0.017957733669187168), (1891, 0.01793618335056968), (1211, 0.017919524788390033), (4655, 0.017909438578818587), (1714, 0.017899305110573294), (1332, 0.017894257367682735), (13, 0.01789146102975088), (4691, 0.017889786643984506), (1796, 0.017877165417485765), (2416, 0.0178609062613386), (414, 0.017856406303173856), (3510, 0.017850957945528118), (3267, 0.017849908137165204), (4129, 0.017826342488859767), (1249, 0.017823266796578016), (2254, 0.017816616129336042), (2713, 0.017800899927579304), (3896, 0.017800425097639235), (82, 0.017787745333824476), (449, 0.017787168202956533), (2349, 0.017779336259799234), (3521, 0.017773334271484365), (2604, 0.017762737871943397), (2829, 0.017761817297006464), (3106, 0.017751623549369145), (3469, 0.017742619452432704), (3232, 0.017737678234705165), (3548, 0.01773734738867329), (3923, 0.017737075353428527), (215, 0.017708098912927076), (2165, 0.017705984733920318), (2820, 0.017683620184871622), (1402, 0.017676178899747833), (3507, 0.01766386527627496), (2810, 0.01763630785702371), (66, 0.017613653832936713), (1145, 0.01760546359146677), (3301, 0.017602207911179817), (4432, 0.017599225674702276), (4304, 0.017597216088771087), (4523, 0.017593674809138454), (187, 0.017587422682206595), (4090, 0.017567834076063747), (740, 0.017563667183582057), (1676, 0.017559494390534346), (2299, 0.017555877008115343), (1407, 0.01754650269742718), (3381, 0.017532192245377082), (2608, 0.01753055235655748), (1824, 0.01752474376054191), (2197, 0.017516709468123254), (2217, 0.017510166615142476), (1555, 0.017507761837176762), (2429, 0.017507608607771178), (2188, 0.0174948196376329), (2390, 0.017481449726176407), (4533, 0.017468028207265812), (3868, 0.01746087146239338), (2831, 0.017458824909765133), (3024, 0.017451105492828155), (3918, 0.01744864651946405), (2160, 0.017414035775843575), (3820, 0.017411002704298743), (1240, 0.017406904754845166), (1138, 0.017400157564110293), (61, 0.01739861909119741), (539, 0.017396254614585133), (3291, 0.017394111422216814), (183, 0.0173795037655115), (190, 0.017378347230643354), (2382, 0.017337264161996113), (3181, 0.01731414715534426), (2369, 0.017311967138913954), (4293, 0.017304492227868153), (2511, 0.01729766279363159), (823, 0.01729525913627803), (2764, 0.01728561811467951), (2163, 0.01728521703944154), (3357, 0.017283700444504117), (3266, 0.017272486310992565), (1705, 0.017259757099581566), (1359, 0.017256190512649365), (3253, 0.017241403478343898), (737, 0.017231079117142598), (623, 0.017229435053361303), (3687, 0.017227701093734553), (208, 0.017224457358469364), (201, 0.01722086977842848), (2904, 0.01719879776237773), (1186, 0.01718902529496083), (937, 0.01718521903083078), (4113, 0.01717977560275176), (185, 0.017126405380016252), (640, 0.017117069957423847), (4328, 0.017106757953864224), (4066, 0.01710464819519838), (1092, 0.01710437509063916), (1308, 0.017096874490535256), (3791, 0.01709281329051727), (812, 0.01708873954011887), (3664, 0.017083096241763324), (2327, 0.017079518344303664), (2750, 0.01706848224603709), (2046, 0.017049235698471627), (1336, 0.017032333037771876), (547, 0.017014186061003352), (757, 0.017013998331553568), (3707, 0.017004629145329096), (4289, 0.017003859449908405), (2293, 0.016999316423104028), (4191, 0.016982353333248993), (2449, 0.016971355830312482), (643, 0.016967546950653955), (3670, 0.016960727252095215), (2199, 0.016957133153289856), (534, 0.016936500439996234), (665, 0.01693621769963638), (2686, 0.01693507607754784), (1725, 0.016926371346874015), (927, 0.016916176135725408), (1396, 0.01690583412137759), (688, 0.0169028647899767), (1420, 0.01690152955782818), (4217, 0.01690061808703526), (3630, 0.016892755210080733), (3017, 0.016891311645954817), (3725, 0.01688872524405065), (316, 0.016888506395127297), (1600, 0.016883754294702825), (3931, 0.0168777083892072), (4653, 0.01687618343228029), (4478, 0.01682931449012575), (1253, 0.016807638879252507), (1479, 0.016806740778879857), (899, 0.01679700685552199), (1615, 0.016795509622456982), (3009, 0.016780674885116392), (3617, 0.016778894571415313), (1639, 0.016777058598265997), (993, 0.016770310431336623), (402, 0.016764962844030475), (1869, 0.016760551441237368), (1324, 0.016753490197461748), (630, 0.016740191111211146), (2041, 0.016739019503598705), (3895, 0.016731874239152428), (657, 0.016731623365026788), (4201, 0.016717483852921978), (2265, 0.01671398249828219), (3700, 0.016704808895368604), (1062, 0.01668648341473139), (1027, 0.016674382581540484), (4708, 0.01667320272816082), (2573, 0.016665975583967825), (1282, 0.01664354762922446), (3080, 0.016637895430815883), (862, 0.016631172180081578), (3514, 0.016608637151398233), (2593, 0.01660755059167634), (1257, 0.016603392136285283), (2995, 0.016602666141654787), (1672, 0.01660223226071632), (1347, 0.016571962186938315), (3410, 0.016571459566019395), (641, 0.016568640147509417), (3784, 0.01656718283372493), (3845, 0.016563927299437772), (467, 0.016561288295546227), (4620, 0.016552546555746395), (1222, 0.016538860860898688), (1129, 0.016533671069838645), (1268, 0.01651780802466687), (1609, 0.016497938042198602), (1911, 0.01649078591136988), (1196, 0.016485562199666976), (2586, 0.016476415784112828), (239, 0.016466477581086228), (1596, 0.01645996847264468), (549, 0.016449185460351918), (2854, 0.016443674942058017), (3921, 0.016435763297177112), (1360, 0.016434061051782183), (4161, 0.01642310908146978), (2303, 0.016417692052996664), (3866, 0.016398761579077468), (2980, 0.01638298354563427), (1378, 0.016381945199723295), (4238, 0.016376438558976), (174, 0.016367621459281934), (4209, 0.01635693668872197), (315, 0.016337191036077333), (4623, 0.01632097849674115), (2430, 0.016318619288847286), (3375, 0.016305764292548132), (2946, 0.016300931328155598), (3811, 0.01629197790127218), (3805, 0.016290387105371913), (1577, 0.01628844677729031), (2510, 0.016244831795034158), (2556, 0.016229741081478795), (2917, 0.016220153643375358), (425, 0.016212908452210517), (3615, 0.016204144738235574), (4452, 0.0162011179331007), (2826, 0.01617653019879759), (1607, 0.016174009493960383), (140, 0.0161727665378921), (432, 0.016172421673154257), (3602, 0.016168994908178483), (1664, 0.01615348417576409), (1109, 0.016132863543565093), (2036, 0.016130622758289827), (1517, 0.016126292465154), (2033, 0.016123868010222062), (949, 0.016107448902216357), (3596, 0.01610455312775098), (4040, 0.016078813468524394), (2612, 0.016072221880207033), (2056, 0.016072119334193873), (1177, 0.01607098008459136), (1325, 0.01605063419464264), (2231, 0.016040995639182667), (886, 0.016030504817036773), (1478, 0.016023407370354972), (2986, 0.015999997102653672), (4644, 0.015958734233569385), (4280, 0.015948219725358898), (649, 0.015933851215351336), (794, 0.015931984686373756), (690, 0.015926087641338623), (3984, 0.015909831064164028), (4552, 0.015900781658014864), (3662, 0.015893564505477895), (42, 0.015886354947972962), (2720, 0.01587888288850441), (3540, 0.015867403248240215), (1181, 0.01586193769514115), (556, 0.015841432882365804), (129, 0.015838732314216012), (2439, 0.01582599320327566), (4563, 0.015800704334074916), (1171, 0.015754233924591413), (1892, 0.01575314204829901), (2605, 0.015745312372939028), (3440, 0.01574478395955433), (3690, 0.015736538829533353), (4205, 0.015726902776542984), (1643, 0.015711055206890902), (969, 0.015696307089945388), (4481, 0.015695758866620012), (462, 0.015690254236831937), (2434, 0.015690049077999525), (4428, 0.015659857330647824), (2168, 0.015643768400805412), (3330, 0.0156334824639878), (666, 0.015626159878262366), (1800, 0.015608102733089584), (2087, 0.015604056258966123), (3515, 0.015590635342911866), (3482, 0.015588802586599048), (4492, 0.015581461116854965), (2264, 0.015581264421091347), (4697, 0.015560740852374966), (1899, 0.015551905320584248), (791, 0.015548759080951036), (4012, 0.015543678051615415), (3909, 0.015534637012825609), (636, 0.015502878676422683), (371, 0.015490098257522709), (2354, 0.015476595498539827), (1649, 0.015476165271829448), (206, 0.015463447491068823), (4337, 0.01546275245198806), (3366, 0.015448988291150028), (2675, 0.015445690585381294), (273, 0.015432671929066557), (4578, 0.015406897020888419), (469, 0.01539774341438823), (3742, 0.015379448025767874), (1560, 0.015378128282437821), (3302, 0.015376436769714608), (2, 0.015374620423425679), (3902, 0.015358235346437037), (3713, 0.015346974598953863), (3783, 0.015338724458325481), (4276, 0.01533431921662573), (1098, 0.015334098559836543), (59, 0.015316480107638697), (1476, 0.015300742943785094), (1376, 0.015296428145573306), (2982, 0.015267722814596034), (2812, 0.015262780448007312), (1326, 0.0152607968736392), (4567, 0.015252308218445598), (4557, 0.015243612381213679), (1820, 0.015237244848744658), (1752, 0.01523695222144695), (1999, 0.015225722958434919), (4132, 0.015220332801265151), (298, 0.015196445334570086), (1888, 0.015194396737471548), (3352, 0.01519259977664952), (3008, 0.015180774571686494), (1537, 0.015176970700512004), (3472, 0.015168203989614035), (4505, 0.01516688748847026), (1658, 0.0151540076455026), (3659, 0.015152760286965817), (4267, 0.015143951543985207), (184, 0.015143454543509674), (574, 0.015123813363604566), (1702, 0.015119097657563627), (1917, 0.01511703058118016), (2517, 0.015099468683623175), (4, 0.015097041570565769), (2151, 0.015085520765617096), (1166, 0.015084160193805016), (3599, 0.015072727839608321), (4508, 0.015072184983090145), (2379, 0.015071719540553382), (848, 0.015071090778908319), (1839, 0.015056092190872818), (3887, 0.01503763826388552), (565, 0.015033714465813112), (1330, 0.014976403824425695), (113, 0.014933543275291684), (1504, 0.014931866797915486), (3859, 0.014930468152277264), (2108, 0.014929867491503634), (4506, 0.014910418802663476), (4111, 0.014908306105233037), (133, 0.0148953215572263), (1191, 0.014894470637501635), (3256, 0.01488892027945293), (470, 0.014884179001529402), (610, 0.0148704080295661), (3039, 0.014869373074721037), (2333, 0.014856100562617013), (296, 0.014843815729558393), (468, 0.014843239320127707), (671, 0.014841622130343967), (1263, 0.014830208324532782), (293, 0.014827508257994802), (3799, 0.014809546805672473), (1814, 0.014797916169712008), (4520, 0.01479285709659851), (2158, 0.014745555827633858), (621, 0.014735577222288075), (4408, 0.014735305252695693), (3538, 0.014722360129339397), (4468, 0.014722202531654231), (2085, 0.014708349882552624), (2682, 0.014704240424537704), (801, 0.014700173523724606), (4063, 0.014684868056805002), (444, 0.014680160950651533), (3566, 0.014679354560208732), (2651, 0.014652475951367074), (463, 0.014606906339675783), (4662, 0.01460587259033871), (1683, 0.014591988725782871), (3910, 0.014564245671121589), (950, 0.014548763789407816), (2537, 0.014544791200388367), (1452, 0.014544195794338447), (1712, 0.014524432840053121), (3245, 0.014484784066315433), (917, 0.014477522160739094), (3444, 0.014476331739325263), (920, 0.014471394828514832), (3404, 0.014458755448752), (1491, 0.0144550298796302), (3260, 0.014449090801602569), (1823, 0.01444825652218087), (2685, 0.01443628748575546), (176, 0.014424348470826059), (1342, 0.014413530995849962), (2311, 0.014391393673134033), (3685, 0.014331479743017779), (3028, 0.014324021201456648), (1561, 0.014310419039860533), (3200, 0.01431013683845805), (3132, 0.0143047181799182), (1016, 0.01430084490568438), (4459, 0.014300229043166877), (982, 0.014298234547719252), (1654, 0.014296865083112021), (3583, 0.014262214279388622), (1692, 0.014260385803047837), (4109, 0.014258180906878342), (4661, 0.014257728281035316), (1108, 0.014250769201437852), (4213, 0.014236562261693782), (3691, 0.014229980142780905), (3892, 0.014225733507727031), (789, 0.014225533935014155), (244, 0.014213965599143273), (3485, 0.01420639359613563), (890, 0.014191486963446973), (4131, 0.014172109051085818), (2714, 0.014171538820607689), (1141, 0.01417017138834982), (3951, 0.014132364501796132), (1064, 0.014129878723137106), (2674, 0.014128178692211855), (3641, 0.014121401908211055), (3192, 0.014092591035697205), (3869, 0.014090193108809787), (4250, 0.014080598647065144), (2283, 0.014078991282455058), (2519, 0.014060615719201764), (490, 0.014036357805338575), (36, 0.013998607489751356), (776, 0.01399536956508079), (3589, 0.013968052681939718), (1288, 0.013919087051759496), (4507, 0.013914413110808523), (3753, 0.013903015708848478), (2145, 0.013886638730627074), (4322, 0.013875687215123979), (1786, 0.013832868549593268), (127, 0.013815333196738831), (1470, 0.013806012545642428), (1603, 0.01380483907286434), (4151, 0.013780468724338187), (573, 0.013773390089162616), (4368, 0.013767977192696363), (4104, 0.013756092302802995), (2343, 0.013754542402219813), (2848, 0.01375001372843915), (2423, 0.013748182964829051), (571, 0.013746409280800273), (4344, 0.013727055484306683), (759, 0.013719756334962129), (3435, 0.013710153812970095), (4243, 0.013700855639042392), (2342, 0.013679445459864662), (2800, 0.01364128180978975), (837, 0.013629987757419146), (4315, 0.013618542834255475), (655, 0.013595234750164149), (4076, 0.013589994381658605), (3454, 0.013579312822958014), (751, 0.013567760233993972), (323, 0.013555550048605196), (596, 0.013554805210948238), (3034, 0.013543850135166104), (1590, 0.013513588721494269), (1477, 0.01351217013292155), (1340, 0.013496260588806132), (1669, 0.013484994285530863), (53, 0.013458439863954227), (4404, 0.01343515340511681), (4324, 0.013428216639871843), (3815, 0.013423014112123547), (4361, 0.01342246216635771), (3204, 0.013418086097742922), (1049, 0.013412346071569674), (3678, 0.013390531410867098), (1315, 0.01337465569354121), (1256, 0.01337138851802822), (784, 0.013367598445702105), (419, 0.013351243581072106), (3557, 0.013332872439432108), (772, 0.01332285262306673), (4026, 0.013316132588695455), (89, 0.013304939261142429), (2328, 0.01330298604293309), (3265, 0.013302006881507929), (331, 0.013301712931740726), (4367, 0.013299869514049972), (1793, 0.013281423188853893), (1812, 0.013239958006200935), (3905, 0.013231851845687845), (2972, 0.013222188957280851), (1497, 0.013215222458114075), (1013, 0.013212890963999517), (4683, 0.01321190773484802), (3738, 0.013181448883943882), (3864, 0.013175659212197734), (2446, 0.013165829973637263), (2508, 0.013157336458137577), (1123, 0.013139203793994244), (499, 0.013107342535558751), (1486, 0.013102838832116236), (1574, 0.013098182683612748), (4417, 0.013072456561580965), (3307, 0.013063038232393829), (3948, 0.013049216827852062), (2895, 0.013041446113271658), (2058, 0.01303438159917199), (4323, 0.013014479727847821), (1373, 0.01300738781617046), (2589, 0.012992939721436818), (69, 0.012981707934690579), (4190, 0.012965862281957001), (4694, 0.01296367019199937), (4156, 0.01296047945571216), (3640, 0.012950370741001766), (2871, 0.012946731666910813), (81, 0.012930848858422706), (1406, 0.01292806920057367), (850, 0.012926632436372622), (631, 0.012909775518392484), (2858, 0.012885650643095816), (1167, 0.012861161004689592), (4256, 0.012855277108939071), (2289, 0.012833311150843284), (1144, 0.012779721476484865), (3001, 0.01277611707544781), (2125, 0.01276741436724263), (4251, 0.012753651286997618), (2866, 0.012750134868241407), (3505, 0.012749914097470238), (4184, 0.012744679090468346), (3473, 0.012744136218066904), (3985, 0.012738286979945184), (1914, 0.01273654267148588), (4080, 0.012730008970582683), (798, 0.012707921378218653), (3062, 0.012701484521497728), (1699, 0.012694735630194784), (1146, 0.012682814288598307), (4703, 0.012672982147878369), (4400, 0.012668885389099209), (1642, 0.012645399936644874), (1989, 0.012643395867031355), (2455, 0.012641313595881198), (3987, 0.012639688349430434), (3689, 0.012638094183663042), (2523, 0.012631430324229065), (4154, 0.0126217732454421), (466, 0.012595830591698845), (2256, 0.012584116272996111), (2334, 0.012564954138120595), (3950, 0.012562644977209204), (4733, 0.01255769532661817), (3682, 0.012512137110640522), (1238, 0.01250951112151061), (3609, 0.012482485045582524), (4199, 0.01247074364659032), (1460, 0.012448991618112606), (2886, 0.012440355604184487), (1418, 0.012439298854247514), (4024, 0.012437390734313785), (761, 0.012436693687871744), (3837, 0.01241076612451692), (4099, 0.012395630834208984), (430, 0.012387434397535261), (4271, 0.012376447176060354), (1165, 0.012369995435123366), (3577, 0.012355774032805113), (4634, 0.012344569103551056), (3755, 0.012337764873231087), (2565, 0.01233365009380306), (3223, 0.012323983072653005), (2857, 0.01232298139906924), (2885, 0.01231108617344548), (2709, 0.012310654599864329), (4358, 0.012293132974768693), (1581, 0.012276080946506325), (3798, 0.012256666449113331), (2339, 0.012254083300389337), (2704, 0.012250559746758757), (1429, 0.01223864341136827), (887, 0.012236656710491857), (3712, 0.012198744936059332), (3002, 0.01219315793184239), (1106, 0.01215865763589484), (4279, 0.012156562433777229), (2822, 0.012135564507356658), (2715, 0.012129548070497927), (3471, 0.012127174991641322), (3611, 0.012115737547753191), (3545, 0.012085505161544205), (391, 0.012043094679882922), (2332, 0.012035671738522645), (1889, 0.011995015145063573), (3992, 0.011994070239549431), (2420, 0.0119250808107161), (4349, 0.011905679091157775), (197, 0.011885025363793602), (1954, 0.01184266093332981), (4181, 0.011835210327246506), (4633, 0.011832460923742301), (4401, 0.011820208412098857), (4627, 0.011803163434298049), (1984, 0.011797965430246264), (1018, 0.011783965590165996), (4255, 0.011777000755361113), (4579, 0.011766034219828575), (712, 0.01173501727422811), (1075, 0.011716508752726982), (1835, 0.011709995004478882), (1803, 0.011698740724831073), (1352, 0.011697226560976957), (4239, 0.011690472597320627), (1007, 0.011659986248073653), (3332, 0.011615851550537744), (3881, 0.011600539629809694), (3996, 0.01155304983254966), (2533, 0.011547279361916183), (117, 0.011532691137160081), (3604, 0.011500849759159116), (959, 0.011492529432296079), (4600, 0.011478089702345392), (2897, 0.011455557777454242), (4247, 0.011446704097994701), (1067, 0.011408886652248432), (2503, 0.011398547572582837), (4720, 0.011392180685823022), (4581, 0.011387971762997525), (3190, 0.011387219273406093), (4354, 0.011386722734914537), (4739, 0.011371019889702752), (3310, 0.011370822487921916), (619, 0.011348062146930498), (164, 0.011297739929927077), (1960, 0.011293982176697684), (3451, 0.011216220486722503), (1072, 0.011214803880419011), (23, 0.011208328374434126), (4711, 0.011178599874420086), (1988, 0.011175684721389452), (4547, 0.011160653139755916), (4121, 0.011152300945255482), (3842, 0.011132423224867275), (711, 0.011099123994101123), (2031, 0.011081724353594162), (4443, 0.01107354197819125), (580, 0.010993381046390131), (4427, 0.010942112817590076), (2244, 0.01092887718866287), (4453, 0.010924350154960754), (1792, 0.010918166197006555), (4105, 0.01085235052682001), (2346, 0.010833501353239301), (484, 0.010827476126867758), (3898, 0.010807347777252426), (3743, 0.01080141363489417), (2967, 0.010781383624411445), (2448, 0.010779150620209213), (3816, 0.010755951849994946), (1640, 0.010753677388688048), (1444, 0.010751122995355397), (746, 0.010740585066344819), (4526, 0.010740221725646926), (998, 0.010729389303193903), (4571, 0.010717454774987822), (3867, 0.010690053785475565), (1881, 0.010654872085730387), (3224, 0.010646041241709012), (205, 0.010630047127655385), (2179, 0.010621837283104101), (393, 0.010564470341421849), (382, 0.010536183633707535), (4008, 0.010510676029198621), (3634, 0.010507406188244597), (344, 0.010501621061877698), (4710, 0.010500318936886056), (2441, 0.010480138301411871), (1532, 0.010471580948016923), (793, 0.010450512353608358), (2452, 0.01041259902504824), (1986, 0.010372973051955357), (4687, 0.010349202006662424), (3943, 0.010322984607353616), (667, 0.01032159439818425), (2845, 0.010296645648213398), (3422, 0.010278051185979579), (4726, 0.010276445166276536), (1036, 0.010240194925641287), (2936, 0.010191240299937218), (1751, 0.010166002999913475), (2947, 0.010153754564120616), (4074, 0.010124588968340262), (4530, 0.010082763912640697), (1626, 0.01005640448601142), (3656, 0.010035399494082733), (4336, 0.01001912791500802), (1198, 0.00998302222870287), (2307, 0.009955413919741368), (3848, 0.009951158928221914), (826, 0.009929607865650277), (3199, 0.00992119017442366), (2458, 0.00991487779881547), (2373, 0.009877967298759407), (79, 0.009853453885520318), (3089, 0.009842540463169527), (1297, 0.009797321141505647), (681, 0.009786017862250983), (3494, 0.00969383248268241), (3967, 0.00968731731746397), (2496, 0.009672573349398623), (2131, 0.009636092045092793), (2594, 0.00960323186335653), (2657, 0.009551253761610421), (3145, 0.00954344686388696), (3998, 0.009499575090414453), (4130, 0.009479261537965333), (2658, 0.009454122236151297), (4406, 0.009376328311740883), (4112, 0.009372750559747118), (3720, 0.00937209958797697), (3119, 0.00931780907732677), (3283, 0.009268350464721905), (1965, 0.009251632849370988), (1516, 0.009249575658897058), (132, 0.009185602198779504), (4599, 0.00909049405064528), (134, 0.009070477817176337), (960, 0.009067128346702747), (3821, 0.009061987412950757), (1732, 0.009054960404903667), (1212, 0.008996669424547351), (1038, 0.008980802608955478), (1293, 0.008906198408418463), (2462, 0.008902122514652626), (1955, 0.008900579412291719), (3551, 0.008885574186573212), (1286, 0.008846393838327644), (3818, 0.008839200265274728), (1663, 0.008761243971726656), (3989, 0.00872609163908777), (503, 0.008703276344594118), (1767, 0.008582212929679188), (1205, 0.008573008204339566), (1916, 0.008555948840377784), (3056, 0.008555928153983493), (1103, 0.008513245719719509), (505, 0.008433573592938566), (2059, 0.008374002615702189), (4333, 0.008348626014675446), (2153, 0.00830326100546165), (914, 0.008295451229465248), (4688, 0.008259048491717309), (2526, 0.008246599808722044), (1399, 0.008241243201628855), (3988, 0.008223702965470262), (4091, 0.008203404262737624), (1811, 0.008187555816622269), (4680, 0.008141286368137608), (2620, 0.00807650017479564), (1685, 0.008069646919495872), (4369, 0.008028889708979295), (3855, 0.008021822166222279), (2005, 0.008001835056929881), (2060, 0.007935393844738414), (1691, 0.00789902013278484), (2345, 0.007860768548128567), (2300, 0.007851178028506284), (1885, 0.007813883887283452), (3954, 0.007780640358591595), (1589, 0.007717750521471448), (2856, 0.007704777006068979), (901, 0.007697556674769447), (2204, 0.007657095011820698), (487, 0.007577282602992295), (2083, 0.007567325571520519), (4098, 0.007563623251223946), (1570, 0.0074784727904429645), (3808, 0.007445420503900693), (4728, 0.007439091466939045), (4108, 0.007433154600437692), (4044, 0.007359139595937179), (4254, 0.007356804379928377), (1973, 0.007339108094478383), (2923, 0.007295876738004872), (2471, 0.00726914365828953), (1708, 0.007218955329023459), (714, 0.007205267716720959), (3563, 0.00712291133983251), (593, 0.007119541208382296), (3669, 0.007097316168175768), (2064, 0.007033776895330385), (397, 0.007033173875617846), (3241, 0.007023392098798681), (961, 0.006988944961276824), (1745, 0.006925587348075548), (2941, 0.006853926301635033), (601, 0.006846381298194164), (3329, 0.006822071511373771), (17, 0.00681350424443742), (2760, 0.006766718891197471), (2676, 0.006538329346465494), (4083, 0.0064895109972846), (1327, 0.006445856334167185), (2761, 0.006435613432196966), (1641, 0.006435052899240243), (4036, 0.006177615557991095), (709, 0.0061754750226071685), (1514, 0.006144990384955782), (4301, 0.005950901492703125), (3936, 0.005946718124834287), (535, 0.005920935027815542), (3495, 0.0058934829881042835), (71, 0.005868338318043028), (3041, 0.005795848098210554), (3762, 0.005700196759729499), (1921, 0.005698580729680089), (2472, 0.005684077594137202), (1154, 0.005642240598323668), (1813, 0.0056367656927482565), (3595, 0.005612418426482085), (797, 0.005566973521696178), (3916, 0.005548640745869745), (431, 0.005482417845069077), (3197, 0.005448664975811838), (4542, 0.00541756724535283), (4476, 0.005393896961084545), (2500, 0.005358839871109071), (4300, 0.005312773076171413), (1298, 0.005271761910034593), (3889, 0.005267923071391371), (4446, 0.005234338194482801), (4700, 0.005231808111511716), (575, 0.005228791587516685), (4125, 0.005194246995177008), (4069, 0.005056132417912328), (4539, 0.005043662785829997), (2659, 0.004966150645502845), (2987, 0.00483160603151998), (4291, 0.0047848845733815225), (4484, 0.004690744310936006), (2875, 0.004689798380312577), (4041, 0.004599859272579379), (2325, 0.004558808166328766), (4729, 0.004556772560502702), (721, 0.004513542357324992), (4686, 0.004509537176436721), (4185, 0.004469180357481125), (1174, 0.004463334281586533), (361, 0.004452350278434974), (972, 0.0044096636062412806), (4253, 0.004325377395898407), (4058, 0.004313625172635066), (1851, 0.004066523385349506), (230, 0.004020930843631222), (4434, 0.003946433221077081), (3863, 0.003917740521389294), (2253, 0.0036941686972659475), (2445, 0.003395069582683558), (3025, 0.003200810740864539), (4671, 0.0031505451260557013), (1628, 0.002953364923317826), (3072, 0.002704758435061767), (2787, 0.0026681320113745174), (2282, 0.002263865655689309), (4359, 0.002226799222697931), (2025, 0.002038575261409046), (3971, 0.0019575059857219776), (2002, 0.0018491506245232852), (3836, 0.0016510695316408813), (4690, 0.0008671538578823651), (1353, 0.00086586125352075), (2249, 0.0008404622943278919), (1720, 0.0007278956239826543), (1227, 0.0006680491085438076), (1938, 0.0006486325885867113), (3248, 0.0005104450867099551), (1051, 0.0), (2806, 0.0), (3323, 0.0), (3676, 0.0), (4561, 0.0), (4702, 0.0), (4759, 0.0)]\n"
          ]
        }
      ]
    },
    {
      "cell_type": "code",
      "source": [
        "print('Top 30 Movies Suggested for you:\\n')\n",
        "i = 1\n",
        "\n",
        "for movie in Sorted_similar_Movies:\n",
        "  index  = movie[0]\n",
        "  title_from_index = df[df.index == index]['Movie_Title'].values[0]\n",
        "  if (i<31):\n",
        "    print(i,'.',title_from_index)\n",
        "    i+=1\n"
      ],
      "metadata": {
        "colab": {
          "base_uri": "https://localhost:8080/"
        },
        "id": "8mdmcWXmGVdU",
        "outputId": "840b3cd2-d2d3-4e09-d559-727799cd04be"
      },
      "execution_count": 31,
      "outputs": [
        {
          "output_type": "stream",
          "name": "stdout",
          "text": [
            "Top 30 Movies Suggested for you:\n",
            "\n",
            "1 . Niagara\n",
            "2 . The Greatest\n",
            "3 . The Ballad of Jack and Rose\n",
            "4 . The Rose\n",
            "5 . Dead Like Me: Life After Death\n",
            "6 . Silent Hill\n",
            "7 . Sky Captain and the World of Tomorrow\n",
            "8 . Among Giants\n",
            "9 . It's a Wonderful Life\n",
            "10 . Blow\n",
            "11 . Shopgirl\n",
            "12 . Teeth\n",
            "13 . George of the Jungle\n",
            "14 . Titanic\n",
            "15 . Funny People\n",
            "16 . Frozen River\n",
            "17 . A Single Man\n",
            "18 . The Phantom of the Opera\n",
            "19 . Decoys\n",
            "20 . Forrest Gump\n",
            "21 . Joyful Noise\n",
            "22 . What's Love Got to Do with It\n",
            "23 . We Are Marshall\n",
            "24 . Two Weeks Notice\n",
            "25 . Bang\n",
            "26 . The Betrayed\n",
            "27 . Slam\n",
            "28 . Enough\n",
            "29 . Buffalo Soldiers\n",
            "30 . Freeze Frame\n"
          ]
        }
      ]
    },
    {
      "cell_type": "markdown",
      "source": [
        "#**Top 10 Movies Recommendation System**"
      ],
      "metadata": {
        "id": "CL1as2lmIDIE"
      }
    },
    {
      "cell_type": "code",
      "source": [
        "Movie_Name = input('Enter your favourite movie name:')\n",
        "list_of_all_titles = df['Movie_Title'].tolist()\n",
        "Find_close_match = difflib.get_close_matches(Movie_Name, list_of_all_titles)\n",
        "close_match = Find_close_match[0]\n",
        "Index_of_Movie = df[df.Movie_Title == close_match]['Movie_ID'].values[0]\n",
        "Recommendation_score = list(enumerate(similarity_score[Index_of_Movie]))\n",
        "sorted_similar_movies = sorted(Recommendation_score, key = lambda x:x[1], reverse = True)\n",
        "print(\"Top 10 movies suggested for you:\\n\")\n",
        "i = 1\n",
        "for movie in sorted_similar_movies:\n",
        "  index = movie[0]\n",
        "  title_from_index = df[df.Movie_ID == index]['Movie_Title'].values\n",
        "  if (i<11):\n",
        "    print(i,'.',title_from_index)\n",
        "    i+=1"
      ],
      "metadata": {
        "colab": {
          "base_uri": "https://localhost:8080/"
        },
        "id": "0HITs_neH_Uf",
        "outputId": "52a23a6e-3b6c-4ffe-b792-cfd60f511439"
      },
      "execution_count": 32,
      "outputs": [
        {
          "output_type": "stream",
          "name": "stdout",
          "text": [
            "Enter your favourite movie name:avatar\n",
            "Top 10 movies suggested for you:\n",
            "\n",
            "1 . ['Avatar']\n",
            "2 . ['Marci X']\n",
            "3 . ['Agent Cody Banks 2: Destination London']\n",
            "4 . ['Serenity']\n",
            "5 . ['Little Black Book']\n",
            "6 . ['Big Fish']\n",
            "7 . ['Martian Child']\n",
            "8 . ['The Incredible Burt Wonderstone']\n",
            "9 . ['School of Rock']\n",
            "10 . ['The Transporter']\n"
          ]
        }
      ]
    }
  ]
}